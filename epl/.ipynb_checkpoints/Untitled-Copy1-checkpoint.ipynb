{
 "cells": [
  {
   "cell_type": "code",
   "execution_count": null,
   "metadata": {},
   "outputs": [],
   "source": [
    "import pandas as pd"
   ]
  },
  {
   "cell_type": "code",
   "execution_count": null,
   "metadata": {},
   "outputs": [],
   "source": [
    "from sklearn.metrics import accuracy_score,classification_report,confusion_matrix\n",
    "from sklearn.ensemble import RandomForestClassifier\n",
    "from sklearn.svm import SVC, LinearSVC\n",
    "from sklearn.linear_model import LinearRegression\n",
    "# machine learning\n",
    "from sklearn.linear_model import LogisticRegression\n",
    "# from sklearn.svm import SVC, LinearSVC\n",
    "# from sklearn.ensemble import RandomForestClassifier\n",
    "from sklearn.neighbors import KNeighborsClassifier\n",
    "from sklearn.naive_bayes import GaussianNB\n",
    "from sklearn.linear_model import Perceptron\n",
    "from sklearn.linear_model import SGDClassifier\n",
    "from sklearn.tree import DecisionTreeClassifier"
   ]
  },
  {
   "cell_type": "code",
   "execution_count": null,
   "metadata": {},
   "outputs": [],
   "source": [
    "# match_data = pd.read_csv('data-1550808857014.csv')\n",
    "match_data = pd.read_csv('data-1552471888222.csv')"
   ]
  },
  {
   "cell_type": "code",
   "execution_count": null,
   "metadata": {},
   "outputs": [],
   "source": [
    "target_data = pd.read_csv('result3.csv')"
   ]
  },
  {
   "cell_type": "code",
   "execution_count": null,
   "metadata": {},
   "outputs": [],
   "source": [
    "match_data.head()"
   ]
  },
  {
   "cell_type": "code",
   "execution_count": null,
   "metadata": {},
   "outputs": [],
   "source": [
    "target_data.head()"
   ]
  },
  {
   "cell_type": "code",
   "execution_count": null,
   "metadata": {},
   "outputs": [],
   "source": [
    "# match_data = match_data.drop(['away_change_created', 'home_change_created', 'season'], axis=1)\n",
    "match_data = match_data.dropna()"
   ]
  },
  {
   "cell_type": "code",
   "execution_count": null,
   "metadata": {},
   "outputs": [],
   "source": [
    "# target_data = target_data.drop(['away_change_created', 'home_change_created'], axis=1)"
   ]
  },
  {
   "cell_type": "code",
   "execution_count": null,
   "metadata": {},
   "outputs": [],
   "source": [
    "match_data.describe()"
   ]
  },
  {
   "cell_type": "code",
   "execution_count": null,
   "metadata": {},
   "outputs": [],
   "source": [
    "target_data.describe()"
   ]
  },
  {
   "cell_type": "code",
   "execution_count": null,
   "metadata": {},
   "outputs": [],
   "source": [
    "# target_data['weekday'] = target_data['weekday'].astype(float)\n",
    "# target_data['day'] = target_data['day'].astype(float)\n",
    "# target_data['year'] = target_data['year'].astype(float)\n",
    "# target_data['month'] = target_data['month'].astype(float)\n",
    "# target_data['home'] = target_data['home'].astype(float)\n",
    "# target_data['away'] = target_data['away'].astype(float)\n",
    "\n",
    "# target_data['home_won'] = target_data['home_won'].astype(float)\n",
    "# target_data['home_drawn'] = target_data['home_drawn'].astype(float)\n",
    "# target_data['home_lost'] = target_data['home_lost'].astype(float)\n",
    "# target_data['away_won'] = target_data['away_won'].astype(float)\n",
    "# target_data['away_drawn'] = target_data['away_drawn'].astype(float)\n",
    "# target_data['away_lost'] = target_data['away_lost'].astype(float)\n",
    "\n",
    "\n",
    "\n",
    "\n",
    "# match_data['match_date_weekday_id'] = match_data['match_date_weekday_id'].astype(float)\n",
    "# match_data['match_date_month_id'] = match_data['match_date_month_id'].astype(float)\n",
    "# match_data['home_team_name_id'] = match_data['home_team_name_id'].astype(float)\n",
    "# match_data['away_team_name_id'] = match_data['away_team_name_id'].astype(float)\n",
    "# match_data['match_date_year'] = match_data['match_date_year'].astype(float)\n",
    "# match_data['match_date_day'] = match_data['match_date_day'].astype(float)\n",
    "\n",
    "# match_data['home_won'] = match_data['home_won'].astype(float)\n",
    "# match_data['home_drawn'] = match_data['home_drawn'].astype(float)\n",
    "# match_data['home_lost'] = match_data['home_lost'].astype(float)\n",
    "# match_data['away_won'] = match_data['away_won'].astype(float)\n",
    "# match_data['away_drawn'] = match_data['away_drawn'].astype(float)\n",
    "# match_data['away_lost'] = match_data['away_lost'].astype(float)\n",
    "\n",
    "\n",
    "\n",
    "\n",
    "\n",
    "\n",
    "# target_data['match_date_weekday_id'] = target_data['weekday'] / match_data['match_date_weekday_id'].max()\n",
    "# target_data['match_date_day'] = target_data['day'] / match_data['match_date_day'].max()\n",
    "# target_data['year'] = target_data['year'] - match_data['match_date_year'].min()\n",
    "# target_data['match_date_year'] = target_data['year'] / match_data['match_date_year'].max()\n",
    "# target_data['match_date_month_id'] = target_data['month'] / match_data['match_date_month_id'].max()\n",
    "# target_data['home_team_name_id'] = target_data['home'] / match_data['home_team_name_id'].max()\n",
    "# target_data['away_team_name_id'] = target_data['away'] / match_data['away_team_name_id'].max()\n",
    "target_data['match_date_weekday_id'] = target_data['weekday']\n",
    "target_data['match_date_day'] = target_data['day']\n",
    "target_data['match_date_year'] = target_data['year']\n",
    "target_data['match_date_month_id'] = target_data['month']\n",
    "target_data['home_team_name_id'] = target_data['home']\n",
    "target_data['away_team_name_id'] = target_data['away']\n",
    "\n",
    "target_data['position'] = target_data['home_position'] - target_data['away_position']\n",
    "target_data['win_rate'] = (target_data['home_won'] / (target_data['home_won'] + target_data['home_drawn'] + target_data['home_lost'])) - (target_data['away_won'] / (target_data['away_won'] + target_data['away_drawn'] + target_data['away_lost']))\n",
    "target_data['goal_rate'] = (target_data['home_avg_goal'] - target_data['home_avg_conceded']) - (target_data['away_avg_goal'] - target_data['home_avg_conceded'])\n",
    "target_data['clean_sheet'] = target_data['home_clean_sheet'] - target_data['away_clean_sheet']\n",
    "target_data['chance'] = target_data['home_change_created'] - target_data['away_change_created']\n",
    "target_data = target_data.drop([\n",
    "    'home_position', \n",
    "    'away_position', \n",
    "    'home_won', \n",
    "    'home_drawn', \n",
    "    'home_lost', \n",
    "    'away_won',\n",
    "    'away_drawn',\n",
    "    'away_lost',\n",
    "    'home_avg_goal',\n",
    "    'home_avg_conceded',\n",
    "    'away_avg_goal',\n",
    "    'away_avg_conceded',\n",
    "    'home_clean_sheet',\n",
    "    'away_clean_sheet',\n",
    "    'home_change_created',\n",
    "    'away_change_created'\n",
    "], axis=1)\n",
    "target_data = target_data.drop(['home', 'away', 'year', 'day', 'month', 'weekday'], axis=1)\n",
    "target_data = target_data.drop(['match_date_weekday_id', 'match_date_day', 'match_date_year', 'match_date_month_id'], axis=1)\n",
    "match_data = match_data.drop(['match_date_weekday_id', 'match_date_day', 'match_date_year', 'match_date_month_id'], axis=1)\n",
    "match_data = match_data.drop(['home_team_name_id', 'away_team_name_id', 'season'], axis=1)\n",
    "target_data = target_data.drop(['home_team_name_id', 'away_team_name_id'], axis=1)\n",
    "\n",
    "\n",
    "target_data.head()"
   ]
  },
  {
   "cell_type": "code",
   "execution_count": null,
   "metadata": {},
   "outputs": [],
   "source": [
    "# match_data['match_date_year'] = match_data['match_date_year'] - match_data['match_date_year'].min()\n",
    "# match_data['match_date_year'] = match_data['match_date_year'] / match_data['match_date_year'].max()\n",
    "# match_data['match_date_weekday_id'] = match_data['match_date_weekday_id'] / match_data['match_date_weekday_id'].max()\n",
    "# match_data['match_date_day'] = match_data['match_date_day'] / match_data['match_date_day'].max()\n",
    "# match_data['match_date_month_id'] = match_data['match_date_month_id'] / match_data['match_date_month_id'].max()\n",
    "# match_data['home_team_name_id'] = match_data['home_team_name_id'] / match_data['home_team_name_id'].max()\n",
    "# match_data['away_team_name_id'] = match_data['away_team_name_id'] / match_data['away_team_name_id'].max()\n",
    "\n",
    "match_data['position'] = match_data['home_position'] - match_data['away_position']\n",
    "match_data['win_rate'] = (match_data['home_won'] / (match_data['home_won'] + match_data['home_drawn'] + match_data['home_lost'])) - (match_data['away_won'] / (match_data['away_won'] + match_data['away_drawn'] + match_data['away_lost']))\n",
    "match_data['goal_rate'] = (match_data['home_avg_goal'] - match_data['home_avg_conceded']) - (match_data['away_avg_goal'] - match_data['home_avg_conceded'])\n",
    "match_data['clean_sheet'] = match_data['home_clean_sheet'] - match_data['away_clean_sheet']\n",
    "match_data['chance'] = match_data['home_change_created'] - match_data['away_change_created']\n",
    "match_data = match_data.drop(['home_change_created', 'away_change_created', 'home_position', 'away_position', 'home_won', 'home_drawn', 'home_lost', 'away_won', 'away_drawn', 'away_lost', 'home_avg_goal', 'home_avg_conceded', 'away_avg_goal', 'away_avg_conceded', 'home_clean_sheet', 'away_clean_sheet'], axis=1)\n",
    "\n",
    "match_data.head()"
   ]
  },
  {
   "cell_type": "code",
   "execution_count": null,
   "metadata": {},
   "outputs": [],
   "source": [
    "target_name = target_data['homename'] + ' vs ' + target_data['awayname']\n",
    "target_data = target_data.drop(['homename', 'awayname'], axis=1)\n",
    "\n",
    "target_data.head()"
   ]
  },
  {
   "cell_type": "code",
   "execution_count": null,
   "metadata": {},
   "outputs": [],
   "source": [
    "combine = [match_data]\n",
    "for row in combine:\n",
    "    row.loc[row['home_team_goal'] > row['away_team_goal'], 'score'] = 'H'\n",
    "    row.loc[row['home_team_goal'] < row['away_team_goal'], 'score'] = 'A'\n",
    "    row.loc[row['home_team_goal'] == row['away_team_goal'], 'score'] = 'D'\n",
    "# match_data['score'] = match_data['home_team_goal'] - match_data['away_team_goal']\n",
    "# match_data['score'] = match_data['score'] * 1.2\n",
    "# match_data['score'] = match_data['score'] * match_data['match_date_year'] / match_data['match_date_year'].max()"
   ]
  },
  {
   "cell_type": "code",
   "execution_count": null,
   "metadata": {},
   "outputs": [],
   "source": [
    "result = match_data['score']\n",
    "match_data = match_data.drop(['score', 'home_team_goal', 'away_team_goal'], axis=1)\n",
    "match_data.head()"
   ]
  },
  {
   "cell_type": "code",
   "execution_count": null,
   "metadata": {},
   "outputs": [],
   "source": []
  },
  {
   "cell_type": "code",
   "execution_count": null,
   "metadata": {},
   "outputs": [],
   "source": [
    "result.head()"
   ]
  },
  {
   "cell_type": "code",
   "execution_count": null,
   "metadata": {},
   "outputs": [],
   "source": [
    "# def training(amount, arr5, arr6, arr7, arr8):\n",
    "def training(amount, arr1, arr2, arr3, arr4, arr5, arr6, arr7, arr8):\n",
    "    print('amount = %s' % amount)\n",
    "    train_data = match_data[amount:3200]\n",
    "    test_data = match_data[3200:]\n",
    "    train_result = result[amount:3200]\n",
    "    test_result = result[3200:]\n",
    "\n",
    "    acc_list = []\n",
    "\n",
    "    svc = SVC(gamma='auto')\n",
    "    svc.fit(train_data, train_result)\n",
    "    svc_result = svc.predict(test_data)\n",
    "    accuracy = int(float('%.2f' % accuracy_score(test_result, svc_result)) * 100)\n",
    "    arr1.append(accuracy)\n",
    "    acc_list.append(accuracy)\n",
    "    \n",
    "    rf = RandomForestClassifier()\n",
    "    rf.fit(train_data, train_result)\n",
    "    rf_result = rf.predict(test_data)\n",
    "    accuracy = int(float('%.2f' % accuracy_score(test_result, rf_result)) * 100)\n",
    "    arr2.append(accuracy)\n",
    "    acc_list.append(accuracy)\n",
    "    \n",
    "    lsvc = LinearSVC(  )\n",
    "    lsvc.fit(train_data, train_result)\n",
    "    lsvc_result = lsvc.predict(test_data)\n",
    "    accuracy = float('%.2f' % accuracy_score(test_result, lsvc_result)) * 100\n",
    "    arr3.append(accuracy)\n",
    "    acc_list.append(accuracy)\n",
    "    \n",
    "    sgdc = SGDClassifier()\n",
    "    sgdc.fit(train_data, train_result)\n",
    "    sgdc_result = sgdc.predict(test_data)\n",
    "    accuracy = int(float('%.2f' % accuracy_score(test_result, sgdc_result)) * 100)\n",
    "    arr4.append(accuracy)\n",
    "    acc_list.append(accuracy)\n",
    "    \n",
    "    lr = LogisticRegression(multi_class='auto', solver='liblinear')\n",
    "    lr.fit(train_data, train_result)\n",
    "    lr_result = lr.predict(test_data)\n",
    "    accuracy = float('%.2f' % accuracy_score(test_result, lr_result)) * 100\n",
    "    arr5.append(accuracy)\n",
    "    acc_list.append(accuracy)\n",
    "    \n",
    "    knc = KNeighborsClassifier()\n",
    "    knc.fit(train_data, train_result)\n",
    "    knc_result = knc.predict(test_data)\n",
    "    accuracy = float('%.2f' % accuracy_score(test_result, knc_result)) * 100\n",
    "    arr6.append(accuracy)\n",
    "    acc_list.append(accuracy)\n",
    "    \n",
    "    gnb = GaussianNB()\n",
    "    gnb.fit(train_data, train_result)\n",
    "    gnb_result = gnb.predict(test_data)\n",
    "    accuracy = int(float('%.2f' % accuracy_score(test_result, gnb_result)) * 100)\n",
    "    arr7.append(accuracy)\n",
    "    acc_list.append(accuracy)\n",
    "    \n",
    "    dtc = DecisionTreeClassifier()\n",
    "    dtc.fit(train_data, train_result)\n",
    "    dtc_result = dtc.predict(test_data)\n",
    "    accuracy = float('%.2f' % accuracy_score(test_result, dtc_result)) * 100\n",
    "    arr8.append(accuracy)\n",
    "    acc_list.append(accuracy)\n",
    "    print(acc_list)\n",
    "#     return arr5, arr6, arr7, arr8\n",
    "    return arr1, arr2, arr3, arr4, arr5, arr6, arr7, arr8"
   ]
  },
  {
   "cell_type": "code",
   "execution_count": null,
   "metadata": {},
   "outputs": [],
   "source": [
    "import matplotlib.pyplot as plt\n",
    "import numpy as np\n",
    "\n",
    "arr1 = []\n",
    "arr2 = []\n",
    "arr3 = []\n",
    "arr4 = []\n",
    "arr5 = []\n",
    "arr6 = []\n",
    "arr7 = []\n",
    "arr8 = []\n",
    "\n",
    "arr = [1, 2, 3, 4, 5]\n",
    "arr_test = [2, 3, 4, 5, 6]\n",
    "\n",
    "x = np.linspace(1, 32, 32)\n",
    "# print(x)\n",
    "\n",
    "for i in range (0, 3199, 100):\n",
    "    print('i = %s' % i)\n",
    "    arr1, arr2, arr3, arr4, arr5, arr6, arr7, arr8 = training(i, arr1, arr2, arr3, arr4, arr5, arr6, arr7, arr8)\n",
    "#     arr5, arr6, arr7, arr8 = training(i, arr5, arr6, arr7, arr8)\n",
    "# print(len(arr1))\n",
    "# print(len(arr2))\n",
    "# print(len(arr3))\n",
    "# print(len(arr4))\n",
    "# print(len(arr5))\n",
    "# print(len(arr6))\n",
    "# print(len(arr7))\n",
    "# print(len(arr8))\n",
    "# print(len(x))\n",
    "plt.figure()\n",
    "plt.plot(x, arr1)\n",
    "# plt.ylim(0.5, 0.7)\n",
    "# plt.xlabel('Support Vector Machine')\n",
    "\n",
    "plt.figure()\n",
    "plt.plot(x, arr2)\n",
    "plt.ylim(0.5, 0.7)\n",
    "# plt.xlabel('Random Forest')\n",
    "\n",
    "plt.figure()\n",
    "plt.plot(x, arr3)\n",
    "plt.ylim(0.5, 0.7)\n",
    "# plt.xlabel('Linear Support Vector Machine')\n",
    "\n",
    "plt.figure()\n",
    "plt.plot(x, arr4)\n",
    "plt.ylim(0.5, 0.7)\n",
    "# plt.xlabel('Stochastic gradient descent')\n",
    "\n",
    "plt.figure()\n",
    "plt.plot(x, arr5)\n",
    "plt.ylim(0.5, 0.7)\n",
    "# plt.xlabel('Logistic Regression')\n",
    "\n",
    "plt.figure()\n",
    "plt.plot(x, arr6)\n",
    "plt.ylim(0.5, 0.7)\n",
    "# plt.xlabel('KNeighbors')\n",
    "\n",
    "plt.figure()\n",
    "plt.plot(x, arr7)\n",
    "plt.ylim(0.5, 0.7)\n",
    "# plt.xlabel('GaussianNB')\n",
    "\n",
    "plt.figure()\n",
    "plt.plot(x, arr8)\n",
    "plt.ylim(0.5, 0.7)\n",
    "# plt.xlabel('Decision Tree')\n",
    "\n",
    "plt.plot(x=x, y=arr1, color=[0.5, 0.5, 0.5], linestyle='solid')\n",
    "plt.plot(x=x, y=arr2, color=[0.5, 0.5, 0], linestyle='solid')\n",
    "plt.plot(x=x, y=arr3, color=[0.5, 0, 0.5], linestyle='solid')\n",
    "plt.plot(x=x, y=arr4, color=[0.5, 0, 0], linestyle='solid')\n",
    "plt.plot(x=x, y=arr5, color=[0, 0.5, 0.5], linestyle='solid')\n",
    "plt.plot(x=x, y=arr6, color=[0, 0.5, 0], linestyle='solid')\n",
    "plt.plot(x=x, y=arr7, color=[0, 0, 0.5], linestyle='solid')\n",
    "plt.plot(x=x, y=arr8, color=[0, 0, 0], linestyle='solid')\n",
    "plt.show()"
   ]
  },
  {
   "cell_type": "code",
   "execution_count": null,
   "metadata": {},
   "outputs": [],
   "source": [
    "train_data = match_data[2700:3000]\n",
    "test_data = match_data[3000:]\n",
    "train_result = result[2700:3000]\n",
    "test_result = result[3000:]\n",
    "print(len(match_data))"
   ]
  },
  {
   "cell_type": "code",
   "execution_count": null,
   "metadata": {},
   "outputs": [],
   "source": [
    "result.head()"
   ]
  },
  {
   "cell_type": "code",
   "execution_count": null,
   "metadata": {},
   "outputs": [],
   "source": [
    "test_result.head()"
   ]
  },
  {
   "cell_type": "code",
   "execution_count": null,
   "metadata": {},
   "outputs": [],
   "source": [
    "train_result.head()"
   ]
  },
  {
   "cell_type": "code",
   "execution_count": null,
   "metadata": {},
   "outputs": [],
   "source": [
    "train_data.head()"
   ]
  },
  {
   "cell_type": "code",
   "execution_count": null,
   "metadata": {},
   "outputs": [],
   "source": [
    "test_data.head()"
   ]
  },
  {
   "cell_type": "code",
   "execution_count": null,
   "metadata": {},
   "outputs": [],
   "source": []
  },
  {
   "cell_type": "code",
   "execution_count": null,
   "metadata": {},
   "outputs": [],
   "source": [
    "train_data.head()"
   ]
  },
  {
   "cell_type": "code",
   "execution_count": null,
   "metadata": {},
   "outputs": [],
   "source": [
    "train_result.head()"
   ]
  },
  {
   "cell_type": "code",
   "execution_count": null,
   "metadata": {},
   "outputs": [],
   "source": [
    "# Support Vector Machines\n",
    "svc = SVC()\n",
    "svc.fit(train_data, train_result)\n",
    "svc_result = svc.predict(test_data)\n",
    "svc_result"
   ]
  },
  {
   "cell_type": "code",
   "execution_count": null,
   "metadata": {},
   "outputs": [],
   "source": [
    "svc_accuracy = accuracy_score(test_result, svc_result)\n",
    "svc_accuracy"
   ]
  },
  {
   "cell_type": "code",
   "execution_count": null,
   "metadata": {},
   "outputs": [],
   "source": [
    "rf = RandomForestClassifier()\n",
    "rf.fit(train_data, train_result)\n",
    "rf_result = rf.predict(test_data)\n",
    "rf_result"
   ]
  },
  {
   "cell_type": "code",
   "execution_count": null,
   "metadata": {},
   "outputs": [],
   "source": [
    "rf_accuracy = accuracy_score(test_result, rf_result)\n",
    "rf_accuracy"
   ]
  },
  {
   "cell_type": "code",
   "execution_count": null,
   "metadata": {},
   "outputs": [],
   "source": [
    "lsvc = LinearSVC()\n",
    "lsvc.fit(train_data, train_result)\n",
    "lsvc_result = lsvc.predict(test_data)\n",
    "lsvc_result"
   ]
  },
  {
   "cell_type": "code",
   "execution_count": null,
   "metadata": {},
   "outputs": [],
   "source": [
    "lsvc_accuracy = accuracy_score(test_result, lsvc_result)\n",
    "lsvc_accuracy"
   ]
  },
  {
   "cell_type": "code",
   "execution_count": null,
   "metadata": {},
   "outputs": [],
   "source": [
    "from sklearn.linear_model import SGDClassifier\n",
    "sgdc = SGDClassifier()\n",
    "sgdc.fit(train_data, train_result)\n",
    "sgdc_result = sgdc.predict(test_data)\n",
    "sgdc_result"
   ]
  },
  {
   "cell_type": "code",
   "execution_count": null,
   "metadata": {},
   "outputs": [],
   "source": [
    "sgdc_accuracy = accuracy_score(test_result, sgdc_result)\n",
    "sgdc_accuracy"
   ]
  },
  {
   "cell_type": "code",
   "execution_count": null,
   "metadata": {},
   "outputs": [],
   "source": [
    "lr = LogisticRegression()\n",
    "lr.fit(train_data, train_result)\n",
    "lr_result = lr.predict(test_data)\n",
    "lr_result"
   ]
  },
  {
   "cell_type": "code",
   "execution_count": null,
   "metadata": {},
   "outputs": [],
   "source": [
    "lr_accuracy = accuracy_score(test_result, lr_result)\n",
    "lr_accuracy"
   ]
  },
  {
   "cell_type": "code",
   "execution_count": null,
   "metadata": {},
   "outputs": [],
   "source": [
    "knc = KNeighborsClassifier()\n",
    "knc.fit(train_data, train_result)\n",
    "knc_result = knc.predict(test_data)\n",
    "knc_result"
   ]
  },
  {
   "cell_type": "code",
   "execution_count": null,
   "metadata": {},
   "outputs": [],
   "source": [
    "knc_accuracy = accuracy_score(test_result, knc_result)\n",
    "knc_accuracy"
   ]
  },
  {
   "cell_type": "code",
   "execution_count": null,
   "metadata": {},
   "outputs": [],
   "source": [
    "gnb = GaussianNB()\n",
    "gnb.fit(train_data, train_result)\n",
    "gnb_result = gnb.predict(test_data)\n",
    "gnb_result"
   ]
  },
  {
   "cell_type": "code",
   "execution_count": null,
   "metadata": {},
   "outputs": [],
   "source": [
    "gnb_accuracy = accuracy_score(test_result, gnb_result)\n",
    "gnb_accuracy"
   ]
  },
  {
   "cell_type": "code",
   "execution_count": null,
   "metadata": {},
   "outputs": [],
   "source": [
    "dtc = DecisionTreeClassifier()\n",
    "dtc.fit(train_data, train_result)\n",
    "dtc_result = dtc.predict(test_data)\n",
    "dtc_result"
   ]
  },
  {
   "cell_type": "code",
   "execution_count": null,
   "metadata": {},
   "outputs": [],
   "source": [
    "dtc_accuracy = accuracy_score(test_result, dtc_result)\n",
    "dtc_accuracy"
   ]
  },
  {
   "cell_type": "code",
   "execution_count": null,
   "metadata": {},
   "outputs": [],
   "source": [
    "match_data.head()"
   ]
  },
  {
   "cell_type": "code",
   "execution_count": null,
   "metadata": {},
   "outputs": [],
   "source": [
    "target_name.head()"
   ]
  },
  {
   "cell_type": "code",
   "execution_count": null,
   "metadata": {},
   "outputs": [],
   "source": [
    "# target_data['season'] = '201819'\n",
    "target_data.describe()"
   ]
  },
  {
   "cell_type": "code",
   "execution_count": null,
   "metadata": {},
   "outputs": [],
   "source": [
    "result_rate = [[0]*3 for i in range(len(target_data))]"
   ]
  },
  {
   "cell_type": "code",
   "execution_count": null,
   "metadata": {},
   "outputs": [],
   "source": [
    "def calculate(arr, i, result, weight):\n",
    "    if result == 'H':\n",
    "        arr[i][0] = arr[i][0] + 1 * weight\n",
    "    elif result == 'D':\n",
    "        arr[i][1] = arr[i][1] + 1 * weight\n",
    "    else:\n",
    "        arr[i][2] = arr[i][2] + 1 * weight\n",
    "    return arr"
   ]
  },
  {
   "cell_type": "code",
   "execution_count": null,
   "metadata": {},
   "outputs": [],
   "source": [
    "target_result = lr.predict(target_data)\n",
    "print(target_result)\n",
    "i = 0\n",
    "for result in target_result:\n",
    "    print(\"%s => %s\" % (result, target_name[i]))\n",
    "    calculate(result_rate, i, result, lr_accuracy)\n",
    "    i = i + 1"
   ]
  },
  {
   "cell_type": "code",
   "execution_count": null,
   "metadata": {},
   "outputs": [],
   "source": [
    "target_result = gnb.predict(target_data)\n",
    "print(target_result)\n",
    "i = 0\n",
    "for result in target_result:\n",
    "    print(\"%s => %s\" % (result, target_name[i]))\n",
    "    calculate(result_rate, i, result, gnb_accuracy)\n",
    "    i = i + 1"
   ]
  },
  {
   "cell_type": "code",
   "execution_count": null,
   "metadata": {},
   "outputs": [],
   "source": [
    "target_result = svc.predict(target_data)\n",
    "print(target_result)\n",
    "i = 0\n",
    "for result in target_result:\n",
    "    print(\"%s => %s\" % (result, target_name[i]))\n",
    "    calculate(result_rate, i, result, svc_accuracy)\n",
    "    i = i + 1"
   ]
  },
  {
   "cell_type": "code",
   "execution_count": null,
   "metadata": {},
   "outputs": [],
   "source": [
    "target_result = sgdc.predict(target_data)\n",
    "print(target_result)\n",
    "i = 0\n",
    "for result in target_result:\n",
    "    print(\"%s => %s\" % (result, target_name[i]))\n",
    "    calculate(result_rate, i, result, sgdc_accuracy)\n",
    "    i = i + 1"
   ]
  },
  {
   "cell_type": "code",
   "execution_count": null,
   "metadata": {},
   "outputs": [],
   "source": [
    "target_result = lsvc.predict(target_data)\n",
    "print(target_result)\n",
    "i = 0\n",
    "for result in target_result:\n",
    "    print(\"%s => %s\" % (result, target_name[i]))\n",
    "    calculate(result_rate, i, result, lsvc_accuracy)\n",
    "    i = i + 1"
   ]
  },
  {
   "cell_type": "code",
   "execution_count": null,
   "metadata": {},
   "outputs": [],
   "source": [
    "target_result = knc.predict(target_data)\n",
    "print(target_result)\n",
    "i = 0\n",
    "for result in target_result:\n",
    "    print(\"%s => %s\" % (result, target_name[i]))\n",
    "    calculate(result_rate, i, result, knc_accuracy)\n",
    "    i = i + 1"
   ]
  },
  {
   "cell_type": "code",
   "execution_count": null,
   "metadata": {},
   "outputs": [],
   "source": [
    "target_result = rf.predict(target_data)\n",
    "print(target_result)\n",
    "i = 0\n",
    "for result in target_result:\n",
    "    print(\"%s => %s\" % (result, target_name[i]))\n",
    "    calculate(result_rate, i, result, rf_accuracy)\n",
    "    i = i + 1"
   ]
  },
  {
   "cell_type": "code",
   "execution_count": null,
   "metadata": {},
   "outputs": [],
   "source": [
    "target_result = dtc.predict(target_data)\n",
    "print(target_result)\n",
    "i = 0\n",
    "for result in target_result:\n",
    "    print(\"%s => %s\" % (result, target_name[i]))\n",
    "    calculate(result_rate, i, result, dtc_accuracy)\n",
    "    i = i + 1"
   ]
  },
  {
   "cell_type": "code",
   "execution_count": null,
   "metadata": {},
   "outputs": [],
   "source": [
    "i = 0\n",
    "for result in result_rate:\n",
    "    print(\"[%.2f, %.2f, %.2f] => %s\" % (result[0], result[1], result[2], target_name[i]))\n",
    "    i = i + 1"
   ]
  },
  {
   "cell_type": "code",
   "execution_count": null,
   "metadata": {},
   "outputs": [],
   "source": []
  },
  {
   "cell_type": "code",
   "execution_count": null,
   "metadata": {},
   "outputs": [],
   "source": []
  },
  {
   "cell_type": "code",
   "execution_count": null,
   "metadata": {},
   "outputs": [],
   "source": []
  }
 ],
 "metadata": {
  "kernelspec": {
   "display_name": "Python 3",
   "language": "python",
   "name": "python3"
  },
  "language_info": {
   "codemirror_mode": {
    "name": "ipython",
    "version": 3
   },
   "file_extension": ".py",
   "mimetype": "text/x-python",
   "name": "python",
   "nbconvert_exporter": "python",
   "pygments_lexer": "ipython3",
   "version": "3.6.7"
  }
 },
 "nbformat": 4,
 "nbformat_minor": 2
}
