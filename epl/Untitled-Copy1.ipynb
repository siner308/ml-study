{
 "cells": [
  {
   "cell_type": "code",
   "execution_count": 1,
   "metadata": {},
   "outputs": [],
   "source": [
    "import pandas as pd"
   ]
  },
  {
   "cell_type": "code",
   "execution_count": 2,
   "metadata": {},
   "outputs": [],
   "source": [
    "from sklearn.metrics import accuracy_score,classification_report,confusion_matrix\n",
    "from sklearn.ensemble import RandomForestClassifier\n",
    "from sklearn.svm import SVC, LinearSVC\n",
    "from sklearn.linear_model import LinearRegression\n",
    "# machine learning\n",
    "from sklearn.linear_model import LogisticRegression\n",
    "# from sklearn.svm import SVC, LinearSVC\n",
    "# from sklearn.ensemble import RandomForestClassifier\n",
    "from sklearn.neighbors import KNeighborsClassifier\n",
    "from sklearn.naive_bayes import GaussianNB\n",
    "from sklearn.linear_model import Perceptron\n",
    "from sklearn.linear_model import SGDClassifier\n",
    "from sklearn.tree import DecisionTreeClassifier"
   ]
  },
  {
   "cell_type": "code",
   "execution_count": 3,
   "metadata": {},
   "outputs": [],
   "source": [
    "# match_data = pd.read_csv('data-1550808857014.csv')\n",
    "match_data = pd.read_csv('data-1552471888222.csv')"
   ]
  },
  {
   "cell_type": "code",
   "execution_count": 4,
   "metadata": {},
   "outputs": [],
   "source": [
    "target_data = pd.read_csv('result3.csv')"
   ]
  },
  {
   "cell_type": "code",
   "execution_count": 5,
   "metadata": {},
   "outputs": [
    {
     "data": {
      "text/html": [
       "<div>\n",
       "<style scoped>\n",
       "    .dataframe tbody tr th:only-of-type {\n",
       "        vertical-align: middle;\n",
       "    }\n",
       "\n",
       "    .dataframe tbody tr th {\n",
       "        vertical-align: top;\n",
       "    }\n",
       "\n",
       "    .dataframe thead th {\n",
       "        text-align: right;\n",
       "    }\n",
       "</style>\n",
       "<table border=\"1\" class=\"dataframe\">\n",
       "  <thead>\n",
       "    <tr style=\"text-align: right;\">\n",
       "      <th></th>\n",
       "      <th>match_date_weekday_id</th>\n",
       "      <th>match_date_day</th>\n",
       "      <th>match_date_month_id</th>\n",
       "      <th>match_date_year</th>\n",
       "      <th>away_team_name_id</th>\n",
       "      <th>home_team_name_id</th>\n",
       "      <th>home_position</th>\n",
       "      <th>home_won</th>\n",
       "      <th>home_drawn</th>\n",
       "      <th>home_lost</th>\n",
       "      <th>...</th>\n",
       "      <th>away_avg_goal</th>\n",
       "      <th>away_change_created</th>\n",
       "      <th>away_clean_sheet</th>\n",
       "      <th>away_drawn</th>\n",
       "      <th>away_lost</th>\n",
       "      <th>away_position</th>\n",
       "      <th>away_won</th>\n",
       "      <th>season</th>\n",
       "      <th>home_team_goal</th>\n",
       "      <th>away_team_goal</th>\n",
       "    </tr>\n",
       "  </thead>\n",
       "  <tbody>\n",
       "    <tr>\n",
       "      <th>0</th>\n",
       "      <td>6</td>\n",
       "      <td>21</td>\n",
       "      <td>4</td>\n",
       "      <td>2007</td>\n",
       "      <td>13.0</td>\n",
       "      <td>6.0</td>\n",
       "      <td>20.0</td>\n",
       "      <td>5.0</td>\n",
       "      <td>13.0</td>\n",
       "      <td>20.0</td>\n",
       "      <td>...</td>\n",
       "      <td>0.76</td>\n",
       "      <td>NaN</td>\n",
       "      <td>14.0</td>\n",
       "      <td>9.0</td>\n",
       "      <td>18.0</td>\n",
       "      <td>14.0</td>\n",
       "      <td>11.0</td>\n",
       "      <td>200607</td>\n",
       "      <td>1.0</td>\n",
       "      <td>1.0</td>\n",
       "    </tr>\n",
       "    <tr>\n",
       "      <th>1</th>\n",
       "      <td>6</td>\n",
       "      <td>21</td>\n",
       "      <td>4</td>\n",
       "      <td>2007</td>\n",
       "      <td>NaN</td>\n",
       "      <td>NaN</td>\n",
       "      <td>NaN</td>\n",
       "      <td>NaN</td>\n",
       "      <td>NaN</td>\n",
       "      <td>NaN</td>\n",
       "      <td>...</td>\n",
       "      <td>NaN</td>\n",
       "      <td>NaN</td>\n",
       "      <td>NaN</td>\n",
       "      <td>NaN</td>\n",
       "      <td>NaN</td>\n",
       "      <td>NaN</td>\n",
       "      <td>NaN</td>\n",
       "      <td>200607</td>\n",
       "      <td>NaN</td>\n",
       "      <td>NaN</td>\n",
       "    </tr>\n",
       "    <tr>\n",
       "      <th>2</th>\n",
       "      <td>7</td>\n",
       "      <td>22</td>\n",
       "      <td>4</td>\n",
       "      <td>2007</td>\n",
       "      <td>25.0</td>\n",
       "      <td>16.0</td>\n",
       "      <td>1.0</td>\n",
       "      <td>28.0</td>\n",
       "      <td>5.0</td>\n",
       "      <td>5.0</td>\n",
       "      <td>...</td>\n",
       "      <td>1.16</td>\n",
       "      <td>NaN</td>\n",
       "      <td>9.0</td>\n",
       "      <td>10.0</td>\n",
       "      <td>16.0</td>\n",
       "      <td>12.0</td>\n",
       "      <td>12.0</td>\n",
       "      <td>200607</td>\n",
       "      <td>1.0</td>\n",
       "      <td>1.0</td>\n",
       "    </tr>\n",
       "    <tr>\n",
       "      <th>3</th>\n",
       "      <td>7</td>\n",
       "      <td>22</td>\n",
       "      <td>4</td>\n",
       "      <td>2007</td>\n",
       "      <td>4.0</td>\n",
       "      <td>22.0</td>\n",
       "      <td>13.0</td>\n",
       "      <td>11.0</td>\n",
       "      <td>10.0</td>\n",
       "      <td>17.0</td>\n",
       "      <td>...</td>\n",
       "      <td>1.68</td>\n",
       "      <td>NaN</td>\n",
       "      <td>22.0</td>\n",
       "      <td>11.0</td>\n",
       "      <td>3.0</td>\n",
       "      <td>2.0</td>\n",
       "      <td>24.0</td>\n",
       "      <td>200607</td>\n",
       "      <td>0.0</td>\n",
       "      <td>0.0</td>\n",
       "    </tr>\n",
       "    <tr>\n",
       "      <th>4</th>\n",
       "      <td>1</td>\n",
       "      <td>23</td>\n",
       "      <td>4</td>\n",
       "      <td>2007</td>\n",
       "      <td>36.0</td>\n",
       "      <td>28.0</td>\n",
       "      <td>11.0</td>\n",
       "      <td>11.0</td>\n",
       "      <td>17.0</td>\n",
       "      <td>10.0</td>\n",
       "      <td>...</td>\n",
       "      <td>1.18</td>\n",
       "      <td>NaN</td>\n",
       "      <td>12.0</td>\n",
       "      <td>12.0</td>\n",
       "      <td>12.0</td>\n",
       "      <td>9.0</td>\n",
       "      <td>14.0</td>\n",
       "      <td>200607</td>\n",
       "      <td>0.0</td>\n",
       "      <td>0.0</td>\n",
       "    </tr>\n",
       "  </tbody>\n",
       "</table>\n",
       "<p>5 rows × 25 columns</p>\n",
       "</div>"
      ],
      "text/plain": [
       "   match_date_weekday_id  match_date_day  match_date_month_id  \\\n",
       "0                      6              21                    4   \n",
       "1                      6              21                    4   \n",
       "2                      7              22                    4   \n",
       "3                      7              22                    4   \n",
       "4                      1              23                    4   \n",
       "\n",
       "   match_date_year  away_team_name_id  home_team_name_id  home_position  \\\n",
       "0             2007               13.0                6.0           20.0   \n",
       "1             2007                NaN                NaN            NaN   \n",
       "2             2007               25.0               16.0            1.0   \n",
       "3             2007                4.0               22.0           13.0   \n",
       "4             2007               36.0               28.0           11.0   \n",
       "\n",
       "   home_won  home_drawn  home_lost       ...        away_avg_goal  \\\n",
       "0       5.0        13.0       20.0       ...                 0.76   \n",
       "1       NaN         NaN        NaN       ...                  NaN   \n",
       "2      28.0         5.0        5.0       ...                 1.16   \n",
       "3      11.0        10.0       17.0       ...                 1.68   \n",
       "4      11.0        17.0       10.0       ...                 1.18   \n",
       "\n",
       "   away_change_created  away_clean_sheet  away_drawn  away_lost  \\\n",
       "0                  NaN              14.0         9.0       18.0   \n",
       "1                  NaN               NaN         NaN        NaN   \n",
       "2                  NaN               9.0        10.0       16.0   \n",
       "3                  NaN              22.0        11.0        3.0   \n",
       "4                  NaN              12.0        12.0       12.0   \n",
       "\n",
       "   away_position  away_won  season  home_team_goal  away_team_goal  \n",
       "0           14.0      11.0  200607             1.0             1.0  \n",
       "1            NaN       NaN  200607             NaN             NaN  \n",
       "2           12.0      12.0  200607             1.0             1.0  \n",
       "3            2.0      24.0  200607             0.0             0.0  \n",
       "4            9.0      14.0  200607             0.0             0.0  \n",
       "\n",
       "[5 rows x 25 columns]"
      ]
     },
     "execution_count": 5,
     "metadata": {},
     "output_type": "execute_result"
    }
   ],
   "source": [
    "match_data.head()"
   ]
  },
  {
   "cell_type": "code",
   "execution_count": 6,
   "metadata": {},
   "outputs": [
    {
     "data": {
      "text/html": [
       "<div>\n",
       "<style scoped>\n",
       "    .dataframe tbody tr th:only-of-type {\n",
       "        vertical-align: middle;\n",
       "    }\n",
       "\n",
       "    .dataframe tbody tr th {\n",
       "        vertical-align: top;\n",
       "    }\n",
       "\n",
       "    .dataframe thead th {\n",
       "        text-align: right;\n",
       "    }\n",
       "</style>\n",
       "<table border=\"1\" class=\"dataframe\">\n",
       "  <thead>\n",
       "    <tr style=\"text-align: right;\">\n",
       "      <th></th>\n",
       "      <th>weekday</th>\n",
       "      <th>day</th>\n",
       "      <th>month</th>\n",
       "      <th>year</th>\n",
       "      <th>home</th>\n",
       "      <th>away</th>\n",
       "      <th>homename</th>\n",
       "      <th>awayname</th>\n",
       "      <th>home_position</th>\n",
       "      <th>away_position</th>\n",
       "      <th>...</th>\n",
       "      <th>home_lost</th>\n",
       "      <th>away_lost</th>\n",
       "      <th>home_avg_goal</th>\n",
       "      <th>away_avg_goal</th>\n",
       "      <th>home_avg_conceded</th>\n",
       "      <th>away_avg_conceded</th>\n",
       "      <th>home_clean_sheet</th>\n",
       "      <th>away_clean_sheet</th>\n",
       "      <th>home_change_created</th>\n",
       "      <th>away_change_created</th>\n",
       "    </tr>\n",
       "  </thead>\n",
       "  <tbody>\n",
       "    <tr>\n",
       "      <th>0</th>\n",
       "      <td>6</td>\n",
       "      <td>30</td>\n",
       "      <td>3</td>\n",
       "      <td>2019</td>\n",
       "      <td>14</td>\n",
       "      <td>13</td>\n",
       "      <td>Fulham</td>\n",
       "      <td>Manchester City</td>\n",
       "      <td>19</td>\n",
       "      <td>2</td>\n",
       "      <td>...</td>\n",
       "      <td>22</td>\n",
       "      <td>4</td>\n",
       "      <td>0.94</td>\n",
       "      <td>2.63</td>\n",
       "      <td>2.26</td>\n",
       "      <td>0.70</td>\n",
       "      <td>2</td>\n",
       "      <td>14</td>\n",
       "      <td>1.23</td>\n",
       "      <td>2.80</td>\n",
       "    </tr>\n",
       "    <tr>\n",
       "      <th>1</th>\n",
       "      <td>7</td>\n",
       "      <td>31</td>\n",
       "      <td>3</td>\n",
       "      <td>2019</td>\n",
       "      <td>15</td>\n",
       "      <td>1</td>\n",
       "      <td>Brighton and Hove Albion</td>\n",
       "      <td>Southampton</td>\n",
       "      <td>15</td>\n",
       "      <td>16</td>\n",
       "      <td>...</td>\n",
       "      <td>14</td>\n",
       "      <td>14</td>\n",
       "      <td>1.10</td>\n",
       "      <td>1.13</td>\n",
       "      <td>1.45</td>\n",
       "      <td>1.67</td>\n",
       "      <td>6</td>\n",
       "      <td>6</td>\n",
       "      <td>1.00</td>\n",
       "      <td>1.13</td>\n",
       "    </tr>\n",
       "    <tr>\n",
       "      <th>2</th>\n",
       "      <td>7</td>\n",
       "      <td>31</td>\n",
       "      <td>3</td>\n",
       "      <td>2019</td>\n",
       "      <td>24</td>\n",
       "      <td>9</td>\n",
       "      <td>Burnley</td>\n",
       "      <td>Wolverhampton Wanderers</td>\n",
       "      <td>17</td>\n",
       "      <td>7</td>\n",
       "      <td>...</td>\n",
       "      <td>17</td>\n",
       "      <td>10</td>\n",
       "      <td>1.13</td>\n",
       "      <td>1.27</td>\n",
       "      <td>1.90</td>\n",
       "      <td>1.20</td>\n",
       "      <td>6</td>\n",
       "      <td>7</td>\n",
       "      <td>1.23</td>\n",
       "      <td>1.70</td>\n",
       "    </tr>\n",
       "    <tr>\n",
       "      <th>3</th>\n",
       "      <td>7</td>\n",
       "      <td>31</td>\n",
       "      <td>3</td>\n",
       "      <td>2019</td>\n",
       "      <td>2</td>\n",
       "      <td>12</td>\n",
       "      <td>Crystal Palace</td>\n",
       "      <td>Huddersfield Town</td>\n",
       "      <td>14</td>\n",
       "      <td>20</td>\n",
       "      <td>...</td>\n",
       "      <td>15</td>\n",
       "      <td>23</td>\n",
       "      <td>1.20</td>\n",
       "      <td>0.58</td>\n",
       "      <td>1.37</td>\n",
       "      <td>1.84</td>\n",
       "      <td>9</td>\n",
       "      <td>5</td>\n",
       "      <td>0.93</td>\n",
       "      <td>0.65</td>\n",
       "    </tr>\n",
       "    <tr>\n",
       "      <th>4</th>\n",
       "      <td>7</td>\n",
       "      <td>31</td>\n",
       "      <td>3</td>\n",
       "      <td>2019</td>\n",
       "      <td>8</td>\n",
       "      <td>3</td>\n",
       "      <td>Leicester City</td>\n",
       "      <td>AFC Bournemouth</td>\n",
       "      <td>10</td>\n",
       "      <td>12</td>\n",
       "      <td>...</td>\n",
       "      <td>14</td>\n",
       "      <td>15</td>\n",
       "      <td>1.29</td>\n",
       "      <td>1.39</td>\n",
       "      <td>1.39</td>\n",
       "      <td>1.81</td>\n",
       "      <td>7</td>\n",
       "      <td>8</td>\n",
       "      <td>1.42</td>\n",
       "      <td>1.84</td>\n",
       "    </tr>\n",
       "  </tbody>\n",
       "</table>\n",
       "<p>5 rows × 24 columns</p>\n",
       "</div>"
      ],
      "text/plain": [
       "   weekday  day  month  year  home  away                  homename  \\\n",
       "0        6   30      3  2019    14    13                    Fulham   \n",
       "1        7   31      3  2019    15     1  Brighton and Hove Albion   \n",
       "2        7   31      3  2019    24     9                   Burnley   \n",
       "3        7   31      3  2019     2    12            Crystal Palace   \n",
       "4        7   31      3  2019     8     3            Leicester City   \n",
       "\n",
       "                  awayname  home_position  away_position         ...           \\\n",
       "0          Manchester City             19              2         ...            \n",
       "1              Southampton             15             16         ...            \n",
       "2  Wolverhampton Wanderers             17              7         ...            \n",
       "3        Huddersfield Town             14             20         ...            \n",
       "4          AFC Bournemouth             10             12         ...            \n",
       "\n",
       "   home_lost  away_lost  home_avg_goal  away_avg_goal  home_avg_conceded  \\\n",
       "0         22          4           0.94           2.63               2.26   \n",
       "1         14         14           1.10           1.13               1.45   \n",
       "2         17         10           1.13           1.27               1.90   \n",
       "3         15         23           1.20           0.58               1.37   \n",
       "4         14         15           1.29           1.39               1.39   \n",
       "\n",
       "   away_avg_conceded  home_clean_sheet  away_clean_sheet  home_change_created  \\\n",
       "0               0.70                 2                14                 1.23   \n",
       "1               1.67                 6                 6                 1.00   \n",
       "2               1.20                 6                 7                 1.23   \n",
       "3               1.84                 9                 5                 0.93   \n",
       "4               1.81                 7                 8                 1.42   \n",
       "\n",
       "   away_change_created  \n",
       "0                 2.80  \n",
       "1                 1.13  \n",
       "2                 1.70  \n",
       "3                 0.65  \n",
       "4                 1.84  \n",
       "\n",
       "[5 rows x 24 columns]"
      ]
     },
     "execution_count": 6,
     "metadata": {},
     "output_type": "execute_result"
    }
   ],
   "source": [
    "target_data.head()"
   ]
  },
  {
   "cell_type": "code",
   "execution_count": 7,
   "metadata": {},
   "outputs": [],
   "source": [
    "# match_data = match_data.drop(['away_change_created', 'home_change_created', 'season'], axis=1)\n",
    "match_data = match_data.dropna()"
   ]
  },
  {
   "cell_type": "code",
   "execution_count": 8,
   "metadata": {},
   "outputs": [],
   "source": [
    "# target_data = target_data.drop(['away_change_created', 'home_change_created'], axis=1)"
   ]
  },
  {
   "cell_type": "code",
   "execution_count": 9,
   "metadata": {},
   "outputs": [
    {
     "data": {
      "text/html": [
       "<div>\n",
       "<style scoped>\n",
       "    .dataframe tbody tr th:only-of-type {\n",
       "        vertical-align: middle;\n",
       "    }\n",
       "\n",
       "    .dataframe tbody tr th {\n",
       "        vertical-align: top;\n",
       "    }\n",
       "\n",
       "    .dataframe thead th {\n",
       "        text-align: right;\n",
       "    }\n",
       "</style>\n",
       "<table border=\"1\" class=\"dataframe\">\n",
       "  <thead>\n",
       "    <tr style=\"text-align: right;\">\n",
       "      <th></th>\n",
       "      <th>match_date_weekday_id</th>\n",
       "      <th>match_date_day</th>\n",
       "      <th>match_date_month_id</th>\n",
       "      <th>match_date_year</th>\n",
       "      <th>away_team_name_id</th>\n",
       "      <th>home_team_name_id</th>\n",
       "      <th>home_position</th>\n",
       "      <th>home_won</th>\n",
       "      <th>home_drawn</th>\n",
       "      <th>home_lost</th>\n",
       "      <th>...</th>\n",
       "      <th>away_avg_goal</th>\n",
       "      <th>away_change_created</th>\n",
       "      <th>away_clean_sheet</th>\n",
       "      <th>away_drawn</th>\n",
       "      <th>away_lost</th>\n",
       "      <th>away_position</th>\n",
       "      <th>away_won</th>\n",
       "      <th>season</th>\n",
       "      <th>home_team_goal</th>\n",
       "      <th>away_team_goal</th>\n",
       "    </tr>\n",
       "  </thead>\n",
       "  <tbody>\n",
       "    <tr>\n",
       "      <th>count</th>\n",
       "      <td>3337.000000</td>\n",
       "      <td>3337.00000</td>\n",
       "      <td>3337.000000</td>\n",
       "      <td>3337.000000</td>\n",
       "      <td>3337.000000</td>\n",
       "      <td>3337.000000</td>\n",
       "      <td>3337.000000</td>\n",
       "      <td>3337.000000</td>\n",
       "      <td>3337.000000</td>\n",
       "      <td>3337.000000</td>\n",
       "      <td>...</td>\n",
       "      <td>3337.000000</td>\n",
       "      <td>3337.000000</td>\n",
       "      <td>3337.000000</td>\n",
       "      <td>3337.000000</td>\n",
       "      <td>3337.000000</td>\n",
       "      <td>3337.000000</td>\n",
       "      <td>3337.000000</td>\n",
       "      <td>3337.000000</td>\n",
       "      <td>3337.000000</td>\n",
       "      <td>3337.000000</td>\n",
       "    </tr>\n",
       "    <tr>\n",
       "      <th>mean</th>\n",
       "      <td>5.970932</td>\n",
       "      <td>15.60923</td>\n",
       "      <td>6.741085</td>\n",
       "      <td>2014.383878</td>\n",
       "      <td>15.010189</td>\n",
       "      <td>15.025172</td>\n",
       "      <td>10.502248</td>\n",
       "      <td>13.982919</td>\n",
       "      <td>9.307761</td>\n",
       "      <td>13.986215</td>\n",
       "      <td>...</td>\n",
       "      <td>1.373749</td>\n",
       "      <td>1.290342</td>\n",
       "      <td>10.427630</td>\n",
       "      <td>9.308361</td>\n",
       "      <td>13.984717</td>\n",
       "      <td>10.499251</td>\n",
       "      <td>13.983818</td>\n",
       "      <td>201405.042254</td>\n",
       "      <td>1.556488</td>\n",
       "      <td>1.189691</td>\n",
       "    </tr>\n",
       "    <tr>\n",
       "      <th>std</th>\n",
       "      <td>2.923289</td>\n",
       "      <td>9.14512</td>\n",
       "      <td>3.973771</td>\n",
       "      <td>2.555221</td>\n",
       "      <td>8.803573</td>\n",
       "      <td>8.798502</td>\n",
       "      <td>5.768834</td>\n",
       "      <td>5.985845</td>\n",
       "      <td>2.983816</td>\n",
       "      <td>5.480163</td>\n",
       "      <td>...</td>\n",
       "      <td>0.433869</td>\n",
       "      <td>0.456891</td>\n",
       "      <td>3.846296</td>\n",
       "      <td>2.983251</td>\n",
       "      <td>5.476630</td>\n",
       "      <td>5.766860</td>\n",
       "      <td>5.982216</td>\n",
       "      <td>256.134567</td>\n",
       "      <td>1.306413</td>\n",
       "      <td>1.161808</td>\n",
       "    </tr>\n",
       "    <tr>\n",
       "      <th>min</th>\n",
       "      <td>1.000000</td>\n",
       "      <td>1.00000</td>\n",
       "      <td>1.000000</td>\n",
       "      <td>2010.000000</td>\n",
       "      <td>1.000000</td>\n",
       "      <td>1.000000</td>\n",
       "      <td>1.000000</td>\n",
       "      <td>3.000000</td>\n",
       "      <td>1.000000</td>\n",
       "      <td>1.000000</td>\n",
       "      <td>...</td>\n",
       "      <td>0.500000</td>\n",
       "      <td>0.470000</td>\n",
       "      <td>2.000000</td>\n",
       "      <td>1.000000</td>\n",
       "      <td>1.000000</td>\n",
       "      <td>1.000000</td>\n",
       "      <td>3.000000</td>\n",
       "      <td>201011.000000</td>\n",
       "      <td>0.000000</td>\n",
       "      <td>0.000000</td>\n",
       "    </tr>\n",
       "    <tr>\n",
       "      <th>25%</th>\n",
       "      <td>6.000000</td>\n",
       "      <td>7.00000</td>\n",
       "      <td>3.000000</td>\n",
       "      <td>2012.000000</td>\n",
       "      <td>7.000000</td>\n",
       "      <td>7.000000</td>\n",
       "      <td>6.000000</td>\n",
       "      <td>10.000000</td>\n",
       "      <td>7.000000</td>\n",
       "      <td>10.000000</td>\n",
       "      <td>...</td>\n",
       "      <td>1.080000</td>\n",
       "      <td>0.950000</td>\n",
       "      <td>8.000000</td>\n",
       "      <td>7.000000</td>\n",
       "      <td>10.000000</td>\n",
       "      <td>5.000000</td>\n",
       "      <td>10.000000</td>\n",
       "      <td>201213.000000</td>\n",
       "      <td>1.000000</td>\n",
       "      <td>0.000000</td>\n",
       "    </tr>\n",
       "    <tr>\n",
       "      <th>50%</th>\n",
       "      <td>6.000000</td>\n",
       "      <td>16.00000</td>\n",
       "      <td>8.000000</td>\n",
       "      <td>2014.000000</td>\n",
       "      <td>16.000000</td>\n",
       "      <td>16.000000</td>\n",
       "      <td>11.000000</td>\n",
       "      <td>12.000000</td>\n",
       "      <td>9.000000</td>\n",
       "      <td>15.000000</td>\n",
       "      <td>...</td>\n",
       "      <td>1.260000</td>\n",
       "      <td>1.210000</td>\n",
       "      <td>10.000000</td>\n",
       "      <td>9.000000</td>\n",
       "      <td>15.000000</td>\n",
       "      <td>10.000000</td>\n",
       "      <td>12.000000</td>\n",
       "      <td>201415.000000</td>\n",
       "      <td>1.000000</td>\n",
       "      <td>1.000000</td>\n",
       "    </tr>\n",
       "    <tr>\n",
       "      <th>75%</th>\n",
       "      <td>7.000000</td>\n",
       "      <td>23.00000</td>\n",
       "      <td>11.000000</td>\n",
       "      <td>2017.000000</td>\n",
       "      <td>22.000000</td>\n",
       "      <td>22.000000</td>\n",
       "      <td>16.000000</td>\n",
       "      <td>19.000000</td>\n",
       "      <td>11.000000</td>\n",
       "      <td>18.000000</td>\n",
       "      <td>...</td>\n",
       "      <td>1.630000</td>\n",
       "      <td>1.530000</td>\n",
       "      <td>13.000000</td>\n",
       "      <td>11.000000</td>\n",
       "      <td>18.000000</td>\n",
       "      <td>16.000000</td>\n",
       "      <td>19.000000</td>\n",
       "      <td>201617.000000</td>\n",
       "      <td>2.000000</td>\n",
       "      <td>2.000000</td>\n",
       "    </tr>\n",
       "    <tr>\n",
       "      <th>max</th>\n",
       "      <td>15.000000</td>\n",
       "      <td>31.00000</td>\n",
       "      <td>12.000000</td>\n",
       "      <td>2019.000000</td>\n",
       "      <td>35.000000</td>\n",
       "      <td>35.000000</td>\n",
       "      <td>20.000000</td>\n",
       "      <td>32.000000</td>\n",
       "      <td>17.000000</td>\n",
       "      <td>27.000000</td>\n",
       "      <td>...</td>\n",
       "      <td>2.790000</td>\n",
       "      <td>2.800000</td>\n",
       "      <td>20.000000</td>\n",
       "      <td>17.000000</td>\n",
       "      <td>27.000000</td>\n",
       "      <td>20.000000</td>\n",
       "      <td>32.000000</td>\n",
       "      <td>201819.000000</td>\n",
       "      <td>8.000000</td>\n",
       "      <td>7.000000</td>\n",
       "    </tr>\n",
       "  </tbody>\n",
       "</table>\n",
       "<p>8 rows × 25 columns</p>\n",
       "</div>"
      ],
      "text/plain": [
       "       match_date_weekday_id  match_date_day  match_date_month_id  \\\n",
       "count            3337.000000      3337.00000          3337.000000   \n",
       "mean                5.970932        15.60923             6.741085   \n",
       "std                 2.923289         9.14512             3.973771   \n",
       "min                 1.000000         1.00000             1.000000   \n",
       "25%                 6.000000         7.00000             3.000000   \n",
       "50%                 6.000000        16.00000             8.000000   \n",
       "75%                 7.000000        23.00000            11.000000   \n",
       "max                15.000000        31.00000            12.000000   \n",
       "\n",
       "       match_date_year  away_team_name_id  home_team_name_id  home_position  \\\n",
       "count      3337.000000        3337.000000        3337.000000    3337.000000   \n",
       "mean       2014.383878          15.010189          15.025172      10.502248   \n",
       "std           2.555221           8.803573           8.798502       5.768834   \n",
       "min        2010.000000           1.000000           1.000000       1.000000   \n",
       "25%        2012.000000           7.000000           7.000000       6.000000   \n",
       "50%        2014.000000          16.000000          16.000000      11.000000   \n",
       "75%        2017.000000          22.000000          22.000000      16.000000   \n",
       "max        2019.000000          35.000000          35.000000      20.000000   \n",
       "\n",
       "          home_won   home_drawn    home_lost       ...        away_avg_goal  \\\n",
       "count  3337.000000  3337.000000  3337.000000       ...          3337.000000   \n",
       "mean     13.982919     9.307761    13.986215       ...             1.373749   \n",
       "std       5.985845     2.983816     5.480163       ...             0.433869   \n",
       "min       3.000000     1.000000     1.000000       ...             0.500000   \n",
       "25%      10.000000     7.000000    10.000000       ...             1.080000   \n",
       "50%      12.000000     9.000000    15.000000       ...             1.260000   \n",
       "75%      19.000000    11.000000    18.000000       ...             1.630000   \n",
       "max      32.000000    17.000000    27.000000       ...             2.790000   \n",
       "\n",
       "       away_change_created  away_clean_sheet   away_drawn    away_lost  \\\n",
       "count          3337.000000       3337.000000  3337.000000  3337.000000   \n",
       "mean              1.290342         10.427630     9.308361    13.984717   \n",
       "std               0.456891          3.846296     2.983251     5.476630   \n",
       "min               0.470000          2.000000     1.000000     1.000000   \n",
       "25%               0.950000          8.000000     7.000000    10.000000   \n",
       "50%               1.210000         10.000000     9.000000    15.000000   \n",
       "75%               1.530000         13.000000    11.000000    18.000000   \n",
       "max               2.800000         20.000000    17.000000    27.000000   \n",
       "\n",
       "       away_position     away_won         season  home_team_goal  \\\n",
       "count    3337.000000  3337.000000    3337.000000     3337.000000   \n",
       "mean       10.499251    13.983818  201405.042254        1.556488   \n",
       "std         5.766860     5.982216     256.134567        1.306413   \n",
       "min         1.000000     3.000000  201011.000000        0.000000   \n",
       "25%         5.000000    10.000000  201213.000000        1.000000   \n",
       "50%        10.000000    12.000000  201415.000000        1.000000   \n",
       "75%        16.000000    19.000000  201617.000000        2.000000   \n",
       "max        20.000000    32.000000  201819.000000        8.000000   \n",
       "\n",
       "       away_team_goal  \n",
       "count     3337.000000  \n",
       "mean         1.189691  \n",
       "std          1.161808  \n",
       "min          0.000000  \n",
       "25%          0.000000  \n",
       "50%          1.000000  \n",
       "75%          2.000000  \n",
       "max          7.000000  \n",
       "\n",
       "[8 rows x 25 columns]"
      ]
     },
     "execution_count": 9,
     "metadata": {},
     "output_type": "execute_result"
    }
   ],
   "source": [
    "match_data.describe()"
   ]
  },
  {
   "cell_type": "code",
   "execution_count": 10,
   "metadata": {},
   "outputs": [
    {
     "data": {
      "text/html": [
       "<div>\n",
       "<style scoped>\n",
       "    .dataframe tbody tr th:only-of-type {\n",
       "        vertical-align: middle;\n",
       "    }\n",
       "\n",
       "    .dataframe tbody tr th {\n",
       "        vertical-align: top;\n",
       "    }\n",
       "\n",
       "    .dataframe thead th {\n",
       "        text-align: right;\n",
       "    }\n",
       "</style>\n",
       "<table border=\"1\" class=\"dataframe\">\n",
       "  <thead>\n",
       "    <tr style=\"text-align: right;\">\n",
       "      <th></th>\n",
       "      <th>weekday</th>\n",
       "      <th>day</th>\n",
       "      <th>month</th>\n",
       "      <th>year</th>\n",
       "      <th>home</th>\n",
       "      <th>away</th>\n",
       "      <th>home_position</th>\n",
       "      <th>away_position</th>\n",
       "      <th>home_won</th>\n",
       "      <th>away_won</th>\n",
       "      <th>...</th>\n",
       "      <th>home_lost</th>\n",
       "      <th>away_lost</th>\n",
       "      <th>home_avg_goal</th>\n",
       "      <th>away_avg_goal</th>\n",
       "      <th>home_avg_conceded</th>\n",
       "      <th>away_avg_conceded</th>\n",
       "      <th>home_clean_sheet</th>\n",
       "      <th>away_clean_sheet</th>\n",
       "      <th>home_change_created</th>\n",
       "      <th>away_change_created</th>\n",
       "    </tr>\n",
       "  </thead>\n",
       "  <tbody>\n",
       "    <tr>\n",
       "      <th>count</th>\n",
       "      <td>21.000000</td>\n",
       "      <td>21.000000</td>\n",
       "      <td>21.000000</td>\n",
       "      <td>21.0</td>\n",
       "      <td>21.000000</td>\n",
       "      <td>21.000000</td>\n",
       "      <td>21.000000</td>\n",
       "      <td>21.000000</td>\n",
       "      <td>21.000000</td>\n",
       "      <td>21.000000</td>\n",
       "      <td>...</td>\n",
       "      <td>21.000000</td>\n",
       "      <td>21.000000</td>\n",
       "      <td>21.000000</td>\n",
       "      <td>21.000000</td>\n",
       "      <td>21.000000</td>\n",
       "      <td>21.000000</td>\n",
       "      <td>21.000000</td>\n",
       "      <td>21.000000</td>\n",
       "      <td>21.000000</td>\n",
       "      <td>21.000000</td>\n",
       "    </tr>\n",
       "    <tr>\n",
       "      <th>mean</th>\n",
       "      <td>6.333333</td>\n",
       "      <td>14.666667</td>\n",
       "      <td>3.619048</td>\n",
       "      <td>2019.0</td>\n",
       "      <td>10.809524</td>\n",
       "      <td>10.714286</td>\n",
       "      <td>10.285714</td>\n",
       "      <td>10.666667</td>\n",
       "      <td>12.523810</td>\n",
       "      <td>12.142857</td>\n",
       "      <td>...</td>\n",
       "      <td>12.047619</td>\n",
       "      <td>12.428571</td>\n",
       "      <td>1.438095</td>\n",
       "      <td>1.415714</td>\n",
       "      <td>1.407619</td>\n",
       "      <td>1.420476</td>\n",
       "      <td>8.190476</td>\n",
       "      <td>8.047619</td>\n",
       "      <td>1.517143</td>\n",
       "      <td>1.464762</td>\n",
       "    </tr>\n",
       "    <tr>\n",
       "      <th>std</th>\n",
       "      <td>3.439961</td>\n",
       "      <td>13.142805</td>\n",
       "      <td>0.497613</td>\n",
       "      <td>0.0</td>\n",
       "      <td>6.925453</td>\n",
       "      <td>7.036639</td>\n",
       "      <td>5.849298</td>\n",
       "      <td>5.816643</td>\n",
       "      <td>5.767313</td>\n",
       "      <td>5.720889</td>\n",
       "      <td>...</td>\n",
       "      <td>5.652222</td>\n",
       "      <td>5.563914</td>\n",
       "      <td>0.499706</td>\n",
       "      <td>0.499325</td>\n",
       "      <td>0.400536</td>\n",
       "      <td>0.394455</td>\n",
       "      <td>3.385543</td>\n",
       "      <td>3.278356</td>\n",
       "      <td>0.517505</td>\n",
       "      <td>0.518668</td>\n",
       "    </tr>\n",
       "    <tr>\n",
       "      <th>min</th>\n",
       "      <td>1.000000</td>\n",
       "      <td>1.000000</td>\n",
       "      <td>3.000000</td>\n",
       "      <td>2019.0</td>\n",
       "      <td>1.000000</td>\n",
       "      <td>1.000000</td>\n",
       "      <td>1.000000</td>\n",
       "      <td>1.000000</td>\n",
       "      <td>3.000000</td>\n",
       "      <td>3.000000</td>\n",
       "      <td>...</td>\n",
       "      <td>1.000000</td>\n",
       "      <td>1.000000</td>\n",
       "      <td>0.580000</td>\n",
       "      <td>0.580000</td>\n",
       "      <td>0.580000</td>\n",
       "      <td>0.580000</td>\n",
       "      <td>2.000000</td>\n",
       "      <td>2.000000</td>\n",
       "      <td>0.650000</td>\n",
       "      <td>0.650000</td>\n",
       "    </tr>\n",
       "    <tr>\n",
       "      <th>25%</th>\n",
       "      <td>4.000000</td>\n",
       "      <td>4.000000</td>\n",
       "      <td>3.000000</td>\n",
       "      <td>2019.0</td>\n",
       "      <td>5.000000</td>\n",
       "      <td>5.000000</td>\n",
       "      <td>6.000000</td>\n",
       "      <td>6.000000</td>\n",
       "      <td>9.000000</td>\n",
       "      <td>9.000000</td>\n",
       "      <td>...</td>\n",
       "      <td>7.000000</td>\n",
       "      <td>9.000000</td>\n",
       "      <td>1.130000</td>\n",
       "      <td>1.130000</td>\n",
       "      <td>1.200000</td>\n",
       "      <td>1.290000</td>\n",
       "      <td>6.000000</td>\n",
       "      <td>6.000000</td>\n",
       "      <td>1.130000</td>\n",
       "      <td>1.100000</td>\n",
       "    </tr>\n",
       "    <tr>\n",
       "      <th>50%</th>\n",
       "      <td>6.000000</td>\n",
       "      <td>6.000000</td>\n",
       "      <td>4.000000</td>\n",
       "      <td>2019.0</td>\n",
       "      <td>10.000000</td>\n",
       "      <td>10.000000</td>\n",
       "      <td>10.000000</td>\n",
       "      <td>11.000000</td>\n",
       "      <td>12.000000</td>\n",
       "      <td>11.000000</td>\n",
       "      <td>...</td>\n",
       "      <td>13.000000</td>\n",
       "      <td>14.000000</td>\n",
       "      <td>1.320000</td>\n",
       "      <td>1.290000</td>\n",
       "      <td>1.370000</td>\n",
       "      <td>1.370000</td>\n",
       "      <td>7.000000</td>\n",
       "      <td>7.000000</td>\n",
       "      <td>1.420000</td>\n",
       "      <td>1.350000</td>\n",
       "    </tr>\n",
       "    <tr>\n",
       "      <th>75%</th>\n",
       "      <td>7.000000</td>\n",
       "      <td>31.000000</td>\n",
       "      <td>4.000000</td>\n",
       "      <td>2019.0</td>\n",
       "      <td>15.000000</td>\n",
       "      <td>15.000000</td>\n",
       "      <td>15.000000</td>\n",
       "      <td>15.000000</td>\n",
       "      <td>17.000000</td>\n",
       "      <td>17.000000</td>\n",
       "      <td>...</td>\n",
       "      <td>15.000000</td>\n",
       "      <td>15.000000</td>\n",
       "      <td>1.670000</td>\n",
       "      <td>1.670000</td>\n",
       "      <td>1.670000</td>\n",
       "      <td>1.670000</td>\n",
       "      <td>9.000000</td>\n",
       "      <td>9.000000</td>\n",
       "      <td>1.840000</td>\n",
       "      <td>1.800000</td>\n",
       "    </tr>\n",
       "    <tr>\n",
       "      <th>max</th>\n",
       "      <td>15.000000</td>\n",
       "      <td>31.000000</td>\n",
       "      <td>4.000000</td>\n",
       "      <td>2019.0</td>\n",
       "      <td>24.000000</td>\n",
       "      <td>24.000000</td>\n",
       "      <td>20.000000</td>\n",
       "      <td>20.000000</td>\n",
       "      <td>24.000000</td>\n",
       "      <td>24.000000</td>\n",
       "      <td>...</td>\n",
       "      <td>23.000000</td>\n",
       "      <td>23.000000</td>\n",
       "      <td>2.630000</td>\n",
       "      <td>2.630000</td>\n",
       "      <td>2.260000</td>\n",
       "      <td>2.260000</td>\n",
       "      <td>17.000000</td>\n",
       "      <td>17.000000</td>\n",
       "      <td>2.800000</td>\n",
       "      <td>2.800000</td>\n",
       "    </tr>\n",
       "  </tbody>\n",
       "</table>\n",
       "<p>8 rows × 22 columns</p>\n",
       "</div>"
      ],
      "text/plain": [
       "         weekday        day      month    year       home       away  \\\n",
       "count  21.000000  21.000000  21.000000    21.0  21.000000  21.000000   \n",
       "mean    6.333333  14.666667   3.619048  2019.0  10.809524  10.714286   \n",
       "std     3.439961  13.142805   0.497613     0.0   6.925453   7.036639   \n",
       "min     1.000000   1.000000   3.000000  2019.0   1.000000   1.000000   \n",
       "25%     4.000000   4.000000   3.000000  2019.0   5.000000   5.000000   \n",
       "50%     6.000000   6.000000   4.000000  2019.0  10.000000  10.000000   \n",
       "75%     7.000000  31.000000   4.000000  2019.0  15.000000  15.000000   \n",
       "max    15.000000  31.000000   4.000000  2019.0  24.000000  24.000000   \n",
       "\n",
       "       home_position  away_position   home_won   away_won  \\\n",
       "count      21.000000      21.000000  21.000000  21.000000   \n",
       "mean       10.285714      10.666667  12.523810  12.142857   \n",
       "std         5.849298       5.816643   5.767313   5.720889   \n",
       "min         1.000000       1.000000   3.000000   3.000000   \n",
       "25%         6.000000       6.000000   9.000000   9.000000   \n",
       "50%        10.000000      11.000000  12.000000  11.000000   \n",
       "75%        15.000000      15.000000  17.000000  17.000000   \n",
       "max        20.000000      20.000000  24.000000  24.000000   \n",
       "\n",
       "              ...           home_lost  away_lost  home_avg_goal  \\\n",
       "count         ...           21.000000  21.000000      21.000000   \n",
       "mean          ...           12.047619  12.428571       1.438095   \n",
       "std           ...            5.652222   5.563914       0.499706   \n",
       "min           ...            1.000000   1.000000       0.580000   \n",
       "25%           ...            7.000000   9.000000       1.130000   \n",
       "50%           ...           13.000000  14.000000       1.320000   \n",
       "75%           ...           15.000000  15.000000       1.670000   \n",
       "max           ...           23.000000  23.000000       2.630000   \n",
       "\n",
       "       away_avg_goal  home_avg_conceded  away_avg_conceded  home_clean_sheet  \\\n",
       "count      21.000000          21.000000          21.000000         21.000000   \n",
       "mean        1.415714           1.407619           1.420476          8.190476   \n",
       "std         0.499325           0.400536           0.394455          3.385543   \n",
       "min         0.580000           0.580000           0.580000          2.000000   \n",
       "25%         1.130000           1.200000           1.290000          6.000000   \n",
       "50%         1.290000           1.370000           1.370000          7.000000   \n",
       "75%         1.670000           1.670000           1.670000          9.000000   \n",
       "max         2.630000           2.260000           2.260000         17.000000   \n",
       "\n",
       "       away_clean_sheet  home_change_created  away_change_created  \n",
       "count         21.000000            21.000000            21.000000  \n",
       "mean           8.047619             1.517143             1.464762  \n",
       "std            3.278356             0.517505             0.518668  \n",
       "min            2.000000             0.650000             0.650000  \n",
       "25%            6.000000             1.130000             1.100000  \n",
       "50%            7.000000             1.420000             1.350000  \n",
       "75%            9.000000             1.840000             1.800000  \n",
       "max           17.000000             2.800000             2.800000  \n",
       "\n",
       "[8 rows x 22 columns]"
      ]
     },
     "execution_count": 10,
     "metadata": {},
     "output_type": "execute_result"
    }
   ],
   "source": [
    "target_data.describe()"
   ]
  },
  {
   "cell_type": "code",
   "execution_count": 11,
   "metadata": {},
   "outputs": [
    {
     "data": {
      "text/html": [
       "<div>\n",
       "<style scoped>\n",
       "    .dataframe tbody tr th:only-of-type {\n",
       "        vertical-align: middle;\n",
       "    }\n",
       "\n",
       "    .dataframe tbody tr th {\n",
       "        vertical-align: top;\n",
       "    }\n",
       "\n",
       "    .dataframe thead th {\n",
       "        text-align: right;\n",
       "    }\n",
       "</style>\n",
       "<table border=\"1\" class=\"dataframe\">\n",
       "  <thead>\n",
       "    <tr style=\"text-align: right;\">\n",
       "      <th></th>\n",
       "      <th>homename</th>\n",
       "      <th>awayname</th>\n",
       "      <th>position</th>\n",
       "      <th>win_rate</th>\n",
       "      <th>goal_rate</th>\n",
       "      <th>clean_sheet</th>\n",
       "      <th>chance</th>\n",
       "    </tr>\n",
       "  </thead>\n",
       "  <tbody>\n",
       "    <tr>\n",
       "      <th>0</th>\n",
       "      <td>Fulham</td>\n",
       "      <td>Manchester City</td>\n",
       "      <td>17</td>\n",
       "      <td>-0.670968</td>\n",
       "      <td>-1.69</td>\n",
       "      <td>-12</td>\n",
       "      <td>-1.57</td>\n",
       "    </tr>\n",
       "    <tr>\n",
       "      <th>1</th>\n",
       "      <td>Brighton and Hove Albion</td>\n",
       "      <td>Southampton</td>\n",
       "      <td>-1</td>\n",
       "      <td>0.077011</td>\n",
       "      <td>-0.03</td>\n",
       "      <td>0</td>\n",
       "      <td>-0.13</td>\n",
       "    </tr>\n",
       "    <tr>\n",
       "      <th>2</th>\n",
       "      <td>Burnley</td>\n",
       "      <td>Wolverhampton Wanderers</td>\n",
       "      <td>10</td>\n",
       "      <td>-0.141935</td>\n",
       "      <td>-0.14</td>\n",
       "      <td>-1</td>\n",
       "      <td>-0.47</td>\n",
       "    </tr>\n",
       "    <tr>\n",
       "      <th>3</th>\n",
       "      <td>Crystal Palace</td>\n",
       "      <td>Huddersfield Town</td>\n",
       "      <td>-6</td>\n",
       "      <td>0.203226</td>\n",
       "      <td>0.62</td>\n",
       "      <td>4</td>\n",
       "      <td>0.28</td>\n",
       "    </tr>\n",
       "    <tr>\n",
       "      <th>4</th>\n",
       "      <td>Leicester City</td>\n",
       "      <td>AFC Bournemouth</td>\n",
       "      <td>-2</td>\n",
       "      <td>0.032258</td>\n",
       "      <td>-0.10</td>\n",
       "      <td>-1</td>\n",
       "      <td>-0.42</td>\n",
       "    </tr>\n",
       "  </tbody>\n",
       "</table>\n",
       "</div>"
      ],
      "text/plain": [
       "                   homename                 awayname  position  win_rate  \\\n",
       "0                    Fulham          Manchester City        17 -0.670968   \n",
       "1  Brighton and Hove Albion              Southampton        -1  0.077011   \n",
       "2                   Burnley  Wolverhampton Wanderers        10 -0.141935   \n",
       "3            Crystal Palace        Huddersfield Town        -6  0.203226   \n",
       "4            Leicester City          AFC Bournemouth        -2  0.032258   \n",
       "\n",
       "   goal_rate  clean_sheet  chance  \n",
       "0      -1.69          -12   -1.57  \n",
       "1      -0.03            0   -0.13  \n",
       "2      -0.14           -1   -0.47  \n",
       "3       0.62            4    0.28  \n",
       "4      -0.10           -1   -0.42  "
      ]
     },
     "execution_count": 11,
     "metadata": {},
     "output_type": "execute_result"
    }
   ],
   "source": [
    "# target_data['weekday'] = target_data['weekday'].astype(float)\n",
    "# target_data['day'] = target_data['day'].astype(float)\n",
    "# target_data['year'] = target_data['year'].astype(float)\n",
    "# target_data['month'] = target_data['month'].astype(float)\n",
    "# target_data['home'] = target_data['home'].astype(float)\n",
    "# target_data['away'] = target_data['away'].astype(float)\n",
    "\n",
    "# target_data['home_won'] = target_data['home_won'].astype(float)\n",
    "# target_data['home_drawn'] = target_data['home_drawn'].astype(float)\n",
    "# target_data['home_lost'] = target_data['home_lost'].astype(float)\n",
    "# target_data['away_won'] = target_data['away_won'].astype(float)\n",
    "# target_data['away_drawn'] = target_data['away_drawn'].astype(float)\n",
    "# target_data['away_lost'] = target_data['away_lost'].astype(float)\n",
    "\n",
    "\n",
    "\n",
    "\n",
    "# match_data['match_date_weekday_id'] = match_data['match_date_weekday_id'].astype(float)\n",
    "# match_data['match_date_month_id'] = match_data['match_date_month_id'].astype(float)\n",
    "# match_data['home_team_name_id'] = match_data['home_team_name_id'].astype(float)\n",
    "# match_data['away_team_name_id'] = match_data['away_team_name_id'].astype(float)\n",
    "# match_data['match_date_year'] = match_data['match_date_year'].astype(float)\n",
    "# match_data['match_date_day'] = match_data['match_date_day'].astype(float)\n",
    "\n",
    "# match_data['home_won'] = match_data['home_won'].astype(float)\n",
    "# match_data['home_drawn'] = match_data['home_drawn'].astype(float)\n",
    "# match_data['home_lost'] = match_data['home_lost'].astype(float)\n",
    "# match_data['away_won'] = match_data['away_won'].astype(float)\n",
    "# match_data['away_drawn'] = match_data['away_drawn'].astype(float)\n",
    "# match_data['away_lost'] = match_data['away_lost'].astype(float)\n",
    "\n",
    "\n",
    "\n",
    "\n",
    "\n",
    "\n",
    "# target_data['match_date_weekday_id'] = target_data['weekday'] / match_data['match_date_weekday_id'].max()\n",
    "# target_data['match_date_day'] = target_data['day'] / match_data['match_date_day'].max()\n",
    "# target_data['year'] = target_data['year'] - match_data['match_date_year'].min()\n",
    "# target_data['match_date_year'] = target_data['year'] / match_data['match_date_year'].max()\n",
    "# target_data['match_date_month_id'] = target_data['month'] / match_data['match_date_month_id'].max()\n",
    "# target_data['home_team_name_id'] = target_data['home'] / match_data['home_team_name_id'].max()\n",
    "# target_data['away_team_name_id'] = target_data['away'] / match_data['away_team_name_id'].max()\n",
    "target_data['match_date_weekday_id'] = target_data['weekday']\n",
    "target_data['match_date_day'] = target_data['day']\n",
    "target_data['match_date_year'] = target_data['year']\n",
    "target_data['match_date_month_id'] = target_data['month']\n",
    "target_data['home_team_name_id'] = target_data['home']\n",
    "target_data['away_team_name_id'] = target_data['away']\n",
    "\n",
    "target_data['position'] = target_data['home_position'] - target_data['away_position']\n",
    "target_data['win_rate'] = (target_data['home_won'] / (target_data['home_won'] + target_data['home_drawn'] + target_data['home_lost'])) - (target_data['away_won'] / (target_data['away_won'] + target_data['away_drawn'] + target_data['away_lost']))\n",
    "target_data['goal_rate'] = (target_data['home_avg_goal'] - target_data['home_avg_conceded']) - (target_data['away_avg_goal'] - target_data['home_avg_conceded'])\n",
    "target_data['clean_sheet'] = target_data['home_clean_sheet'] - target_data['away_clean_sheet']\n",
    "target_data['chance'] = target_data['home_change_created'] - target_data['away_change_created']\n",
    "target_data = target_data.drop([\n",
    "    'home_position', \n",
    "    'away_position', \n",
    "    'home_won', \n",
    "    'home_drawn', \n",
    "    'home_lost', \n",
    "    'away_won',\n",
    "    'away_drawn',\n",
    "    'away_lost',\n",
    "    'home_avg_goal',\n",
    "    'home_avg_conceded',\n",
    "    'away_avg_goal',\n",
    "    'away_avg_conceded',\n",
    "    'home_clean_sheet',\n",
    "    'away_clean_sheet',\n",
    "    'home_change_created',\n",
    "    'away_change_created'\n",
    "], axis=1)\n",
    "target_data = target_data.drop(['home', 'away', 'year', 'day', 'month', 'weekday'], axis=1)\n",
    "target_data = target_data.drop(['match_date_weekday_id', 'match_date_day', 'match_date_year', 'match_date_month_id'], axis=1)\n",
    "match_data = match_data.drop(['match_date_weekday_id', 'match_date_day', 'match_date_year', 'match_date_month_id'], axis=1)\n",
    "match_data = match_data.drop(['home_team_name_id', 'away_team_name_id', 'season'], axis=1)\n",
    "target_data = target_data.drop(['home_team_name_id', 'away_team_name_id'], axis=1)\n",
    "\n",
    "\n",
    "target_data.head()"
   ]
  },
  {
   "cell_type": "code",
   "execution_count": 12,
   "metadata": {},
   "outputs": [
    {
     "data": {
      "text/html": [
       "<div>\n",
       "<style scoped>\n",
       "    .dataframe tbody tr th:only-of-type {\n",
       "        vertical-align: middle;\n",
       "    }\n",
       "\n",
       "    .dataframe tbody tr th {\n",
       "        vertical-align: top;\n",
       "    }\n",
       "\n",
       "    .dataframe thead th {\n",
       "        text-align: right;\n",
       "    }\n",
       "</style>\n",
       "<table border=\"1\" class=\"dataframe\">\n",
       "  <thead>\n",
       "    <tr style=\"text-align: right;\">\n",
       "      <th></th>\n",
       "      <th>home_team_goal</th>\n",
       "      <th>away_team_goal</th>\n",
       "      <th>position</th>\n",
       "      <th>win_rate</th>\n",
       "      <th>goal_rate</th>\n",
       "      <th>clean_sheet</th>\n",
       "      <th>chance</th>\n",
       "    </tr>\n",
       "  </thead>\n",
       "  <tbody>\n",
       "    <tr>\n",
       "      <th>1179</th>\n",
       "      <td>2.0</td>\n",
       "      <td>1.0</td>\n",
       "      <td>4.0</td>\n",
       "      <td>-0.052632</td>\n",
       "      <td>0.00</td>\n",
       "      <td>-4.0</td>\n",
       "      <td>-0.16</td>\n",
       "    </tr>\n",
       "    <tr>\n",
       "      <th>1180</th>\n",
       "      <td>3.0</td>\n",
       "      <td>0.0</td>\n",
       "      <td>-11.0</td>\n",
       "      <td>0.131579</td>\n",
       "      <td>0.13</td>\n",
       "      <td>2.0</td>\n",
       "      <td>0.32</td>\n",
       "    </tr>\n",
       "    <tr>\n",
       "      <th>1181</th>\n",
       "      <td>2.0</td>\n",
       "      <td>2.0</td>\n",
       "      <td>-8.0</td>\n",
       "      <td>0.105263</td>\n",
       "      <td>0.21</td>\n",
       "      <td>4.0</td>\n",
       "      <td>0.06</td>\n",
       "    </tr>\n",
       "    <tr>\n",
       "      <th>1182</th>\n",
       "      <td>0.0</td>\n",
       "      <td>0.0</td>\n",
       "      <td>2.0</td>\n",
       "      <td>-0.131579</td>\n",
       "      <td>-0.13</td>\n",
       "      <td>-10.0</td>\n",
       "      <td>-0.21</td>\n",
       "    </tr>\n",
       "    <tr>\n",
       "      <th>1183</th>\n",
       "      <td>0.0</td>\n",
       "      <td>0.0</td>\n",
       "      <td>6.0</td>\n",
       "      <td>0.026316</td>\n",
       "      <td>0.08</td>\n",
       "      <td>-9.0</td>\n",
       "      <td>-0.03</td>\n",
       "    </tr>\n",
       "  </tbody>\n",
       "</table>\n",
       "</div>"
      ],
      "text/plain": [
       "      home_team_goal  away_team_goal  position  win_rate  goal_rate  \\\n",
       "1179             2.0             1.0       4.0 -0.052632       0.00   \n",
       "1180             3.0             0.0     -11.0  0.131579       0.13   \n",
       "1181             2.0             2.0      -8.0  0.105263       0.21   \n",
       "1182             0.0             0.0       2.0 -0.131579      -0.13   \n",
       "1183             0.0             0.0       6.0  0.026316       0.08   \n",
       "\n",
       "      clean_sheet  chance  \n",
       "1179         -4.0   -0.16  \n",
       "1180          2.0    0.32  \n",
       "1181          4.0    0.06  \n",
       "1182        -10.0   -0.21  \n",
       "1183         -9.0   -0.03  "
      ]
     },
     "execution_count": 12,
     "metadata": {},
     "output_type": "execute_result"
    }
   ],
   "source": [
    "# match_data['match_date_year'] = match_data['match_date_year'] - match_data['match_date_year'].min()\n",
    "# match_data['match_date_year'] = match_data['match_date_year'] / match_data['match_date_year'].max()\n",
    "# match_data['match_date_weekday_id'] = match_data['match_date_weekday_id'] / match_data['match_date_weekday_id'].max()\n",
    "# match_data['match_date_day'] = match_data['match_date_day'] / match_data['match_date_day'].max()\n",
    "# match_data['match_date_month_id'] = match_data['match_date_month_id'] / match_data['match_date_month_id'].max()\n",
    "# match_data['home_team_name_id'] = match_data['home_team_name_id'] / match_data['home_team_name_id'].max()\n",
    "# match_data['away_team_name_id'] = match_data['away_team_name_id'] / match_data['away_team_name_id'].max()\n",
    "\n",
    "match_data['position'] = match_data['home_position'] - match_data['away_position']\n",
    "match_data['win_rate'] = (match_data['home_won'] / (match_data['home_won'] + match_data['home_drawn'] + match_data['home_lost'])) - (match_data['away_won'] / (match_data['away_won'] + match_data['away_drawn'] + match_data['away_lost']))\n",
    "match_data['goal_rate'] = (match_data['home_avg_goal'] - match_data['home_avg_conceded']) - (match_data['away_avg_goal'] - match_data['home_avg_conceded'])\n",
    "match_data['clean_sheet'] = match_data['home_clean_sheet'] - match_data['away_clean_sheet']\n",
    "match_data['chance'] = match_data['home_change_created'] - match_data['away_change_created']\n",
    "match_data = match_data.drop(['home_change_created', 'away_change_created', 'home_position', 'away_position', 'home_won', 'home_drawn', 'home_lost', 'away_won', 'away_drawn', 'away_lost', 'home_avg_goal', 'home_avg_conceded', 'away_avg_goal', 'away_avg_conceded', 'home_clean_sheet', 'away_clean_sheet'], axis=1)\n",
    "\n",
    "match_data.head()"
   ]
  },
  {
   "cell_type": "code",
   "execution_count": 13,
   "metadata": {},
   "outputs": [
    {
     "data": {
      "text/html": [
       "<div>\n",
       "<style scoped>\n",
       "    .dataframe tbody tr th:only-of-type {\n",
       "        vertical-align: middle;\n",
       "    }\n",
       "\n",
       "    .dataframe tbody tr th {\n",
       "        vertical-align: top;\n",
       "    }\n",
       "\n",
       "    .dataframe thead th {\n",
       "        text-align: right;\n",
       "    }\n",
       "</style>\n",
       "<table border=\"1\" class=\"dataframe\">\n",
       "  <thead>\n",
       "    <tr style=\"text-align: right;\">\n",
       "      <th></th>\n",
       "      <th>position</th>\n",
       "      <th>win_rate</th>\n",
       "      <th>goal_rate</th>\n",
       "      <th>clean_sheet</th>\n",
       "      <th>chance</th>\n",
       "    </tr>\n",
       "  </thead>\n",
       "  <tbody>\n",
       "    <tr>\n",
       "      <th>0</th>\n",
       "      <td>17</td>\n",
       "      <td>-0.670968</td>\n",
       "      <td>-1.69</td>\n",
       "      <td>-12</td>\n",
       "      <td>-1.57</td>\n",
       "    </tr>\n",
       "    <tr>\n",
       "      <th>1</th>\n",
       "      <td>-1</td>\n",
       "      <td>0.077011</td>\n",
       "      <td>-0.03</td>\n",
       "      <td>0</td>\n",
       "      <td>-0.13</td>\n",
       "    </tr>\n",
       "    <tr>\n",
       "      <th>2</th>\n",
       "      <td>10</td>\n",
       "      <td>-0.141935</td>\n",
       "      <td>-0.14</td>\n",
       "      <td>-1</td>\n",
       "      <td>-0.47</td>\n",
       "    </tr>\n",
       "    <tr>\n",
       "      <th>3</th>\n",
       "      <td>-6</td>\n",
       "      <td>0.203226</td>\n",
       "      <td>0.62</td>\n",
       "      <td>4</td>\n",
       "      <td>0.28</td>\n",
       "    </tr>\n",
       "    <tr>\n",
       "      <th>4</th>\n",
       "      <td>-2</td>\n",
       "      <td>0.032258</td>\n",
       "      <td>-0.10</td>\n",
       "      <td>-1</td>\n",
       "      <td>-0.42</td>\n",
       "    </tr>\n",
       "  </tbody>\n",
       "</table>\n",
       "</div>"
      ],
      "text/plain": [
       "   position  win_rate  goal_rate  clean_sheet  chance\n",
       "0        17 -0.670968      -1.69          -12   -1.57\n",
       "1        -1  0.077011      -0.03            0   -0.13\n",
       "2        10 -0.141935      -0.14           -1   -0.47\n",
       "3        -6  0.203226       0.62            4    0.28\n",
       "4        -2  0.032258      -0.10           -1   -0.42"
      ]
     },
     "execution_count": 13,
     "metadata": {},
     "output_type": "execute_result"
    }
   ],
   "source": [
    "target_name = target_data['homename'] + ' vs ' + target_data['awayname']\n",
    "target_data = target_data.drop(['homename', 'awayname'], axis=1)\n",
    "\n",
    "target_data.head()"
   ]
  },
  {
   "cell_type": "code",
   "execution_count": 14,
   "metadata": {},
   "outputs": [],
   "source": [
    "combine = [match_data]\n",
    "for row in combine:\n",
    "    row.loc[row['home_team_goal'] > row['away_team_goal'], 'score'] = 'H'\n",
    "    row.loc[row['home_team_goal'] < row['away_team_goal'], 'score'] = 'A'\n",
    "    row.loc[row['home_team_goal'] == row['away_team_goal'], 'score'] = 'D'\n",
    "# match_data['score'] = match_data['home_team_goal'] - match_data['away_team_goal']\n",
    "# match_data['score'] = match_data['score'] * 1.2\n",
    "# match_data['score'] = match_data['score'] * match_data['match_date_year'] / match_data['match_date_year'].max()"
   ]
  },
  {
   "cell_type": "code",
   "execution_count": 15,
   "metadata": {},
   "outputs": [
    {
     "data": {
      "text/html": [
       "<div>\n",
       "<style scoped>\n",
       "    .dataframe tbody tr th:only-of-type {\n",
       "        vertical-align: middle;\n",
       "    }\n",
       "\n",
       "    .dataframe tbody tr th {\n",
       "        vertical-align: top;\n",
       "    }\n",
       "\n",
       "    .dataframe thead th {\n",
       "        text-align: right;\n",
       "    }\n",
       "</style>\n",
       "<table border=\"1\" class=\"dataframe\">\n",
       "  <thead>\n",
       "    <tr style=\"text-align: right;\">\n",
       "      <th></th>\n",
       "      <th>position</th>\n",
       "      <th>win_rate</th>\n",
       "      <th>goal_rate</th>\n",
       "      <th>clean_sheet</th>\n",
       "      <th>chance</th>\n",
       "    </tr>\n",
       "  </thead>\n",
       "  <tbody>\n",
       "    <tr>\n",
       "      <th>1179</th>\n",
       "      <td>4.0</td>\n",
       "      <td>-0.052632</td>\n",
       "      <td>0.00</td>\n",
       "      <td>-4.0</td>\n",
       "      <td>-0.16</td>\n",
       "    </tr>\n",
       "    <tr>\n",
       "      <th>1180</th>\n",
       "      <td>-11.0</td>\n",
       "      <td>0.131579</td>\n",
       "      <td>0.13</td>\n",
       "      <td>2.0</td>\n",
       "      <td>0.32</td>\n",
       "    </tr>\n",
       "    <tr>\n",
       "      <th>1181</th>\n",
       "      <td>-8.0</td>\n",
       "      <td>0.105263</td>\n",
       "      <td>0.21</td>\n",
       "      <td>4.0</td>\n",
       "      <td>0.06</td>\n",
       "    </tr>\n",
       "    <tr>\n",
       "      <th>1182</th>\n",
       "      <td>2.0</td>\n",
       "      <td>-0.131579</td>\n",
       "      <td>-0.13</td>\n",
       "      <td>-10.0</td>\n",
       "      <td>-0.21</td>\n",
       "    </tr>\n",
       "    <tr>\n",
       "      <th>1183</th>\n",
       "      <td>6.0</td>\n",
       "      <td>0.026316</td>\n",
       "      <td>0.08</td>\n",
       "      <td>-9.0</td>\n",
       "      <td>-0.03</td>\n",
       "    </tr>\n",
       "  </tbody>\n",
       "</table>\n",
       "</div>"
      ],
      "text/plain": [
       "      position  win_rate  goal_rate  clean_sheet  chance\n",
       "1179       4.0 -0.052632       0.00         -4.0   -0.16\n",
       "1180     -11.0  0.131579       0.13          2.0    0.32\n",
       "1181      -8.0  0.105263       0.21          4.0    0.06\n",
       "1182       2.0 -0.131579      -0.13        -10.0   -0.21\n",
       "1183       6.0  0.026316       0.08         -9.0   -0.03"
      ]
     },
     "execution_count": 15,
     "metadata": {},
     "output_type": "execute_result"
    }
   ],
   "source": [
    "result = match_data['score']\n",
    "match_data = match_data.drop(['score', 'home_team_goal', 'away_team_goal'], axis=1)\n",
    "match_data.head()"
   ]
  },
  {
   "cell_type": "code",
   "execution_count": null,
   "metadata": {},
   "outputs": [],
   "source": []
  },
  {
   "cell_type": "code",
   "execution_count": 16,
   "metadata": {},
   "outputs": [
    {
     "data": {
      "text/plain": [
       "1179    H\n",
       "1180    H\n",
       "1181    D\n",
       "1182    D\n",
       "1183    D\n",
       "Name: score, dtype: object"
      ]
     },
     "execution_count": 16,
     "metadata": {},
     "output_type": "execute_result"
    }
   ],
   "source": [
    "result.head()"
   ]
  },
  {
   "cell_type": "code",
   "execution_count": 17,
   "metadata": {},
   "outputs": [],
   "source": [
    "# def training(amount, arr5, arr6, arr7, arr8):\n",
    "def training(amount, arr1, arr2, arr3, arr4, arr5, arr6, arr7, arr8):\n",
    "    print('amount = %s' % amount)\n",
    "    train_data = match_data[amount:3200]\n",
    "    test_data = match_data[3200:]\n",
    "    train_result = result[amount:3200]\n",
    "    test_result = result[3200:]\n",
    "\n",
    "    acc_list = []\n",
    "\n",
    "    svc = SVC(gamma='auto')\n",
    "    svc.fit(train_data, train_result)\n",
    "    svc_result = svc.predict(test_data)\n",
    "    accuracy = int(float('%.2f' % accuracy_score(test_result, svc_result)) * 100)\n",
    "    arr1.append(accuracy)\n",
    "    acc_list.append(accuracy)\n",
    "    \n",
    "    rf = RandomForestClassifier()\n",
    "    rf.fit(train_data, train_result)\n",
    "    rf_result = rf.predict(test_data)\n",
    "    accuracy = int(float('%.2f' % accuracy_score(test_result, rf_result)) * 100)\n",
    "    arr2.append(accuracy)\n",
    "    acc_list.append(accuracy)\n",
    "    \n",
    "    lsvc = LinearSVC(  )\n",
    "    lsvc.fit(train_data, train_result)\n",
    "    lsvc_result = lsvc.predict(test_data)\n",
    "    accuracy = float('%.2f' % accuracy_score(test_result, lsvc_result)) * 100\n",
    "    arr3.append(accuracy)\n",
    "    acc_list.append(accuracy)\n",
    "    \n",
    "    sgdc = SGDClassifier()\n",
    "    sgdc.fit(train_data, train_result)\n",
    "    sgdc_result = sgdc.predict(test_data)\n",
    "    accuracy = int(float('%.2f' % accuracy_score(test_result, sgdc_result)) * 100)\n",
    "    arr4.append(accuracy)\n",
    "    acc_list.append(accuracy)\n",
    "    \n",
    "    lr = LogisticRegression(multi_class='auto', solver='liblinear')\n",
    "    lr.fit(train_data, train_result)\n",
    "    lr_result = lr.predict(test_data)\n",
    "    accuracy = float('%.2f' % accuracy_score(test_result, lr_result)) * 100\n",
    "    arr5.append(accuracy)\n",
    "    acc_list.append(accuracy)\n",
    "    \n",
    "    knc = KNeighborsClassifier()\n",
    "    knc.fit(train_data, train_result)\n",
    "    knc_result = knc.predict(test_data)\n",
    "    accuracy = float('%.2f' % accuracy_score(test_result, knc_result)) * 100\n",
    "    arr6.append(accuracy)\n",
    "    acc_list.append(accuracy)\n",
    "    \n",
    "    gnb = GaussianNB()\n",
    "    gnb.fit(train_data, train_result)\n",
    "    gnb_result = gnb.predict(test_data)\n",
    "    accuracy = int(float('%.2f' % accuracy_score(test_result, gnb_result)) * 100)\n",
    "    arr7.append(accuracy)\n",
    "    acc_list.append(accuracy)\n",
    "    \n",
    "    dtc = DecisionTreeClassifier()\n",
    "    dtc.fit(train_data, train_result)\n",
    "    dtc_result = dtc.predict(test_data)\n",
    "    accuracy = float('%.2f' % accuracy_score(test_result, dtc_result)) * 100\n",
    "    arr8.append(accuracy)\n",
    "    acc_list.append(accuracy)\n",
    "    print(acc_list)\n",
    "#     return arr5, arr6, arr7, arr8\n",
    "    return arr1, arr2, arr3, arr4, arr5, arr6, arr7, arr8"
   ]
  },
  {
   "cell_type": "code",
   "execution_count": 18,
   "metadata": {},
   "outputs": [
    {
     "name": "stdout",
     "output_type": "stream",
     "text": [
      "i = 0\n",
      "amount = 0\n"
     ]
    },
    {
     "name": "stderr",
     "output_type": "stream",
     "text": [
      "/opt/conda/lib/python3.6/site-packages/sklearn/ensemble/forest.py:246: FutureWarning: The default value of n_estimators will change from 10 in version 0.20 to 100 in 0.22.\n",
      "  \"10 in version 0.20 to 100 in 0.22.\", FutureWarning)\n",
      "/opt/conda/lib/python3.6/site-packages/sklearn/svm/base.py:931: ConvergenceWarning: Liblinear failed to converge, increase the number of iterations.\n",
      "  \"the number of iterations.\", ConvergenceWarning)\n",
      "/opt/conda/lib/python3.6/site-packages/sklearn/linear_model/stochastic_gradient.py:166: FutureWarning: max_iter and tol parameters have been added in SGDClassifier in 0.19. If both are left unset, they default to max_iter=5 and tol=None. If tol is not None, max_iter defaults to max_iter=1000. From 0.21, default max_iter will be 1000, and default tol will be 1e-3.\n",
      "  FutureWarning)\n"
     ]
    },
    {
     "name": "stdout",
     "output_type": "stream",
     "text": [
      "[61, 53, 64.0, 48, 64.0, 47.0, 62, 44.0]\n",
      "i = 100\n",
      "amount = 100\n"
     ]
    },
    {
     "name": "stderr",
     "output_type": "stream",
     "text": [
      "/opt/conda/lib/python3.6/site-packages/sklearn/ensemble/forest.py:246: FutureWarning: The default value of n_estimators will change from 10 in version 0.20 to 100 in 0.22.\n",
      "  \"10 in version 0.20 to 100 in 0.22.\", FutureWarning)\n",
      "/opt/conda/lib/python3.6/site-packages/sklearn/svm/base.py:931: ConvergenceWarning: Liblinear failed to converge, increase the number of iterations.\n",
      "  \"the number of iterations.\", ConvergenceWarning)\n",
      "/opt/conda/lib/python3.6/site-packages/sklearn/linear_model/stochastic_gradient.py:166: FutureWarning: max_iter and tol parameters have been added in SGDClassifier in 0.19. If both are left unset, they default to max_iter=5 and tol=None. If tol is not None, max_iter defaults to max_iter=1000. From 0.21, default max_iter will be 1000, and default tol will be 1e-3.\n",
      "  FutureWarning)\n"
     ]
    },
    {
     "name": "stdout",
     "output_type": "stream",
     "text": [
      "[57, 47, 64.0, 50, 63.0, 45.0, 62, 42.0]\n",
      "i = 200\n",
      "amount = 200\n"
     ]
    },
    {
     "name": "stderr",
     "output_type": "stream",
     "text": [
      "/opt/conda/lib/python3.6/site-packages/sklearn/ensemble/forest.py:246: FutureWarning: The default value of n_estimators will change from 10 in version 0.20 to 100 in 0.22.\n",
      "  \"10 in version 0.20 to 100 in 0.22.\", FutureWarning)\n",
      "/opt/conda/lib/python3.6/site-packages/sklearn/svm/base.py:931: ConvergenceWarning: Liblinear failed to converge, increase the number of iterations.\n",
      "  \"the number of iterations.\", ConvergenceWarning)\n",
      "/opt/conda/lib/python3.6/site-packages/sklearn/linear_model/stochastic_gradient.py:166: FutureWarning: max_iter and tol parameters have been added in SGDClassifier in 0.19. If both are left unset, they default to max_iter=5 and tol=None. If tol is not None, max_iter defaults to max_iter=1000. From 0.21, default max_iter will be 1000, and default tol will be 1e-3.\n",
      "  FutureWarning)\n"
     ]
    },
    {
     "name": "stdout",
     "output_type": "stream",
     "text": [
      "[60, 51, 64.0, 42, 64.0, 45.0, 62, 52.0]\n",
      "i = 300\n",
      "amount = 300\n"
     ]
    },
    {
     "name": "stderr",
     "output_type": "stream",
     "text": [
      "/opt/conda/lib/python3.6/site-packages/sklearn/ensemble/forest.py:246: FutureWarning: The default value of n_estimators will change from 10 in version 0.20 to 100 in 0.22.\n",
      "  \"10 in version 0.20 to 100 in 0.22.\", FutureWarning)\n",
      "/opt/conda/lib/python3.6/site-packages/sklearn/svm/base.py:931: ConvergenceWarning: Liblinear failed to converge, increase the number of iterations.\n",
      "  \"the number of iterations.\", ConvergenceWarning)\n",
      "/opt/conda/lib/python3.6/site-packages/sklearn/linear_model/stochastic_gradient.py:166: FutureWarning: max_iter and tol parameters have been added in SGDClassifier in 0.19. If both are left unset, they default to max_iter=5 and tol=None. If tol is not None, max_iter defaults to max_iter=1000. From 0.21, default max_iter will be 1000, and default tol will be 1e-3.\n",
      "  FutureWarning)\n"
     ]
    },
    {
     "name": "stdout",
     "output_type": "stream",
     "text": [
      "[61, 53, 64.0, 36, 64.0, 44.0, 62, 50.0]\n",
      "i = 400\n",
      "amount = 400\n"
     ]
    },
    {
     "name": "stderr",
     "output_type": "stream",
     "text": [
      "/opt/conda/lib/python3.6/site-packages/sklearn/ensemble/forest.py:246: FutureWarning: The default value of n_estimators will change from 10 in version 0.20 to 100 in 0.22.\n",
      "  \"10 in version 0.20 to 100 in 0.22.\", FutureWarning)\n",
      "/opt/conda/lib/python3.6/site-packages/sklearn/svm/base.py:931: ConvergenceWarning: Liblinear failed to converge, increase the number of iterations.\n",
      "  \"the number of iterations.\", ConvergenceWarning)\n",
      "/opt/conda/lib/python3.6/site-packages/sklearn/linear_model/stochastic_gradient.py:166: FutureWarning: max_iter and tol parameters have been added in SGDClassifier in 0.19. If both are left unset, they default to max_iter=5 and tol=None. If tol is not None, max_iter defaults to max_iter=1000. From 0.21, default max_iter will be 1000, and default tol will be 1e-3.\n",
      "  FutureWarning)\n"
     ]
    },
    {
     "name": "stdout",
     "output_type": "stream",
     "text": [
      "[61, 54, 64.0, 61, 64.0, 46.0, 62, 50.0]\n",
      "i = 500\n",
      "amount = 500\n"
     ]
    },
    {
     "name": "stderr",
     "output_type": "stream",
     "text": [
      "/opt/conda/lib/python3.6/site-packages/sklearn/ensemble/forest.py:246: FutureWarning: The default value of n_estimators will change from 10 in version 0.20 to 100 in 0.22.\n",
      "  \"10 in version 0.20 to 100 in 0.22.\", FutureWarning)\n",
      "/opt/conda/lib/python3.6/site-packages/sklearn/svm/base.py:931: ConvergenceWarning: Liblinear failed to converge, increase the number of iterations.\n",
      "  \"the number of iterations.\", ConvergenceWarning)\n",
      "/opt/conda/lib/python3.6/site-packages/sklearn/linear_model/stochastic_gradient.py:166: FutureWarning: max_iter and tol parameters have been added in SGDClassifier in 0.19. If both are left unset, they default to max_iter=5 and tol=None. If tol is not None, max_iter defaults to max_iter=1000. From 0.21, default max_iter will be 1000, and default tol will be 1e-3.\n",
      "  FutureWarning)\n"
     ]
    },
    {
     "name": "stdout",
     "output_type": "stream",
     "text": [
      "[57, 55, 64.0, 39, 63.0, 45.0, 62, 42.0]\n",
      "i = 600\n",
      "amount = 600\n"
     ]
    },
    {
     "name": "stderr",
     "output_type": "stream",
     "text": [
      "/opt/conda/lib/python3.6/site-packages/sklearn/ensemble/forest.py:246: FutureWarning: The default value of n_estimators will change from 10 in version 0.20 to 100 in 0.22.\n",
      "  \"10 in version 0.20 to 100 in 0.22.\", FutureWarning)\n",
      "/opt/conda/lib/python3.6/site-packages/sklearn/svm/base.py:931: ConvergenceWarning: Liblinear failed to converge, increase the number of iterations.\n",
      "  \"the number of iterations.\", ConvergenceWarning)\n",
      "/opt/conda/lib/python3.6/site-packages/sklearn/linear_model/stochastic_gradient.py:166: FutureWarning: max_iter and tol parameters have been added in SGDClassifier in 0.19. If both are left unset, they default to max_iter=5 and tol=None. If tol is not None, max_iter defaults to max_iter=1000. From 0.21, default max_iter will be 1000, and default tol will be 1e-3.\n",
      "  FutureWarning)\n"
     ]
    },
    {
     "name": "stdout",
     "output_type": "stream",
     "text": [
      "[57, 55, 64.0, 31, 63.0, 42.0, 62, 45.0]\n",
      "i = 700\n",
      "amount = 700\n"
     ]
    },
    {
     "name": "stderr",
     "output_type": "stream",
     "text": [
      "/opt/conda/lib/python3.6/site-packages/sklearn/ensemble/forest.py:246: FutureWarning: The default value of n_estimators will change from 10 in version 0.20 to 100 in 0.22.\n",
      "  \"10 in version 0.20 to 100 in 0.22.\", FutureWarning)\n",
      "/opt/conda/lib/python3.6/site-packages/sklearn/svm/base.py:931: ConvergenceWarning: Liblinear failed to converge, increase the number of iterations.\n",
      "  \"the number of iterations.\", ConvergenceWarning)\n",
      "/opt/conda/lib/python3.6/site-packages/sklearn/linear_model/stochastic_gradient.py:166: FutureWarning: max_iter and tol parameters have been added in SGDClassifier in 0.19. If both are left unset, they default to max_iter=5 and tol=None. If tol is not None, max_iter defaults to max_iter=1000. From 0.21, default max_iter will be 1000, and default tol will be 1e-3.\n",
      "  FutureWarning)\n"
     ]
    },
    {
     "name": "stdout",
     "output_type": "stream",
     "text": [
      "[61, 51, 64.0, 57, 64.0, 42.0, 62, 45.0]\n",
      "i = 800\n",
      "amount = 800\n"
     ]
    },
    {
     "name": "stderr",
     "output_type": "stream",
     "text": [
      "/opt/conda/lib/python3.6/site-packages/sklearn/ensemble/forest.py:246: FutureWarning: The default value of n_estimators will change from 10 in version 0.20 to 100 in 0.22.\n",
      "  \"10 in version 0.20 to 100 in 0.22.\", FutureWarning)\n",
      "/opt/conda/lib/python3.6/site-packages/sklearn/svm/base.py:931: ConvergenceWarning: Liblinear failed to converge, increase the number of iterations.\n",
      "  \"the number of iterations.\", ConvergenceWarning)\n",
      "/opt/conda/lib/python3.6/site-packages/sklearn/linear_model/stochastic_gradient.py:166: FutureWarning: max_iter and tol parameters have been added in SGDClassifier in 0.19. If both are left unset, they default to max_iter=5 and tol=None. If tol is not None, max_iter defaults to max_iter=1000. From 0.21, default max_iter will be 1000, and default tol will be 1e-3.\n",
      "  FutureWarning)\n"
     ]
    },
    {
     "name": "stdout",
     "output_type": "stream",
     "text": [
      "[60, 50, 64.0, 57, 64.0, 42.0, 62, 53.0]\n",
      "i = 900\n",
      "amount = 900\n"
     ]
    },
    {
     "name": "stderr",
     "output_type": "stream",
     "text": [
      "/opt/conda/lib/python3.6/site-packages/sklearn/ensemble/forest.py:246: FutureWarning: The default value of n_estimators will change from 10 in version 0.20 to 100 in 0.22.\n",
      "  \"10 in version 0.20 to 100 in 0.22.\", FutureWarning)\n",
      "/opt/conda/lib/python3.6/site-packages/sklearn/svm/base.py:931: ConvergenceWarning: Liblinear failed to converge, increase the number of iterations.\n",
      "  \"the number of iterations.\", ConvergenceWarning)\n",
      "/opt/conda/lib/python3.6/site-packages/sklearn/linear_model/stochastic_gradient.py:166: FutureWarning: max_iter and tol parameters have been added in SGDClassifier in 0.19. If both are left unset, they default to max_iter=5 and tol=None. If tol is not None, max_iter defaults to max_iter=1000. From 0.21, default max_iter will be 1000, and default tol will be 1e-3.\n",
      "  FutureWarning)\n"
     ]
    },
    {
     "name": "stdout",
     "output_type": "stream",
     "text": [
      "[57, 48, 64.0, 61, 64.0, 42.0, 62, 43.0]\n",
      "i = 1000\n",
      "amount = 1000\n"
     ]
    },
    {
     "name": "stderr",
     "output_type": "stream",
     "text": [
      "/opt/conda/lib/python3.6/site-packages/sklearn/ensemble/forest.py:246: FutureWarning: The default value of n_estimators will change from 10 in version 0.20 to 100 in 0.22.\n",
      "  \"10 in version 0.20 to 100 in 0.22.\", FutureWarning)\n",
      "/opt/conda/lib/python3.6/site-packages/sklearn/svm/base.py:931: ConvergenceWarning: Liblinear failed to converge, increase the number of iterations.\n",
      "  \"the number of iterations.\", ConvergenceWarning)\n",
      "/opt/conda/lib/python3.6/site-packages/sklearn/linear_model/stochastic_gradient.py:166: FutureWarning: max_iter and tol parameters have been added in SGDClassifier in 0.19. If both are left unset, they default to max_iter=5 and tol=None. If tol is not None, max_iter defaults to max_iter=1000. From 0.21, default max_iter will be 1000, and default tol will be 1e-3.\n",
      "  FutureWarning)\n"
     ]
    },
    {
     "name": "stdout",
     "output_type": "stream",
     "text": [
      "[60, 53, 64.0, 50, 64.0, 45.0, 62, 50.0]\n",
      "i = 1100\n",
      "amount = 1100\n"
     ]
    },
    {
     "name": "stderr",
     "output_type": "stream",
     "text": [
      "/opt/conda/lib/python3.6/site-packages/sklearn/ensemble/forest.py:246: FutureWarning: The default value of n_estimators will change from 10 in version 0.20 to 100 in 0.22.\n",
      "  \"10 in version 0.20 to 100 in 0.22.\", FutureWarning)\n",
      "/opt/conda/lib/python3.6/site-packages/sklearn/svm/base.py:931: ConvergenceWarning: Liblinear failed to converge, increase the number of iterations.\n",
      "  \"the number of iterations.\", ConvergenceWarning)\n",
      "/opt/conda/lib/python3.6/site-packages/sklearn/linear_model/stochastic_gradient.py:166: FutureWarning: max_iter and tol parameters have been added in SGDClassifier in 0.19. If both are left unset, they default to max_iter=5 and tol=None. If tol is not None, max_iter defaults to max_iter=1000. From 0.21, default max_iter will be 1000, and default tol will be 1e-3.\n",
      "  FutureWarning)\n"
     ]
    },
    {
     "name": "stdout",
     "output_type": "stream",
     "text": [
      "[59, 55, 64.0, 61, 64.0, 45.0, 62, 48.0]\n",
      "i = 1200\n",
      "amount = 1200\n"
     ]
    },
    {
     "name": "stderr",
     "output_type": "stream",
     "text": [
      "/opt/conda/lib/python3.6/site-packages/sklearn/ensemble/forest.py:246: FutureWarning: The default value of n_estimators will change from 10 in version 0.20 to 100 in 0.22.\n",
      "  \"10 in version 0.20 to 100 in 0.22.\", FutureWarning)\n",
      "/opt/conda/lib/python3.6/site-packages/sklearn/svm/base.py:931: ConvergenceWarning: Liblinear failed to converge, increase the number of iterations.\n",
      "  \"the number of iterations.\", ConvergenceWarning)\n",
      "/opt/conda/lib/python3.6/site-packages/sklearn/linear_model/stochastic_gradient.py:166: FutureWarning: max_iter and tol parameters have been added in SGDClassifier in 0.19. If both are left unset, they default to max_iter=5 and tol=None. If tol is not None, max_iter defaults to max_iter=1000. From 0.21, default max_iter will be 1000, and default tol will be 1e-3.\n",
      "  FutureWarning)\n"
     ]
    },
    {
     "name": "stdout",
     "output_type": "stream",
     "text": [
      "[59, 56, 64.0, 44, 63.0, 48.0, 62, 44.0]\n",
      "i = 1300\n",
      "amount = 1300\n"
     ]
    },
    {
     "name": "stderr",
     "output_type": "stream",
     "text": [
      "/opt/conda/lib/python3.6/site-packages/sklearn/ensemble/forest.py:246: FutureWarning: The default value of n_estimators will change from 10 in version 0.20 to 100 in 0.22.\n",
      "  \"10 in version 0.20 to 100 in 0.22.\", FutureWarning)\n",
      "/opt/conda/lib/python3.6/site-packages/sklearn/svm/base.py:931: ConvergenceWarning: Liblinear failed to converge, increase the number of iterations.\n",
      "  \"the number of iterations.\", ConvergenceWarning)\n",
      "/opt/conda/lib/python3.6/site-packages/sklearn/linear_model/stochastic_gradient.py:166: FutureWarning: max_iter and tol parameters have been added in SGDClassifier in 0.19. If both are left unset, they default to max_iter=5 and tol=None. If tol is not None, max_iter defaults to max_iter=1000. From 0.21, default max_iter will be 1000, and default tol will be 1e-3.\n",
      "  FutureWarning)\n",
      "/opt/conda/lib/python3.6/site-packages/sklearn/ensemble/forest.py:246: FutureWarning: The default value of n_estimators will change from 10 in version 0.20 to 100 in 0.22.\n",
      "  \"10 in version 0.20 to 100 in 0.22.\", FutureWarning)\n"
     ]
    },
    {
     "name": "stdout",
     "output_type": "stream",
     "text": [
      "[59, 53, 64.0, 64, 64.0, 48.0, 62, 51.0]\n",
      "i = 1400\n",
      "amount = 1400\n"
     ]
    },
    {
     "name": "stderr",
     "output_type": "stream",
     "text": [
      "/opt/conda/lib/python3.6/site-packages/sklearn/svm/base.py:931: ConvergenceWarning: Liblinear failed to converge, increase the number of iterations.\n",
      "  \"the number of iterations.\", ConvergenceWarning)\n",
      "/opt/conda/lib/python3.6/site-packages/sklearn/linear_model/stochastic_gradient.py:166: FutureWarning: max_iter and tol parameters have been added in SGDClassifier in 0.19. If both are left unset, they default to max_iter=5 and tol=None. If tol is not None, max_iter defaults to max_iter=1000. From 0.21, default max_iter will be 1000, and default tol will be 1e-3.\n",
      "  FutureWarning)\n",
      "/opt/conda/lib/python3.6/site-packages/sklearn/ensemble/forest.py:246: FutureWarning: The default value of n_estimators will change from 10 in version 0.20 to 100 in 0.22.\n",
      "  \"10 in version 0.20 to 100 in 0.22.\", FutureWarning)\n"
     ]
    },
    {
     "name": "stdout",
     "output_type": "stream",
     "text": [
      "[61, 53, 64.0, 57, 64.0, 48.0, 61, 50.0]\n",
      "i = 1500\n",
      "amount = 1500\n"
     ]
    },
    {
     "name": "stderr",
     "output_type": "stream",
     "text": [
      "/opt/conda/lib/python3.6/site-packages/sklearn/svm/base.py:931: ConvergenceWarning: Liblinear failed to converge, increase the number of iterations.\n",
      "  \"the number of iterations.\", ConvergenceWarning)\n",
      "/opt/conda/lib/python3.6/site-packages/sklearn/linear_model/stochastic_gradient.py:166: FutureWarning: max_iter and tol parameters have been added in SGDClassifier in 0.19. If both are left unset, they default to max_iter=5 and tol=None. If tol is not None, max_iter defaults to max_iter=1000. From 0.21, default max_iter will be 1000, and default tol will be 1e-3.\n",
      "  FutureWarning)\n",
      "/opt/conda/lib/python3.6/site-packages/sklearn/ensemble/forest.py:246: FutureWarning: The default value of n_estimators will change from 10 in version 0.20 to 100 in 0.22.\n",
      "  \"10 in version 0.20 to 100 in 0.22.\", FutureWarning)\n"
     ]
    },
    {
     "name": "stdout",
     "output_type": "stream",
     "text": [
      "[62, 47, 64.0, 33, 63.0, 48.0, 62, 51.0]\n",
      "i = 1600\n",
      "amount = 1600\n"
     ]
    },
    {
     "name": "stderr",
     "output_type": "stream",
     "text": [
      "/opt/conda/lib/python3.6/site-packages/sklearn/svm/base.py:931: ConvergenceWarning: Liblinear failed to converge, increase the number of iterations.\n",
      "  \"the number of iterations.\", ConvergenceWarning)\n",
      "/opt/conda/lib/python3.6/site-packages/sklearn/linear_model/stochastic_gradient.py:166: FutureWarning: max_iter and tol parameters have been added in SGDClassifier in 0.19. If both are left unset, they default to max_iter=5 and tol=None. If tol is not None, max_iter defaults to max_iter=1000. From 0.21, default max_iter will be 1000, and default tol will be 1e-3.\n",
      "  FutureWarning)\n",
      "/opt/conda/lib/python3.6/site-packages/sklearn/ensemble/forest.py:246: FutureWarning: The default value of n_estimators will change from 10 in version 0.20 to 100 in 0.22.\n",
      "  \"10 in version 0.20 to 100 in 0.22.\", FutureWarning)\n"
     ]
    },
    {
     "name": "stdout",
     "output_type": "stream",
     "text": [
      "[63, 54, 64.0, 42, 63.0, 50.0, 62, 47.0]\n",
      "i = 1700\n",
      "amount = 1700\n"
     ]
    },
    {
     "name": "stderr",
     "output_type": "stream",
     "text": [
      "/opt/conda/lib/python3.6/site-packages/sklearn/svm/base.py:931: ConvergenceWarning: Liblinear failed to converge, increase the number of iterations.\n",
      "  \"the number of iterations.\", ConvergenceWarning)\n",
      "/opt/conda/lib/python3.6/site-packages/sklearn/linear_model/stochastic_gradient.py:166: FutureWarning: max_iter and tol parameters have been added in SGDClassifier in 0.19. If both are left unset, they default to max_iter=5 and tol=None. If tol is not None, max_iter defaults to max_iter=1000. From 0.21, default max_iter will be 1000, and default tol will be 1e-3.\n",
      "  FutureWarning)\n",
      "/opt/conda/lib/python3.6/site-packages/sklearn/ensemble/forest.py:246: FutureWarning: The default value of n_estimators will change from 10 in version 0.20 to 100 in 0.22.\n",
      "  \"10 in version 0.20 to 100 in 0.22.\", FutureWarning)\n"
     ]
    },
    {
     "name": "stdout",
     "output_type": "stream",
     "text": [
      "[61, 47, 63.0, 61, 63.0, 50.0, 62, 47.0]\n",
      "i = 1800\n",
      "amount = 1800\n"
     ]
    },
    {
     "name": "stderr",
     "output_type": "stream",
     "text": [
      "/opt/conda/lib/python3.6/site-packages/sklearn/svm/base.py:931: ConvergenceWarning: Liblinear failed to converge, increase the number of iterations.\n",
      "  \"the number of iterations.\", ConvergenceWarning)\n",
      "/opt/conda/lib/python3.6/site-packages/sklearn/linear_model/stochastic_gradient.py:166: FutureWarning: max_iter and tol parameters have been added in SGDClassifier in 0.19. If both are left unset, they default to max_iter=5 and tol=None. If tol is not None, max_iter defaults to max_iter=1000. From 0.21, default max_iter will be 1000, and default tol will be 1e-3.\n",
      "  FutureWarning)\n",
      "/opt/conda/lib/python3.6/site-packages/sklearn/ensemble/forest.py:246: FutureWarning: The default value of n_estimators will change from 10 in version 0.20 to 100 in 0.22.\n",
      "  \"10 in version 0.20 to 100 in 0.22.\", FutureWarning)\n"
     ]
    },
    {
     "name": "stdout",
     "output_type": "stream",
     "text": [
      "[61, 50, 64.0, 56, 63.0, 51.0, 62, 50.0]\n",
      "i = 1900\n",
      "amount = 1900\n"
     ]
    },
    {
     "name": "stderr",
     "output_type": "stream",
     "text": [
      "/opt/conda/lib/python3.6/site-packages/sklearn/svm/base.py:931: ConvergenceWarning: Liblinear failed to converge, increase the number of iterations.\n",
      "  \"the number of iterations.\", ConvergenceWarning)\n",
      "/opt/conda/lib/python3.6/site-packages/sklearn/linear_model/stochastic_gradient.py:166: FutureWarning: max_iter and tol parameters have been added in SGDClassifier in 0.19. If both are left unset, they default to max_iter=5 and tol=None. If tol is not None, max_iter defaults to max_iter=1000. From 0.21, default max_iter will be 1000, and default tol will be 1e-3.\n",
      "  FutureWarning)\n",
      "/opt/conda/lib/python3.6/site-packages/sklearn/ensemble/forest.py:246: FutureWarning: The default value of n_estimators will change from 10 in version 0.20 to 100 in 0.22.\n",
      "  \"10 in version 0.20 to 100 in 0.22.\", FutureWarning)\n"
     ]
    },
    {
     "name": "stdout",
     "output_type": "stream",
     "text": [
      "[59, 53, 64.0, 59, 63.0, 52.0, 62, 50.0]\n",
      "i = 2000\n",
      "amount = 2000\n"
     ]
    },
    {
     "name": "stderr",
     "output_type": "stream",
     "text": [
      "/opt/conda/lib/python3.6/site-packages/sklearn/svm/base.py:931: ConvergenceWarning: Liblinear failed to converge, increase the number of iterations.\n",
      "  \"the number of iterations.\", ConvergenceWarning)\n",
      "/opt/conda/lib/python3.6/site-packages/sklearn/linear_model/stochastic_gradient.py:166: FutureWarning: max_iter and tol parameters have been added in SGDClassifier in 0.19. If both are left unset, they default to max_iter=5 and tol=None. If tol is not None, max_iter defaults to max_iter=1000. From 0.21, default max_iter will be 1000, and default tol will be 1e-3.\n",
      "  FutureWarning)\n",
      "/opt/conda/lib/python3.6/site-packages/sklearn/ensemble/forest.py:246: FutureWarning: The default value of n_estimators will change from 10 in version 0.20 to 100 in 0.22.\n",
      "  \"10 in version 0.20 to 100 in 0.22.\", FutureWarning)\n"
     ]
    },
    {
     "name": "stdout",
     "output_type": "stream",
     "text": [
      "[61, 53, 62.0, 25, 64.0, 52.0, 62, 48.0]\n",
      "i = 2100\n",
      "amount = 2100\n"
     ]
    },
    {
     "name": "stderr",
     "output_type": "stream",
     "text": [
      "/opt/conda/lib/python3.6/site-packages/sklearn/svm/base.py:931: ConvergenceWarning: Liblinear failed to converge, increase the number of iterations.\n",
      "  \"the number of iterations.\", ConvergenceWarning)\n",
      "/opt/conda/lib/python3.6/site-packages/sklearn/linear_model/stochastic_gradient.py:166: FutureWarning: max_iter and tol parameters have been added in SGDClassifier in 0.19. If both are left unset, they default to max_iter=5 and tol=None. If tol is not None, max_iter defaults to max_iter=1000. From 0.21, default max_iter will be 1000, and default tol will be 1e-3.\n",
      "  FutureWarning)\n",
      "/opt/conda/lib/python3.6/site-packages/sklearn/ensemble/forest.py:246: FutureWarning: The default value of n_estimators will change from 10 in version 0.20 to 100 in 0.22.\n",
      "  \"10 in version 0.20 to 100 in 0.22.\", FutureWarning)\n"
     ]
    },
    {
     "name": "stdout",
     "output_type": "stream",
     "text": [
      "[57, 51, 63.0, 50, 63.0, 53.0, 62, 50.0]\n",
      "i = 2200\n",
      "amount = 2200\n"
     ]
    },
    {
     "name": "stderr",
     "output_type": "stream",
     "text": [
      "/opt/conda/lib/python3.6/site-packages/sklearn/svm/base.py:931: ConvergenceWarning: Liblinear failed to converge, increase the number of iterations.\n",
      "  \"the number of iterations.\", ConvergenceWarning)\n",
      "/opt/conda/lib/python3.6/site-packages/sklearn/linear_model/stochastic_gradient.py:166: FutureWarning: max_iter and tol parameters have been added in SGDClassifier in 0.19. If both are left unset, they default to max_iter=5 and tol=None. If tol is not None, max_iter defaults to max_iter=1000. From 0.21, default max_iter will be 1000, and default tol will be 1e-3.\n",
      "  FutureWarning)\n",
      "/opt/conda/lib/python3.6/site-packages/sklearn/ensemble/forest.py:246: FutureWarning: The default value of n_estimators will change from 10 in version 0.20 to 100 in 0.22.\n",
      "  \"10 in version 0.20 to 100 in 0.22.\", FutureWarning)\n",
      "/opt/conda/lib/python3.6/site-packages/sklearn/svm/base.py:931: ConvergenceWarning: Liblinear failed to converge, increase the number of iterations.\n",
      "  \"the number of iterations.\", ConvergenceWarning)\n",
      "/opt/conda/lib/python3.6/site-packages/sklearn/linear_model/stochastic_gradient.py:166: FutureWarning: max_iter and tol parameters have been added in SGDClassifier in 0.19. If both are left unset, they default to max_iter=5 and tol=None. If tol is not None, max_iter defaults to max_iter=1000. From 0.21, default max_iter will be 1000, and default tol will be 1e-3.\n",
      "  FutureWarning)\n"
     ]
    },
    {
     "name": "stdout",
     "output_type": "stream",
     "text": [
      "[57, 55, 63.0, 59, 63.0, 53.0, 62, 46.0]\n",
      "i = 2300\n",
      "amount = 2300\n",
      "[56, 51, 64.0, 61, 63.0, 54.0, 62, 50.0]\n",
      "i = 2400\n",
      "amount = 2400\n"
     ]
    },
    {
     "name": "stderr",
     "output_type": "stream",
     "text": [
      "/opt/conda/lib/python3.6/site-packages/sklearn/ensemble/forest.py:246: FutureWarning: The default value of n_estimators will change from 10 in version 0.20 to 100 in 0.22.\n",
      "  \"10 in version 0.20 to 100 in 0.22.\", FutureWarning)\n",
      "/opt/conda/lib/python3.6/site-packages/sklearn/svm/base.py:931: ConvergenceWarning: Liblinear failed to converge, increase the number of iterations.\n",
      "  \"the number of iterations.\", ConvergenceWarning)\n",
      "/opt/conda/lib/python3.6/site-packages/sklearn/linear_model/stochastic_gradient.py:166: FutureWarning: max_iter and tol parameters have been added in SGDClassifier in 0.19. If both are left unset, they default to max_iter=5 and tol=None. If tol is not None, max_iter defaults to max_iter=1000. From 0.21, default max_iter will be 1000, and default tol will be 1e-3.\n",
      "  FutureWarning)\n",
      "/opt/conda/lib/python3.6/site-packages/sklearn/ensemble/forest.py:246: FutureWarning: The default value of n_estimators will change from 10 in version 0.20 to 100 in 0.22.\n",
      "  \"10 in version 0.20 to 100 in 0.22.\", FutureWarning)\n"
     ]
    },
    {
     "name": "stdout",
     "output_type": "stream",
     "text": [
      "[56, 56, 63.0, 61, 63.0, 56.00000000000001, 62, 47.0]\n",
      "i = 2500\n",
      "amount = 2500\n",
      "[60, 53, 63.0, 54, 62.0, 60.0, 62, 48.0]\n",
      "i = 2600\n",
      "amount = 2600\n"
     ]
    },
    {
     "name": "stderr",
     "output_type": "stream",
     "text": [
      "/opt/conda/lib/python3.6/site-packages/sklearn/svm/base.py:931: ConvergenceWarning: Liblinear failed to converge, increase the number of iterations.\n",
      "  \"the number of iterations.\", ConvergenceWarning)\n",
      "/opt/conda/lib/python3.6/site-packages/sklearn/linear_model/stochastic_gradient.py:166: FutureWarning: max_iter and tol parameters have been added in SGDClassifier in 0.19. If both are left unset, they default to max_iter=5 and tol=None. If tol is not None, max_iter defaults to max_iter=1000. From 0.21, default max_iter will be 1000, and default tol will be 1e-3.\n",
      "  FutureWarning)\n",
      "/opt/conda/lib/python3.6/site-packages/sklearn/ensemble/forest.py:246: FutureWarning: The default value of n_estimators will change from 10 in version 0.20 to 100 in 0.22.\n",
      "  \"10 in version 0.20 to 100 in 0.22.\", FutureWarning)\n",
      "/opt/conda/lib/python3.6/site-packages/sklearn/svm/base.py:931: ConvergenceWarning: Liblinear failed to converge, increase the number of iterations.\n",
      "  \"the number of iterations.\", ConvergenceWarning)\n",
      "/opt/conda/lib/python3.6/site-packages/sklearn/linear_model/stochastic_gradient.py:166: FutureWarning: max_iter and tol parameters have been added in SGDClassifier in 0.19. If both are left unset, they default to max_iter=5 and tol=None. If tol is not None, max_iter defaults to max_iter=1000. From 0.21, default max_iter will be 1000, and default tol will be 1e-3.\n",
      "  FutureWarning)\n",
      "/opt/conda/lib/python3.6/site-packages/sklearn/ensemble/forest.py:246: FutureWarning: The default value of n_estimators will change from 10 in version 0.20 to 100 in 0.22.\n",
      "  \"10 in version 0.20 to 100 in 0.22.\", FutureWarning)\n"
     ]
    },
    {
     "name": "stdout",
     "output_type": "stream",
     "text": [
      "[57, 61, 63.0, 57, 63.0, 56.99999999999999, 62, 45.0]\n",
      "i = 2700\n",
      "amount = 2700\n",
      "[59, 60, 64.0, 28, 63.0, 56.00000000000001, 59, 52.0]\n",
      "i = 2800\n",
      "amount = 2800\n",
      "[61, 54, 63.0, 54, 63.0, 56.00000000000001, 61, 47.0]\n",
      "i = 2900\n",
      "amount = 2900\n"
     ]
    },
    {
     "name": "stderr",
     "output_type": "stream",
     "text": [
      "/opt/conda/lib/python3.6/site-packages/sklearn/svm/base.py:931: ConvergenceWarning: Liblinear failed to converge, increase the number of iterations.\n",
      "  \"the number of iterations.\", ConvergenceWarning)\n",
      "/opt/conda/lib/python3.6/site-packages/sklearn/linear_model/stochastic_gradient.py:166: FutureWarning: max_iter and tol parameters have been added in SGDClassifier in 0.19. If both are left unset, they default to max_iter=5 and tol=None. If tol is not None, max_iter defaults to max_iter=1000. From 0.21, default max_iter will be 1000, and default tol will be 1e-3.\n",
      "  FutureWarning)\n",
      "/opt/conda/lib/python3.6/site-packages/sklearn/ensemble/forest.py:246: FutureWarning: The default value of n_estimators will change from 10 in version 0.20 to 100 in 0.22.\n",
      "  \"10 in version 0.20 to 100 in 0.22.\", FutureWarning)\n",
      "/opt/conda/lib/python3.6/site-packages/sklearn/svm/base.py:931: ConvergenceWarning: Liblinear failed to converge, increase the number of iterations.\n",
      "  \"the number of iterations.\", ConvergenceWarning)\n",
      "/opt/conda/lib/python3.6/site-packages/sklearn/linear_model/stochastic_gradient.py:166: FutureWarning: max_iter and tol parameters have been added in SGDClassifier in 0.19. If both are left unset, they default to max_iter=5 and tol=None. If tol is not None, max_iter defaults to max_iter=1000. From 0.21, default max_iter will be 1000, and default tol will be 1e-3.\n",
      "  FutureWarning)\n",
      "/opt/conda/lib/python3.6/site-packages/sklearn/ensemble/forest.py:246: FutureWarning: The default value of n_estimators will change from 10 in version 0.20 to 100 in 0.22.\n",
      "  \"10 in version 0.20 to 100 in 0.22.\", FutureWarning)\n",
      "/opt/conda/lib/python3.6/site-packages/sklearn/svm/base.py:931: ConvergenceWarning: Liblinear failed to converge, increase the number of iterations.\n",
      "  \"the number of iterations.\", ConvergenceWarning)\n",
      "/opt/conda/lib/python3.6/site-packages/sklearn/linear_model/stochastic_gradient.py:166: FutureWarning: max_iter and tol parameters have been added in SGDClassifier in 0.19. If both are left unset, they default to max_iter=5 and tol=None. If tol is not None, max_iter defaults to max_iter=1000. From 0.21, default max_iter will be 1000, and default tol will be 1e-3.\n",
      "  FutureWarning)\n",
      "/opt/conda/lib/python3.6/site-packages/sklearn/ensemble/forest.py:246: FutureWarning: The default value of n_estimators will change from 10 in version 0.20 to 100 in 0.22.\n",
      "  \"10 in version 0.20 to 100 in 0.22.\", FutureWarning)\n",
      "/opt/conda/lib/python3.6/site-packages/sklearn/svm/base.py:931: ConvergenceWarning: Liblinear failed to converge, increase the number of iterations.\n",
      "  \"the number of iterations.\", ConvergenceWarning)\n",
      "/opt/conda/lib/python3.6/site-packages/sklearn/linear_model/stochastic_gradient.py:166: FutureWarning: max_iter and tol parameters have been added in SGDClassifier in 0.19. If both are left unset, they default to max_iter=5 and tol=None. If tol is not None, max_iter defaults to max_iter=1000. From 0.21, default max_iter will be 1000, and default tol will be 1e-3.\n",
      "  FutureWarning)\n"
     ]
    },
    {
     "name": "stdout",
     "output_type": "stream",
     "text": [
      "[62, 59, 63.0, 62, 63.0, 59.0, 57, 53.0]\n",
      "i = 3000\n",
      "amount = 3000\n",
      "[55, 56, 61.0, 44, 61.0, 52.0, 57, 47.0]\n",
      "i = 3100\n",
      "amount = 3100\n",
      "[56, 55, 60.0, 59, 61.0, 53.0, 61, 54.0]\n"
     ]
    },
    {
     "name": "stderr",
     "output_type": "stream",
     "text": [
      "/opt/conda/lib/python3.6/site-packages/sklearn/ensemble/forest.py:246: FutureWarning: The default value of n_estimators will change from 10 in version 0.20 to 100 in 0.22.\n",
      "  \"10 in version 0.20 to 100 in 0.22.\", FutureWarning)\n",
      "/opt/conda/lib/python3.6/site-packages/sklearn/svm/base.py:931: ConvergenceWarning: Liblinear failed to converge, increase the number of iterations.\n",
      "  \"the number of iterations.\", ConvergenceWarning)\n",
      "/opt/conda/lib/python3.6/site-packages/sklearn/linear_model/stochastic_gradient.py:166: FutureWarning: max_iter and tol parameters have been added in SGDClassifier in 0.19. If both are left unset, they default to max_iter=5 and tol=None. If tol is not None, max_iter defaults to max_iter=1000. From 0.21, default max_iter will be 1000, and default tol will be 1e-3.\n",
      "  FutureWarning)\n"
     ]
    },
    {
     "data": {
      "text/plain": [
       "<Figure size 640x480 with 1 Axes>"
      ]
     },
     "metadata": {},
     "output_type": "display_data"
    },
    {
     "data": {
      "text/plain": [
       "<Figure size 640x480 with 1 Axes>"
      ]
     },
     "metadata": {},
     "output_type": "display_data"
    },
    {
     "data": {
      "text/plain": [
       "<Figure size 640x480 with 1 Axes>"
      ]
     },
     "metadata": {},
     "output_type": "display_data"
    },
    {
     "data": {
      "text/plain": [
       "<Figure size 640x480 with 1 Axes>"
      ]
     },
     "metadata": {},
     "output_type": "display_data"
    },
    {
     "data": {
      "text/plain": [
       "<Figure size 640x480 with 1 Axes>"
      ]
     },
     "metadata": {},
     "output_type": "display_data"
    },
    {
     "data": {
      "text/plain": [
       "<Figure size 640x480 with 1 Axes>"
      ]
     },
     "metadata": {},
     "output_type": "display_data"
    },
    {
     "data": {
      "text/plain": [
       "<Figure size 640x480 with 1 Axes>"
      ]
     },
     "metadata": {},
     "output_type": "display_data"
    },
    {
     "data": {
      "text/plain": [
       "<Figure size 640x480 with 1 Axes>"
      ]
     },
     "metadata": {},
     "output_type": "display_data"
    }
   ],
   "source": [
    "import matplotlib.pyplot as plt\n",
    "import numpy as np\n",
    "\n",
    "arr1 = []\n",
    "arr2 = []\n",
    "arr3 = []\n",
    "arr4 = []\n",
    "arr5 = []\n",
    "arr6 = []\n",
    "arr7 = []\n",
    "arr8 = []\n",
    "\n",
    "arr = [1, 2, 3, 4, 5]\n",
    "arr_test = [2, 3, 4, 5, 6]\n",
    "\n",
    "x = np.linspace(1, 32, 32)\n",
    "# print(x)\n",
    "\n",
    "for i in range (0, 3199, 100):\n",
    "    print('i = %s' % i)\n",
    "    arr1, arr2, arr3, arr4, arr5, arr6, arr7, arr8 = training(i, arr1, arr2, arr3, arr4, arr5, arr6, arr7, arr8)\n",
    "#     arr5, arr6, arr7, arr8 = training(i, arr5, arr6, arr7, arr8)\n",
    "# print(len(arr1))\n",
    "# print(len(arr2))\n",
    "# print(len(arr3))\n",
    "# print(len(arr4))\n",
    "# print(len(arr5))\n",
    "# print(len(arr6))\n",
    "# print(len(arr7))\n",
    "# print(len(arr8))\n",
    "# print(len(x))\n",
    "plt.figure()\n",
    "plt.plot(x, arr1)\n",
    "# plt.ylim(0.5, 0.7)\n",
    "# plt.xlabel('Support Vector Machine')\n",
    "\n",
    "plt.figure()\n",
    "plt.plot(x, arr2)\n",
    "plt.ylim(0.5, 0.7)\n",
    "# plt.xlabel('Random Forest')\n",
    "\n",
    "plt.figure()\n",
    "plt.plot(x, arr3)\n",
    "plt.ylim(0.5, 0.7)\n",
    "# plt.xlabel('Linear Support Vector Machine')\n",
    "\n",
    "plt.figure()\n",
    "plt.plot(x, arr4)\n",
    "plt.ylim(0.5, 0.7)\n",
    "# plt.xlabel('Stochastic gradient descent')\n",
    "\n",
    "plt.figure()\n",
    "plt.plot(x, arr5)\n",
    "plt.ylim(0.5, 0.7)\n",
    "# plt.xlabel('Logistic Regression')\n",
    "\n",
    "plt.figure()\n",
    "plt.plot(x, arr6)\n",
    "plt.ylim(0.5, 0.7)\n",
    "# plt.xlabel('KNeighbors')\n",
    "\n",
    "plt.figure()\n",
    "plt.plot(x, arr7)\n",
    "plt.ylim(0.5, 0.7)\n",
    "# plt.xlabel('GaussianNB')\n",
    "\n",
    "plt.figure()\n",
    "plt.plot(x, arr8)\n",
    "plt.ylim(0.5, 0.7)\n",
    "# plt.xlabel('Decision Tree')\n",
    "\n",
    "plt.plot(x=x, y=arr1, color=[0.5, 0.5, 0.5], linestyle='solid')\n",
    "plt.plot(x=x, y=arr2, color=[0.5, 0.5, 0], linestyle='solid')\n",
    "plt.plot(x=x, y=arr3, color=[0.5, 0, 0.5], linestyle='solid')\n",
    "plt.plot(x=x, y=arr4, color=[0.5, 0, 0], linestyle='solid')\n",
    "plt.plot(x=x, y=arr5, color=[0, 0.5, 0.5], linestyle='solid')\n",
    "plt.plot(x=x, y=arr6, color=[0, 0.5, 0], linestyle='solid')\n",
    "plt.plot(x=x, y=arr7, color=[0, 0, 0.5], linestyle='solid')\n",
    "plt.plot(x=x, y=arr8, color=[0, 0, 0], linestyle='solid')\n",
    "plt.show()"
   ]
  },
  {
   "cell_type": "code",
   "execution_count": 19,
   "metadata": {},
   "outputs": [
    {
     "name": "stdout",
     "output_type": "stream",
     "text": [
      "3337\n"
     ]
    }
   ],
   "source": [
    "train_data = match_data[2700:3000]\n",
    "test_data = match_data[3000:]\n",
    "train_result = result[2700:3000]\n",
    "test_result = result[3000:]\n",
    "print(len(match_data))"
   ]
  },
  {
   "cell_type": "code",
   "execution_count": 20,
   "metadata": {},
   "outputs": [
    {
     "data": {
      "text/plain": [
       "1179    H\n",
       "1180    H\n",
       "1181    D\n",
       "1182    D\n",
       "1183    D\n",
       "Name: score, dtype: object"
      ]
     },
     "execution_count": 20,
     "metadata": {},
     "output_type": "execute_result"
    }
   ],
   "source": [
    "result.head()"
   ]
  },
  {
   "cell_type": "code",
   "execution_count": 21,
   "metadata": {},
   "outputs": [
    {
     "data": {
      "text/plain": [
       "4180    A\n",
       "4181    H\n",
       "4182    D\n",
       "4183    D\n",
       "4184    A\n",
       "Name: score, dtype: object"
      ]
     },
     "execution_count": 21,
     "metadata": {},
     "output_type": "execute_result"
    }
   ],
   "source": [
    "test_result.head()"
   ]
  },
  {
   "cell_type": "code",
   "execution_count": 22,
   "metadata": {},
   "outputs": [
    {
     "data": {
      "text/plain": [
       "3880    D\n",
       "3881    D\n",
       "3882    H\n",
       "3883    A\n",
       "3884    H\n",
       "Name: score, dtype: object"
      ]
     },
     "execution_count": 22,
     "metadata": {},
     "output_type": "execute_result"
    }
   ],
   "source": [
    "train_result.head()"
   ]
  },
  {
   "cell_type": "code",
   "execution_count": 23,
   "metadata": {},
   "outputs": [
    {
     "data": {
      "text/html": [
       "<div>\n",
       "<style scoped>\n",
       "    .dataframe tbody tr th:only-of-type {\n",
       "        vertical-align: middle;\n",
       "    }\n",
       "\n",
       "    .dataframe tbody tr th {\n",
       "        vertical-align: top;\n",
       "    }\n",
       "\n",
       "    .dataframe thead th {\n",
       "        text-align: right;\n",
       "    }\n",
       "</style>\n",
       "<table border=\"1\" class=\"dataframe\">\n",
       "  <thead>\n",
       "    <tr style=\"text-align: right;\">\n",
       "      <th></th>\n",
       "      <th>position</th>\n",
       "      <th>win_rate</th>\n",
       "      <th>goal_rate</th>\n",
       "      <th>clean_sheet</th>\n",
       "      <th>chance</th>\n",
       "    </tr>\n",
       "  </thead>\n",
       "  <tbody>\n",
       "    <tr>\n",
       "      <th>3880</th>\n",
       "      <td>-1.0</td>\n",
       "      <td>0.052632</td>\n",
       "      <td>-0.32</td>\n",
       "      <td>3.0</td>\n",
       "      <td>-0.55</td>\n",
       "    </tr>\n",
       "    <tr>\n",
       "      <th>3881</th>\n",
       "      <td>-15.0</td>\n",
       "      <td>0.394737</td>\n",
       "      <td>1.21</td>\n",
       "      <td>7.0</td>\n",
       "      <td>1.34</td>\n",
       "    </tr>\n",
       "    <tr>\n",
       "      <th>3882</th>\n",
       "      <td>-6.0</td>\n",
       "      <td>0.315789</td>\n",
       "      <td>0.63</td>\n",
       "      <td>9.0</td>\n",
       "      <td>0.50</td>\n",
       "    </tr>\n",
       "    <tr>\n",
       "      <th>3883</th>\n",
       "      <td>15.0</td>\n",
       "      <td>-0.473684</td>\n",
       "      <td>-0.82</td>\n",
       "      <td>-11.0</td>\n",
       "      <td>-0.37</td>\n",
       "    </tr>\n",
       "    <tr>\n",
       "      <th>3884</th>\n",
       "      <td>-4.0</td>\n",
       "      <td>0.052632</td>\n",
       "      <td>-0.02</td>\n",
       "      <td>4.0</td>\n",
       "      <td>0.13</td>\n",
       "    </tr>\n",
       "  </tbody>\n",
       "</table>\n",
       "</div>"
      ],
      "text/plain": [
       "      position  win_rate  goal_rate  clean_sheet  chance\n",
       "3880      -1.0  0.052632      -0.32          3.0   -0.55\n",
       "3881     -15.0  0.394737       1.21          7.0    1.34\n",
       "3882      -6.0  0.315789       0.63          9.0    0.50\n",
       "3883      15.0 -0.473684      -0.82        -11.0   -0.37\n",
       "3884      -4.0  0.052632      -0.02          4.0    0.13"
      ]
     },
     "execution_count": 23,
     "metadata": {},
     "output_type": "execute_result"
    }
   ],
   "source": [
    "train_data.head()"
   ]
  },
  {
   "cell_type": "code",
   "execution_count": 24,
   "metadata": {},
   "outputs": [
    {
     "data": {
      "text/html": [
       "<div>\n",
       "<style scoped>\n",
       "    .dataframe tbody tr th:only-of-type {\n",
       "        vertical-align: middle;\n",
       "    }\n",
       "\n",
       "    .dataframe tbody tr th {\n",
       "        vertical-align: top;\n",
       "    }\n",
       "\n",
       "    .dataframe thead th {\n",
       "        text-align: right;\n",
       "    }\n",
       "</style>\n",
       "<table border=\"1\" class=\"dataframe\">\n",
       "  <thead>\n",
       "    <tr style=\"text-align: right;\">\n",
       "      <th></th>\n",
       "      <th>position</th>\n",
       "      <th>win_rate</th>\n",
       "      <th>goal_rate</th>\n",
       "      <th>clean_sheet</th>\n",
       "      <th>chance</th>\n",
       "    </tr>\n",
       "  </thead>\n",
       "  <tbody>\n",
       "    <tr>\n",
       "      <th>4180</th>\n",
       "      <td>13.0</td>\n",
       "      <td>-0.342105</td>\n",
       "      <td>-0.89</td>\n",
       "      <td>-7.0</td>\n",
       "      <td>-0.92</td>\n",
       "    </tr>\n",
       "    <tr>\n",
       "      <th>4181</th>\n",
       "      <td>-4.0</td>\n",
       "      <td>0.157895</td>\n",
       "      <td>-0.16</td>\n",
       "      <td>6.0</td>\n",
       "      <td>-0.55</td>\n",
       "    </tr>\n",
       "    <tr>\n",
       "      <th>4182</th>\n",
       "      <td>4.0</td>\n",
       "      <td>-0.210526</td>\n",
       "      <td>-1.05</td>\n",
       "      <td>-7.0</td>\n",
       "      <td>-0.97</td>\n",
       "    </tr>\n",
       "    <tr>\n",
       "      <th>4183</th>\n",
       "      <td>2.0</td>\n",
       "      <td>-0.052632</td>\n",
       "      <td>0.08</td>\n",
       "      <td>1.0</td>\n",
       "      <td>0.23</td>\n",
       "    </tr>\n",
       "    <tr>\n",
       "      <th>4184</th>\n",
       "      <td>-1.0</td>\n",
       "      <td>0.000000</td>\n",
       "      <td>0.44</td>\n",
       "      <td>0.0</td>\n",
       "      <td>-0.02</td>\n",
       "    </tr>\n",
       "  </tbody>\n",
       "</table>\n",
       "</div>"
      ],
      "text/plain": [
       "      position  win_rate  goal_rate  clean_sheet  chance\n",
       "4180      13.0 -0.342105      -0.89         -7.0   -0.92\n",
       "4181      -4.0  0.157895      -0.16          6.0   -0.55\n",
       "4182       4.0 -0.210526      -1.05         -7.0   -0.97\n",
       "4183       2.0 -0.052632       0.08          1.0    0.23\n",
       "4184      -1.0  0.000000       0.44          0.0   -0.02"
      ]
     },
     "execution_count": 24,
     "metadata": {},
     "output_type": "execute_result"
    }
   ],
   "source": [
    "test_data.head()"
   ]
  },
  {
   "cell_type": "code",
   "execution_count": null,
   "metadata": {},
   "outputs": [],
   "source": []
  },
  {
   "cell_type": "code",
   "execution_count": 25,
   "metadata": {},
   "outputs": [
    {
     "data": {
      "text/html": [
       "<div>\n",
       "<style scoped>\n",
       "    .dataframe tbody tr th:only-of-type {\n",
       "        vertical-align: middle;\n",
       "    }\n",
       "\n",
       "    .dataframe tbody tr th {\n",
       "        vertical-align: top;\n",
       "    }\n",
       "\n",
       "    .dataframe thead th {\n",
       "        text-align: right;\n",
       "    }\n",
       "</style>\n",
       "<table border=\"1\" class=\"dataframe\">\n",
       "  <thead>\n",
       "    <tr style=\"text-align: right;\">\n",
       "      <th></th>\n",
       "      <th>position</th>\n",
       "      <th>win_rate</th>\n",
       "      <th>goal_rate</th>\n",
       "      <th>clean_sheet</th>\n",
       "      <th>chance</th>\n",
       "    </tr>\n",
       "  </thead>\n",
       "  <tbody>\n",
       "    <tr>\n",
       "      <th>3880</th>\n",
       "      <td>-1.0</td>\n",
       "      <td>0.052632</td>\n",
       "      <td>-0.32</td>\n",
       "      <td>3.0</td>\n",
       "      <td>-0.55</td>\n",
       "    </tr>\n",
       "    <tr>\n",
       "      <th>3881</th>\n",
       "      <td>-15.0</td>\n",
       "      <td>0.394737</td>\n",
       "      <td>1.21</td>\n",
       "      <td>7.0</td>\n",
       "      <td>1.34</td>\n",
       "    </tr>\n",
       "    <tr>\n",
       "      <th>3882</th>\n",
       "      <td>-6.0</td>\n",
       "      <td>0.315789</td>\n",
       "      <td>0.63</td>\n",
       "      <td>9.0</td>\n",
       "      <td>0.50</td>\n",
       "    </tr>\n",
       "    <tr>\n",
       "      <th>3883</th>\n",
       "      <td>15.0</td>\n",
       "      <td>-0.473684</td>\n",
       "      <td>-0.82</td>\n",
       "      <td>-11.0</td>\n",
       "      <td>-0.37</td>\n",
       "    </tr>\n",
       "    <tr>\n",
       "      <th>3884</th>\n",
       "      <td>-4.0</td>\n",
       "      <td>0.052632</td>\n",
       "      <td>-0.02</td>\n",
       "      <td>4.0</td>\n",
       "      <td>0.13</td>\n",
       "    </tr>\n",
       "  </tbody>\n",
       "</table>\n",
       "</div>"
      ],
      "text/plain": [
       "      position  win_rate  goal_rate  clean_sheet  chance\n",
       "3880      -1.0  0.052632      -0.32          3.0   -0.55\n",
       "3881     -15.0  0.394737       1.21          7.0    1.34\n",
       "3882      -6.0  0.315789       0.63          9.0    0.50\n",
       "3883      15.0 -0.473684      -0.82        -11.0   -0.37\n",
       "3884      -4.0  0.052632      -0.02          4.0    0.13"
      ]
     },
     "execution_count": 25,
     "metadata": {},
     "output_type": "execute_result"
    }
   ],
   "source": [
    "train_data.head()"
   ]
  },
  {
   "cell_type": "code",
   "execution_count": 26,
   "metadata": {},
   "outputs": [
    {
     "data": {
      "text/plain": [
       "3880    D\n",
       "3881    D\n",
       "3882    H\n",
       "3883    A\n",
       "3884    H\n",
       "Name: score, dtype: object"
      ]
     },
     "execution_count": 26,
     "metadata": {},
     "output_type": "execute_result"
    }
   ],
   "source": [
    "train_result.head()"
   ]
  },
  {
   "cell_type": "code",
   "execution_count": 27,
   "metadata": {},
   "outputs": [
    {
     "name": "stderr",
     "output_type": "stream",
     "text": [
      "/opt/conda/lib/python3.6/site-packages/sklearn/svm/base.py:196: FutureWarning: The default value of gamma will change from 'auto' to 'scale' in version 0.22 to account better for unscaled features. Set gamma explicitly to 'auto' or 'scale' to avoid this warning.\n",
      "  \"avoid this warning.\", FutureWarning)\n"
     ]
    },
    {
     "data": {
      "text/plain": [
       "array(['A', 'H', 'A', 'H', 'H', 'H', 'A', 'A', 'H', 'H', 'H', 'H', 'H',\n",
       "       'A', 'H', 'H', 'H', 'A', 'A', 'H', 'D', 'A', 'H', 'H', 'H', 'H',\n",
       "       'H', 'A', 'H', 'A', 'A', 'A', 'D', 'H', 'D', 'H', 'H', 'H', 'H',\n",
       "       'D', 'H', 'H', 'A', 'H', 'A', 'H', 'H', 'H', 'A', 'H', 'A', 'H',\n",
       "       'H', 'A', 'D', 'H', 'D', 'D', 'A', 'H', 'H', 'H', 'A', 'A', 'H',\n",
       "       'H', 'D', 'H', 'H', 'H', 'H', 'A', 'H', 'H', 'H', 'A', 'H', 'D',\n",
       "       'H', 'D', 'A', 'D', 'D', 'H', 'H', 'H', 'A', 'A', 'H', 'H', 'A',\n",
       "       'H', 'H', 'A', 'A', 'H', 'D', 'H', 'A', 'H', 'D', 'H', 'A', 'A',\n",
       "       'D', 'A', 'H', 'H', 'H', 'D', 'A', 'H', 'H', 'D', 'H', 'A', 'H',\n",
       "       'H', 'H', 'H', 'H', 'H', 'D', 'A', 'A', 'D', 'H', 'A', 'H', 'H',\n",
       "       'H', 'H', 'D', 'D', 'A', 'D', 'H', 'D', 'D', 'H', 'H', 'D', 'H',\n",
       "       'D', 'D', 'H', 'H', 'H', 'H', 'H', 'A', 'D', 'A', 'H', 'A', 'H',\n",
       "       'H', 'H', 'D', 'H', 'H', 'H', 'D', 'H', 'H', 'H', 'H', 'D', 'D',\n",
       "       'D', 'A', 'H', 'D', 'H', 'D', 'H', 'A', 'D', 'A', 'A', 'H', 'A',\n",
       "       'A', 'H', 'H', 'H', 'H', 'D', 'H', 'D', 'A', 'H', 'A', 'H', 'H',\n",
       "       'H', 'H', 'D', 'D', 'A', 'A', 'D', 'D', 'A', 'H', 'H', 'H', 'D',\n",
       "       'D', 'H', 'H', 'H', 'D', 'A', 'H', 'H', 'H', 'A', 'H', 'H', 'H',\n",
       "       'H', 'H', 'A', 'A', 'D', 'H', 'H', 'A', 'H', 'A', 'H', 'D', 'H',\n",
       "       'H', 'D', 'A', 'H', 'H', 'A', 'D', 'H', 'H', 'H', 'H', 'A', 'H',\n",
       "       'H', 'H', 'H', 'D', 'H', 'H', 'A', 'D', 'D', 'H', 'D', 'H', 'A',\n",
       "       'A', 'D', 'H', 'H', 'A', 'H', 'A', 'D', 'H', 'A', 'H', 'H', 'H',\n",
       "       'H', 'H', 'A', 'H', 'H', 'H', 'H', 'H', 'H', 'H', 'H', 'H', 'H',\n",
       "       'H', 'D', 'D', 'D', 'H', 'H', 'H', 'A', 'D', 'H', 'D', 'H', 'D',\n",
       "       'H', 'H', 'H', 'D', 'H', 'H', 'D', 'A', 'A', 'H', 'H', 'A', 'H',\n",
       "       'D', 'D', 'A', 'A', 'A', 'H', 'D', 'D', 'H', 'H', 'H', 'H', 'A',\n",
       "       'H', 'H', 'H', 'H', 'H', 'A', 'D', 'H', 'A', 'D', 'A', 'H'], dtype=object)"
      ]
     },
     "execution_count": 27,
     "metadata": {},
     "output_type": "execute_result"
    }
   ],
   "source": [
    "# Support Vector Machines\n",
    "svc = SVC()\n",
    "svc.fit(train_data, train_result)\n",
    "svc_result = svc.predict(test_data)\n",
    "svc_result"
   ]
  },
  {
   "cell_type": "code",
   "execution_count": 28,
   "metadata": {},
   "outputs": [
    {
     "data": {
      "text/plain": [
       "0.48664688427299702"
      ]
     },
     "execution_count": 28,
     "metadata": {},
     "output_type": "execute_result"
    }
   ],
   "source": [
    "svc_accuracy = accuracy_score(test_result, svc_result)\n",
    "svc_accuracy"
   ]
  },
  {
   "cell_type": "code",
   "execution_count": 29,
   "metadata": {},
   "outputs": [
    {
     "name": "stderr",
     "output_type": "stream",
     "text": [
      "/opt/conda/lib/python3.6/site-packages/sklearn/ensemble/forest.py:246: FutureWarning: The default value of n_estimators will change from 10 in version 0.20 to 100 in 0.22.\n",
      "  \"10 in version 0.20 to 100 in 0.22.\", FutureWarning)\n"
     ]
    },
    {
     "data": {
      "text/plain": [
       "array(['D', 'D', 'A', 'D', 'A', 'D', 'A', 'A', 'H', 'H', 'H', 'H', 'H',\n",
       "       'A', 'H', 'H', 'H', 'A', 'H', 'D', 'H', 'A', 'H', 'H', 'H', 'H',\n",
       "       'H', 'A', 'D', 'A', 'D', 'H', 'D', 'H', 'D', 'H', 'H', 'A', 'D',\n",
       "       'A', 'H', 'H', 'A', 'H', 'A', 'H', 'H', 'H', 'A', 'H', 'H', 'H',\n",
       "       'H', 'H', 'D', 'H', 'D', 'A', 'D', 'D', 'H', 'H', 'A', 'A', 'H',\n",
       "       'H', 'H', 'A', 'H', 'A', 'H', 'A', 'H', 'D', 'H', 'A', 'H', 'A',\n",
       "       'H', 'A', 'A', 'D', 'D', 'D', 'H', 'A', 'D', 'D', 'H', 'H', 'D',\n",
       "       'H', 'H', 'A', 'A', 'H', 'D', 'H', 'D', 'H', 'A', 'H', 'A', 'A',\n",
       "       'A', 'A', 'D', 'H', 'H', 'D', 'A', 'H', 'H', 'A', 'A', 'A', 'D',\n",
       "       'H', 'H', 'H', 'H', 'H', 'D', 'A', 'A', 'D', 'H', 'A', 'D', 'H',\n",
       "       'H', 'H', 'D', 'A', 'A', 'D', 'H', 'D', 'H', 'D', 'H', 'A', 'H',\n",
       "       'D', 'D', 'D', 'H', 'H', 'H', 'H', 'A', 'A', 'A', 'H', 'A', 'D',\n",
       "       'H', 'D', 'A', 'H', 'A', 'A', 'D', 'H', 'D', 'H', 'H', 'D', 'D',\n",
       "       'D', 'A', 'H', 'A', 'H', 'D', 'H', 'A', 'D', 'A', 'D', 'H', 'A',\n",
       "       'A', 'D', 'D', 'H', 'H', 'A', 'H', 'H', 'A', 'D', 'A', 'H', 'D',\n",
       "       'H', 'H', 'A', 'A', 'D', 'A', 'A', 'A', 'A', 'H', 'H', 'D', 'D',\n",
       "       'H', 'H', 'H', 'A', 'H', 'A', 'H', 'D', 'D', 'D', 'H', 'D', 'H',\n",
       "       'H', 'H', 'A', 'A', 'A', 'H', 'H', 'A', 'A', 'A', 'H', 'H', 'D',\n",
       "       'D', 'H', 'A', 'D', 'D', 'A', 'D', 'H', 'A', 'D', 'H', 'A', 'D',\n",
       "       'D', 'H', 'H', 'D', 'H', 'H', 'D', 'H', 'H', 'H', 'D', 'A', 'A',\n",
       "       'A', 'A', 'H', 'H', 'A', 'H', 'D', 'H', 'H', 'D', 'A', 'H', 'D',\n",
       "       'D', 'D', 'D', 'H', 'D', 'H', 'H', 'A', 'H', 'A', 'H', 'A', 'H',\n",
       "       'H', 'H', 'D', 'A', 'H', 'D', 'D', 'A', 'H', 'H', 'A', 'D', 'D',\n",
       "       'A', 'H', 'H', 'A', 'D', 'H', 'A', 'D', 'A', 'D', 'H', 'A', 'H',\n",
       "       'D', 'H', 'A', 'A', 'D', 'H', 'D', 'A', 'A', 'H', 'H', 'H', 'H',\n",
       "       'H', 'H', 'D', 'H', 'D', 'D', 'H', 'H', 'A', 'H', 'A', 'D'], dtype=object)"
      ]
     },
     "execution_count": 29,
     "metadata": {},
     "output_type": "execute_result"
    }
   ],
   "source": [
    "rf = RandomForestClassifier()\n",
    "rf.fit(train_data, train_result)\n",
    "rf_result = rf.predict(test_data)\n",
    "rf_result"
   ]
  },
  {
   "cell_type": "code",
   "execution_count": 30,
   "metadata": {},
   "outputs": [
    {
     "data": {
      "text/plain": [
       "0.50445103857566764"
      ]
     },
     "execution_count": 30,
     "metadata": {},
     "output_type": "execute_result"
    }
   ],
   "source": [
    "rf_accuracy = accuracy_score(test_result, rf_result)\n",
    "rf_accuracy"
   ]
  },
  {
   "cell_type": "code",
   "execution_count": 31,
   "metadata": {},
   "outputs": [
    {
     "name": "stderr",
     "output_type": "stream",
     "text": [
      "/opt/conda/lib/python3.6/site-packages/sklearn/svm/base.py:931: ConvergenceWarning: Liblinear failed to converge, increase the number of iterations.\n",
      "  \"the number of iterations.\", ConvergenceWarning)\n"
     ]
    },
    {
     "data": {
      "text/plain": [
       "array(['A', 'H', 'A', 'H', 'H', 'H', 'H', 'A', 'H', 'H', 'H', 'H', 'H',\n",
       "       'A', 'H', 'H', 'H', 'A', 'H', 'H', 'H', 'A', 'H', 'H', 'H', 'A',\n",
       "       'H', 'A', 'H', 'A', 'A', 'H', 'A', 'H', 'H', 'H', 'H', 'H', 'H',\n",
       "       'A', 'H', 'H', 'A', 'H', 'A', 'H', 'H', 'H', 'A', 'H', 'H', 'H',\n",
       "       'H', 'H', 'A', 'H', 'H', 'A', 'A', 'A', 'H', 'H', 'D', 'A', 'H',\n",
       "       'H', 'A', 'A', 'H', 'H', 'H', 'A', 'H', 'H', 'H', 'A', 'H', 'A',\n",
       "       'H', 'A', 'A', 'H', 'H', 'H', 'H', 'A', 'A', 'A', 'H', 'H', 'H',\n",
       "       'H', 'H', 'A', 'A', 'H', 'H', 'H', 'A', 'H', 'H', 'H', 'A', 'A',\n",
       "       'A', 'A', 'H', 'H', 'H', 'H', 'A', 'H', 'H', 'H', 'H', 'A', 'H',\n",
       "       'H', 'A', 'H', 'H', 'H', 'D', 'A', 'D', 'H', 'H', 'A', 'H', 'H',\n",
       "       'H', 'H', 'D', 'H', 'A', 'A', 'H', 'D', 'H', 'H', 'H', 'A', 'H',\n",
       "       'D', 'A', 'H', 'H', 'H', 'H', 'H', 'H', 'A', 'A', 'H', 'A', 'H',\n",
       "       'H', 'H', 'A', 'H', 'A', 'A', 'D', 'H', 'D', 'H', 'H', 'H', 'D',\n",
       "       'D', 'H', 'H', 'H', 'H', 'H', 'H', 'A', 'A', 'A', 'A', 'H', 'H',\n",
       "       'A', 'D', 'H', 'H', 'H', 'A', 'H', 'H', 'A', 'H', 'A', 'H', 'H',\n",
       "       'H', 'H', 'A', 'A', 'A', 'A', 'A', 'A', 'H', 'H', 'H', 'H', 'H',\n",
       "       'D', 'H', 'H', 'H', 'D', 'A', 'A', 'H', 'H', 'H', 'H', 'H', 'H',\n",
       "       'H', 'H', 'A', 'A', 'A', 'H', 'H', 'A', 'H', 'A', 'H', 'H', 'H',\n",
       "       'H', 'A', 'A', 'H', 'H', 'A', 'D', 'H', 'H', 'H', 'H', 'A', 'H',\n",
       "       'H', 'H', 'H', 'A', 'H', 'H', 'H', 'H', 'H', 'H', 'H', 'H', 'A',\n",
       "       'A', 'A', 'H', 'H', 'A', 'H', 'H', 'H', 'H', 'A', 'A', 'A', 'H',\n",
       "       'H', 'H', 'A', 'H', 'H', 'H', 'H', 'D', 'H', 'H', 'H', 'A', 'H',\n",
       "       'H', 'H', 'D', 'A', 'H', 'H', 'H', 'A', 'H', 'H', 'A', 'H', 'A',\n",
       "       'H', 'H', 'H', 'A', 'H', 'H', 'H', 'D', 'H', 'H', 'H', 'A', 'H',\n",
       "       'H', 'H', 'A', 'A', 'A', 'H', 'D', 'A', 'H', 'A', 'H', 'H', 'H',\n",
       "       'H', 'H', 'H', 'H', 'H', 'A', 'H', 'H', 'A', 'H', 'A', 'H'], dtype=object)"
      ]
     },
     "execution_count": 31,
     "metadata": {},
     "output_type": "execute_result"
    }
   ],
   "source": [
    "lsvc = LinearSVC()\n",
    "lsvc.fit(train_data, train_result)\n",
    "lsvc_result = lsvc.predict(test_data)\n",
    "lsvc_result"
   ]
  },
  {
   "cell_type": "code",
   "execution_count": 32,
   "metadata": {},
   "outputs": [
    {
     "data": {
      "text/plain": [
       "0.61127596439169141"
      ]
     },
     "execution_count": 32,
     "metadata": {},
     "output_type": "execute_result"
    }
   ],
   "source": [
    "lsvc_accuracy = accuracy_score(test_result, lsvc_result)\n",
    "lsvc_accuracy"
   ]
  },
  {
   "cell_type": "code",
   "execution_count": 33,
   "metadata": {},
   "outputs": [
    {
     "name": "stderr",
     "output_type": "stream",
     "text": [
      "/opt/conda/lib/python3.6/site-packages/sklearn/linear_model/stochastic_gradient.py:166: FutureWarning: max_iter and tol parameters have been added in SGDClassifier in 0.19. If both are left unset, they default to max_iter=5 and tol=None. If tol is not None, max_iter defaults to max_iter=1000. From 0.21, default max_iter will be 1000, and default tol will be 1e-3.\n",
      "  FutureWarning)\n"
     ]
    },
    {
     "data": {
      "text/plain": [
       "array(['A', 'D', 'A', 'H', 'H', 'H', 'A', 'A', 'A', 'H', 'H', 'H', 'H',\n",
       "       'A', 'H', 'H', 'H', 'A', 'A', 'D', 'H', 'A', 'H', 'H', 'H', 'A',\n",
       "       'D', 'A', 'H', 'A', 'A', 'A', 'A', 'H', 'H', 'H', 'H', 'A', 'H',\n",
       "       'A', 'H', 'H', 'A', 'H', 'A', 'D', 'H', 'H', 'A', 'H', 'H', 'H',\n",
       "       'H', 'A', 'A', 'H', 'D', 'A', 'A', 'A', 'H', 'H', 'A', 'A', 'H',\n",
       "       'D', 'A', 'A', 'A', 'A', 'H', 'A', 'H', 'H', 'H', 'A', 'H', 'A',\n",
       "       'H', 'A', 'A', 'H', 'H', 'H', 'H', 'A', 'A', 'A', 'H', 'H', 'A',\n",
       "       'H', 'D', 'A', 'A', 'H', 'H', 'H', 'A', 'H', 'H', 'H', 'A', 'A',\n",
       "       'A', 'A', 'H', 'H', 'H', 'D', 'A', 'H', 'H', 'D', 'H', 'A', 'H',\n",
       "       'H', 'A', 'A', 'H', 'H', 'A', 'A', 'A', 'H', 'H', 'A', 'H', 'H',\n",
       "       'H', 'H', 'A', 'A', 'A', 'A', 'H', 'D', 'H', 'H', 'D', 'A', 'H',\n",
       "       'A', 'A', 'H', 'H', 'H', 'A', 'H', 'A', 'A', 'A', 'H', 'A', 'H',\n",
       "       'H', 'A', 'A', 'H', 'A', 'A', 'A', 'H', 'A', 'H', 'H', 'D', 'A',\n",
       "       'A', 'H', 'H', 'D', 'H', 'H', 'H', 'A', 'A', 'A', 'A', 'D', 'H',\n",
       "       'A', 'D', 'A', 'H', 'D', 'A', 'H', 'H', 'A', 'A', 'A', 'H', 'D',\n",
       "       'H', 'H', 'A', 'A', 'A', 'A', 'A', 'A', 'A', 'H', 'H', 'H', 'H',\n",
       "       'A', 'D', 'H', 'H', 'A', 'A', 'A', 'D', 'H', 'A', 'H', 'H', 'A',\n",
       "       'H', 'H', 'A', 'A', 'A', 'H', 'H', 'A', 'H', 'A', 'H', 'H', 'H',\n",
       "       'H', 'A', 'A', 'H', 'H', 'A', 'A', 'H', 'H', 'H', 'H', 'A', 'H',\n",
       "       'H', 'H', 'H', 'A', 'H', 'H', 'A', 'H', 'H', 'H', 'H', 'A', 'A',\n",
       "       'A', 'A', 'H', 'H', 'A', 'H', 'H', 'H', 'H', 'A', 'A', 'A', 'H',\n",
       "       'H', 'A', 'A', 'D', 'H', 'H', 'H', 'D', 'H', 'H', 'D', 'A', 'H',\n",
       "       'H', 'H', 'A', 'A', 'H', 'H', 'H', 'A', 'H', 'H', 'A', 'H', 'A',\n",
       "       'H', 'H', 'D', 'A', 'H', 'H', 'H', 'A', 'H', 'D', 'H', 'A', 'H',\n",
       "       'A', 'D', 'A', 'A', 'A', 'H', 'A', 'A', 'H', 'A', 'D', 'H', 'H',\n",
       "       'H', 'D', 'H', 'H', 'A', 'A', 'H', 'H', 'A', 'H', 'A', 'H'],\n",
       "      dtype='<U1')"
      ]
     },
     "execution_count": 33,
     "metadata": {},
     "output_type": "execute_result"
    }
   ],
   "source": [
    "from sklearn.linear_model import SGDClassifier\n",
    "sgdc = SGDClassifier()\n",
    "sgdc.fit(train_data, train_result)\n",
    "sgdc_result = sgdc.predict(test_data)\n",
    "sgdc_result"
   ]
  },
  {
   "cell_type": "code",
   "execution_count": 34,
   "metadata": {},
   "outputs": [
    {
     "data": {
      "text/plain": [
       "0.56973293768545996"
      ]
     },
     "execution_count": 34,
     "metadata": {},
     "output_type": "execute_result"
    }
   ],
   "source": [
    "sgdc_accuracy = accuracy_score(test_result, sgdc_result)\n",
    "sgdc_accuracy"
   ]
  },
  {
   "cell_type": "code",
   "execution_count": 35,
   "metadata": {},
   "outputs": [
    {
     "name": "stderr",
     "output_type": "stream",
     "text": [
      "/opt/conda/lib/python3.6/site-packages/sklearn/linear_model/logistic.py:433: FutureWarning: Default solver will be changed to 'lbfgs' in 0.22. Specify a solver to silence this warning.\n",
      "  FutureWarning)\n",
      "/opt/conda/lib/python3.6/site-packages/sklearn/linear_model/logistic.py:460: FutureWarning: Default multi_class will be changed to 'auto' in 0.22. Specify the multi_class option to silence this warning.\n",
      "  \"this warning.\", FutureWarning)\n"
     ]
    },
    {
     "data": {
      "text/plain": [
       "array(['A', 'H', 'A', 'H', 'H', 'H', 'H', 'A', 'H', 'H', 'H', 'H', 'H',\n",
       "       'A', 'H', 'H', 'H', 'A', 'H', 'H', 'H', 'A', 'H', 'H', 'H', 'A',\n",
       "       'H', 'A', 'H', 'A', 'A', 'H', 'A', 'H', 'H', 'H', 'H', 'H', 'H',\n",
       "       'A', 'H', 'H', 'A', 'H', 'A', 'H', 'H', 'H', 'A', 'H', 'H', 'H',\n",
       "       'H', 'H', 'A', 'H', 'H', 'A', 'A', 'A', 'H', 'H', 'H', 'A', 'H',\n",
       "       'H', 'A', 'H', 'H', 'H', 'H', 'A', 'H', 'H', 'H', 'A', 'H', 'A',\n",
       "       'H', 'A', 'A', 'H', 'H', 'H', 'H', 'A', 'A', 'A', 'H', 'H', 'A',\n",
       "       'H', 'H', 'A', 'A', 'H', 'H', 'H', 'A', 'H', 'H', 'H', 'A', 'A',\n",
       "       'A', 'A', 'H', 'H', 'H', 'H', 'A', 'H', 'H', 'H', 'H', 'A', 'H',\n",
       "       'H', 'A', 'H', 'H', 'H', 'D', 'A', 'D', 'H', 'H', 'A', 'H', 'H',\n",
       "       'H', 'H', 'D', 'H', 'A', 'A', 'H', 'H', 'H', 'H', 'H', 'A', 'H',\n",
       "       'A', 'A', 'H', 'H', 'H', 'H', 'H', 'H', 'A', 'A', 'H', 'A', 'H',\n",
       "       'H', 'H', 'A', 'H', 'A', 'A', 'D', 'H', 'D', 'H', 'H', 'H', 'D',\n",
       "       'D', 'H', 'H', 'H', 'H', 'H', 'H', 'A', 'A', 'A', 'A', 'H', 'H',\n",
       "       'A', 'H', 'H', 'H', 'H', 'A', 'H', 'H', 'A', 'H', 'A', 'H', 'H',\n",
       "       'H', 'H', 'A', 'A', 'A', 'A', 'A', 'A', 'A', 'H', 'H', 'H', 'H',\n",
       "       'D', 'H', 'H', 'H', 'D', 'A', 'A', 'H', 'H', 'H', 'H', 'H', 'H',\n",
       "       'H', 'H', 'A', 'A', 'A', 'H', 'H', 'A', 'H', 'A', 'H', 'H', 'H',\n",
       "       'H', 'A', 'A', 'H', 'H', 'A', 'D', 'H', 'H', 'H', 'H', 'A', 'H',\n",
       "       'H', 'H', 'H', 'A', 'H', 'H', 'A', 'H', 'H', 'H', 'H', 'H', 'A',\n",
       "       'A', 'A', 'H', 'H', 'A', 'H', 'H', 'H', 'H', 'A', 'A', 'A', 'H',\n",
       "       'H', 'H', 'A', 'H', 'H', 'H', 'H', 'D', 'H', 'H', 'H', 'A', 'H',\n",
       "       'H', 'H', 'D', 'A', 'H', 'H', 'H', 'A', 'H', 'H', 'A', 'H', 'A',\n",
       "       'H', 'H', 'H', 'D', 'H', 'H', 'H', 'D', 'H', 'H', 'H', 'A', 'H',\n",
       "       'A', 'H', 'A', 'A', 'A', 'H', 'D', 'A', 'H', 'A', 'H', 'H', 'H',\n",
       "       'H', 'H', 'H', 'H', 'H', 'A', 'H', 'H', 'A', 'H', 'A', 'H'], dtype=object)"
      ]
     },
     "execution_count": 35,
     "metadata": {},
     "output_type": "execute_result"
    }
   ],
   "source": [
    "lr = LogisticRegression()\n",
    "lr.fit(train_data, train_result)\n",
    "lr_result = lr.predict(test_data)\n",
    "lr_result"
   ]
  },
  {
   "cell_type": "code",
   "execution_count": 36,
   "metadata": {},
   "outputs": [
    {
     "data": {
      "text/plain": [
       "0.60237388724035612"
      ]
     },
     "execution_count": 36,
     "metadata": {},
     "output_type": "execute_result"
    }
   ],
   "source": [
    "lr_accuracy = accuracy_score(test_result, lr_result)\n",
    "lr_accuracy"
   ]
  },
  {
   "cell_type": "code",
   "execution_count": 37,
   "metadata": {},
   "outputs": [
    {
     "data": {
      "text/plain": [
       "array(['A', 'H', 'A', 'H', 'A', 'A', 'D', 'A', 'D', 'H', 'A', 'H', 'H',\n",
       "       'A', 'H', 'H', 'H', 'A', 'H', 'H', 'D', 'A', 'H', 'H', 'H', 'D',\n",
       "       'H', 'A', 'A', 'A', 'A', 'A', 'D', 'H', 'D', 'H', 'H', 'H', 'H',\n",
       "       'D', 'H', 'H', 'A', 'H', 'A', 'H', 'A', 'H', 'A', 'H', 'A', 'H',\n",
       "       'H', 'H', 'A', 'H', 'D', 'D', 'A', 'D', 'H', 'H', 'A', 'D', 'H',\n",
       "       'H', 'A', 'D', 'H', 'D', 'H', 'A', 'H', 'D', 'H', 'A', 'H', 'A',\n",
       "       'H', 'D', 'A', 'D', 'D', 'D', 'H', 'D', 'A', 'A', 'H', 'D', 'A',\n",
       "       'A', 'H', 'D', 'A', 'H', 'D', 'H', 'A', 'H', 'A', 'A', 'A', 'A',\n",
       "       'A', 'A', 'D', 'A', 'H', 'D', 'A', 'H', 'H', 'D', 'D', 'A', 'H',\n",
       "       'H', 'H', 'D', 'H', 'H', 'D', 'A', 'A', 'D', 'H', 'A', 'H', 'H',\n",
       "       'H', 'A', 'D', 'A', 'A', 'A', 'H', 'D', 'A', 'H', 'H', 'D', 'H',\n",
       "       'D', 'A', 'H', 'H', 'D', 'H', 'H', 'H', 'D', 'A', 'D', 'A', 'H',\n",
       "       'H', 'H', 'D', 'H', 'H', 'A', 'D', 'H', 'D', 'H', 'H', 'D', 'D',\n",
       "       'A', 'D', 'H', 'D', 'H', 'D', 'H', 'A', 'D', 'A', 'A', 'H', 'H',\n",
       "       'H', 'D', 'H', 'H', 'H', 'A', 'H', 'D', 'A', 'D', 'A', 'H', 'H',\n",
       "       'H', 'H', 'D', 'A', 'D', 'A', 'A', 'D', 'A', 'H', 'H', 'H', 'D',\n",
       "       'D', 'H', 'H', 'H', 'D', 'A', 'D', 'H', 'H', 'A', 'H', 'H', 'D',\n",
       "       'H', 'D', 'A', 'A', 'D', 'H', 'H', 'A', 'A', 'A', 'H', 'D', 'A',\n",
       "       'H', 'A', 'A', 'H', 'D', 'H', 'A', 'H', 'D', 'H', 'H', 'A', 'H',\n",
       "       'H', 'H', 'H', 'A', 'H', 'H', 'A', 'D', 'D', 'H', 'A', 'H', 'A',\n",
       "       'A', 'A', 'H', 'H', 'A', 'H', 'A', 'D', 'D', 'A', 'H', 'D', 'D',\n",
       "       'D', 'H', 'A', 'H', 'H', 'H', 'H', 'D', 'H', 'H', 'H', 'A', 'H',\n",
       "       'H', 'D', 'D', 'A', 'D', 'H', 'D', 'A', 'D', 'H', 'D', 'H', 'D',\n",
       "       'H', 'H', 'H', 'A', 'H', 'H', 'A', 'A', 'A', 'H', 'H', 'H', 'D',\n",
       "       'D', 'D', 'A', 'A', 'A', 'H', 'D', 'A', 'D', 'D', 'H', 'H', 'H',\n",
       "       'H', 'D', 'H', 'A', 'H', 'D', 'D', 'H', 'A', 'D', 'A', 'D'], dtype=object)"
      ]
     },
     "execution_count": 37,
     "metadata": {},
     "output_type": "execute_result"
    }
   ],
   "source": [
    "knc = KNeighborsClassifier()\n",
    "knc.fit(train_data, train_result)\n",
    "knc_result = knc.predict(test_data)\n",
    "knc_result"
   ]
  },
  {
   "cell_type": "code",
   "execution_count": 38,
   "metadata": {},
   "outputs": [
    {
     "data": {
      "text/plain": [
       "0.54599406528189909"
      ]
     },
     "execution_count": 38,
     "metadata": {},
     "output_type": "execute_result"
    }
   ],
   "source": [
    "knc_accuracy = accuracy_score(test_result, knc_result)\n",
    "knc_accuracy"
   ]
  },
  {
   "cell_type": "code",
   "execution_count": 39,
   "metadata": {},
   "outputs": [
    {
     "data": {
      "text/plain": [
       "array(['A', 'H', 'A', 'D', 'D', 'D', 'D', 'A', 'D', 'H', 'H', 'H', 'H',\n",
       "       'A', 'H', 'H', 'H', 'A', 'D', 'H', 'H', 'A', 'H', 'D', 'H', 'A',\n",
       "       'H', 'A', 'H', 'A', 'A', 'D', 'A', 'H', 'H', 'H', 'H', 'D', 'D',\n",
       "       'A', 'H', 'H', 'A', 'H', 'A', 'H', 'H', 'D', 'A', 'H', 'D', 'H',\n",
       "       'D', 'D', 'A', 'H', 'D', 'A', 'A', 'A', 'H', 'D', 'A', 'A', 'H',\n",
       "       'H', 'A', 'D', 'D', 'D', 'H', 'A', 'H', 'H', 'H', 'A', 'H', 'A',\n",
       "       'H', 'A', 'D', 'H', 'D', 'D', 'H', 'A', 'A', 'A', 'H', 'D', 'A',\n",
       "       'H', 'H', 'A', 'A', 'H', 'H', 'H', 'A', 'H', 'D', 'H', 'A', 'A',\n",
       "       'A', 'A', 'D', 'H', 'H', 'H', 'A', 'H', 'D', 'H', 'D', 'A', 'H',\n",
       "       'H', 'A', 'D', 'H', 'H', 'A', 'A', 'A', 'D', 'H', 'A', 'H', 'H',\n",
       "       'D', 'D', 'D', 'D', 'A', 'A', 'H', 'D', 'D', 'D', 'H', 'A', 'H',\n",
       "       'A', 'A', 'H', 'H', 'H', 'D', 'H', 'D', 'A', 'A', 'H', 'A', 'D',\n",
       "       'H', 'D', 'A', 'H', 'A', 'A', 'A', 'H', 'A', 'H', 'H', 'D', 'A',\n",
       "       'D', 'D', 'H', 'D', 'D', 'H', 'H', 'A', 'A', 'A', 'A', 'H', 'D',\n",
       "       'A', 'D', 'D', 'H', 'H', 'A', 'D', 'H', 'A', 'D', 'A', 'H', 'H',\n",
       "       'H', 'H', 'A', 'A', 'A', 'A', 'A', 'A', 'D', 'H', 'H', 'H', 'H',\n",
       "       'D', 'H', 'H', 'H', 'D', 'A', 'A', 'H', 'H', 'D', 'H', 'H', 'D',\n",
       "       'H', 'H', 'A', 'A', 'A', 'D', 'H', 'A', 'H', 'A', 'H', 'D', 'D',\n",
       "       'H', 'A', 'A', 'H', 'D', 'A', 'A', 'H', 'H', 'D', 'H', 'A', 'H',\n",
       "       'H', 'H', 'D', 'A', 'H', 'H', 'A', 'H', 'H', 'H', 'H', 'D', 'A',\n",
       "       'A', 'A', 'H', 'H', 'A', 'H', 'D', 'H', 'H', 'A', 'D', 'A', 'H',\n",
       "       'H', 'D', 'A', 'H', 'H', 'H', 'D', 'D', 'H', 'D', 'H', 'A', 'H',\n",
       "       'H', 'H', 'A', 'A', 'H', 'D', 'H', 'A', 'H', 'H', 'A', 'H', 'A',\n",
       "       'D', 'H', 'H', 'A', 'H', 'H', 'D', 'A', 'D', 'H', 'H', 'A', 'D',\n",
       "       'A', 'H', 'A', 'A', 'A', 'H', 'D', 'A', 'H', 'A', 'H', 'H', 'D',\n",
       "       'D', 'D', 'H', 'H', 'D', 'A', 'H', 'H', 'A', 'H', 'A', 'D'],\n",
       "      dtype='<U1')"
      ]
     },
     "execution_count": 39,
     "metadata": {},
     "output_type": "execute_result"
    }
   ],
   "source": [
    "gnb = GaussianNB()\n",
    "gnb.fit(train_data, train_result)\n",
    "gnb_result = gnb.predict(test_data)\n",
    "gnb_result"
   ]
  },
  {
   "cell_type": "code",
   "execution_count": 40,
   "metadata": {},
   "outputs": [
    {
     "data": {
      "text/plain": [
       "0.58160237388724034"
      ]
     },
     "execution_count": 40,
     "metadata": {},
     "output_type": "execute_result"
    }
   ],
   "source": [
    "gnb_accuracy = accuracy_score(test_result, gnb_result)\n",
    "gnb_accuracy"
   ]
  },
  {
   "cell_type": "code",
   "execution_count": 41,
   "metadata": {},
   "outputs": [
    {
     "data": {
      "text/plain": [
       "array(['D', 'D', 'A', 'D', 'D', 'H', 'D', 'A', 'D', 'H', 'H', 'A', 'H',\n",
       "       'D', 'H', 'H', 'H', 'D', 'H', 'D', 'H', 'A', 'H', 'H', 'H', 'H',\n",
       "       'H', 'H', 'H', 'A', 'D', 'H', 'A', 'H', 'D', 'H', 'H', 'A', 'D',\n",
       "       'A', 'H', 'H', 'A', 'H', 'A', 'H', 'H', 'H', 'D', 'D', 'H', 'A',\n",
       "       'D', 'D', 'D', 'H', 'H', 'A', 'A', 'D', 'H', 'D', 'A', 'D', 'H',\n",
       "       'H', 'H', 'A', 'A', 'A', 'H', 'A', 'H', 'D', 'H', 'A', 'H', 'A',\n",
       "       'H', 'H', 'A', 'D', 'D', 'A', 'H', 'D', 'D', 'H', 'H', 'H', 'A',\n",
       "       'H', 'H', 'D', 'D', 'H', 'D', 'H', 'D', 'H', 'A', 'H', 'H', 'H',\n",
       "       'A', 'A', 'A', 'D', 'D', 'D', 'A', 'D', 'H', 'H', 'D', 'A', 'D',\n",
       "       'H', 'D', 'H', 'D', 'H', 'H', 'H', 'H', 'D', 'H', 'A', 'H', 'H',\n",
       "       'H', 'D', 'D', 'D', 'H', 'A', 'H', 'A', 'H', 'A', 'D', 'H', 'H',\n",
       "       'D', 'D', 'A', 'H', 'D', 'A', 'H', 'D', 'H', 'A', 'H', 'H', 'D',\n",
       "       'H', 'D', 'A', 'A', 'H', 'A', 'A', 'D', 'A', 'D', 'H', 'A', 'D',\n",
       "       'D', 'H', 'H', 'H', 'H', 'D', 'H', 'D', 'D', 'D', 'D', 'H', 'A',\n",
       "       'A', 'A', 'A', 'H', 'H', 'A', 'H', 'H', 'H', 'D', 'A', 'H', 'D',\n",
       "       'A', 'D', 'H', 'H', 'H', 'D', 'D', 'H', 'H', 'H', 'H', 'D', 'H',\n",
       "       'D', 'H', 'H', 'H', 'D', 'A', 'H', 'D', 'H', 'D', 'H', 'H', 'D',\n",
       "       'H', 'A', 'A', 'D', 'D', 'D', 'H', 'A', 'A', 'A', 'H', 'H', 'D',\n",
       "       'D', 'H', 'D', 'D', 'H', 'A', 'A', 'H', 'A', 'D', 'H', 'A', 'D',\n",
       "       'H', 'H', 'A', 'D', 'D', 'H', 'A', 'D', 'H', 'H', 'D', 'A', 'A',\n",
       "       'A', 'A', 'H', 'H', 'A', 'D', 'D', 'H', 'H', 'D', 'A', 'H', 'D',\n",
       "       'H', 'H', 'D', 'H', 'A', 'H', 'D', 'H', 'D', 'A', 'H', 'D', 'H',\n",
       "       'H', 'H', 'D', 'A', 'D', 'D', 'D', 'D', 'H', 'H', 'H', 'D', 'D',\n",
       "       'A', 'H', 'H', 'D', 'D', 'H', 'H', 'D', 'H', 'D', 'H', 'H', 'D',\n",
       "       'D', 'H', 'A', 'A', 'A', 'H', 'A', 'A', 'H', 'H', 'D', 'H', 'H',\n",
       "       'H', 'D', 'A', 'H', 'A', 'A', 'H', 'H', 'A', 'H', 'A', 'H'], dtype=object)"
      ]
     },
     "execution_count": 41,
     "metadata": {},
     "output_type": "execute_result"
    }
   ],
   "source": [
    "dtc = DecisionTreeClassifier()\n",
    "dtc.fit(train_data, train_result)\n",
    "dtc_result = dtc.predict(test_data)\n",
    "dtc_result"
   ]
  },
  {
   "cell_type": "code",
   "execution_count": 42,
   "metadata": {},
   "outputs": [
    {
     "data": {
      "text/plain": [
       "0.47181008902077154"
      ]
     },
     "execution_count": 42,
     "metadata": {},
     "output_type": "execute_result"
    }
   ],
   "source": [
    "dtc_accuracy = accuracy_score(test_result, dtc_result)\n",
    "dtc_accuracy"
   ]
  },
  {
   "cell_type": "code",
   "execution_count": 43,
   "metadata": {},
   "outputs": [
    {
     "data": {
      "text/html": [
       "<div>\n",
       "<style scoped>\n",
       "    .dataframe tbody tr th:only-of-type {\n",
       "        vertical-align: middle;\n",
       "    }\n",
       "\n",
       "    .dataframe tbody tr th {\n",
       "        vertical-align: top;\n",
       "    }\n",
       "\n",
       "    .dataframe thead th {\n",
       "        text-align: right;\n",
       "    }\n",
       "</style>\n",
       "<table border=\"1\" class=\"dataframe\">\n",
       "  <thead>\n",
       "    <tr style=\"text-align: right;\">\n",
       "      <th></th>\n",
       "      <th>position</th>\n",
       "      <th>win_rate</th>\n",
       "      <th>goal_rate</th>\n",
       "      <th>clean_sheet</th>\n",
       "      <th>chance</th>\n",
       "    </tr>\n",
       "  </thead>\n",
       "  <tbody>\n",
       "    <tr>\n",
       "      <th>1179</th>\n",
       "      <td>4.0</td>\n",
       "      <td>-0.052632</td>\n",
       "      <td>0.00</td>\n",
       "      <td>-4.0</td>\n",
       "      <td>-0.16</td>\n",
       "    </tr>\n",
       "    <tr>\n",
       "      <th>1180</th>\n",
       "      <td>-11.0</td>\n",
       "      <td>0.131579</td>\n",
       "      <td>0.13</td>\n",
       "      <td>2.0</td>\n",
       "      <td>0.32</td>\n",
       "    </tr>\n",
       "    <tr>\n",
       "      <th>1181</th>\n",
       "      <td>-8.0</td>\n",
       "      <td>0.105263</td>\n",
       "      <td>0.21</td>\n",
       "      <td>4.0</td>\n",
       "      <td>0.06</td>\n",
       "    </tr>\n",
       "    <tr>\n",
       "      <th>1182</th>\n",
       "      <td>2.0</td>\n",
       "      <td>-0.131579</td>\n",
       "      <td>-0.13</td>\n",
       "      <td>-10.0</td>\n",
       "      <td>-0.21</td>\n",
       "    </tr>\n",
       "    <tr>\n",
       "      <th>1183</th>\n",
       "      <td>6.0</td>\n",
       "      <td>0.026316</td>\n",
       "      <td>0.08</td>\n",
       "      <td>-9.0</td>\n",
       "      <td>-0.03</td>\n",
       "    </tr>\n",
       "  </tbody>\n",
       "</table>\n",
       "</div>"
      ],
      "text/plain": [
       "      position  win_rate  goal_rate  clean_sheet  chance\n",
       "1179       4.0 -0.052632       0.00         -4.0   -0.16\n",
       "1180     -11.0  0.131579       0.13          2.0    0.32\n",
       "1181      -8.0  0.105263       0.21          4.0    0.06\n",
       "1182       2.0 -0.131579      -0.13        -10.0   -0.21\n",
       "1183       6.0  0.026316       0.08         -9.0   -0.03"
      ]
     },
     "execution_count": 43,
     "metadata": {},
     "output_type": "execute_result"
    }
   ],
   "source": [
    "match_data.head()"
   ]
  },
  {
   "cell_type": "code",
   "execution_count": 44,
   "metadata": {},
   "outputs": [
    {
     "data": {
      "text/plain": [
       "0                  Fulham vs Manchester City\n",
       "1    Brighton and Hove Albion vs Southampton\n",
       "2         Burnley vs Wolverhampton Wanderers\n",
       "3        Crystal Palace vs Huddersfield Town\n",
       "4          Leicester City vs AFC Bournemouth\n",
       "dtype: object"
      ]
     },
     "execution_count": 44,
     "metadata": {},
     "output_type": "execute_result"
    }
   ],
   "source": [
    "target_name.head()"
   ]
  },
  {
   "cell_type": "code",
   "execution_count": 45,
   "metadata": {},
   "outputs": [
    {
     "data": {
      "text/html": [
       "<div>\n",
       "<style scoped>\n",
       "    .dataframe tbody tr th:only-of-type {\n",
       "        vertical-align: middle;\n",
       "    }\n",
       "\n",
       "    .dataframe tbody tr th {\n",
       "        vertical-align: top;\n",
       "    }\n",
       "\n",
       "    .dataframe thead th {\n",
       "        text-align: right;\n",
       "    }\n",
       "</style>\n",
       "<table border=\"1\" class=\"dataframe\">\n",
       "  <thead>\n",
       "    <tr style=\"text-align: right;\">\n",
       "      <th></th>\n",
       "      <th>position</th>\n",
       "      <th>win_rate</th>\n",
       "      <th>goal_rate</th>\n",
       "      <th>clean_sheet</th>\n",
       "      <th>chance</th>\n",
       "    </tr>\n",
       "  </thead>\n",
       "  <tbody>\n",
       "    <tr>\n",
       "      <th>count</th>\n",
       "      <td>21.000000</td>\n",
       "      <td>21.000000</td>\n",
       "      <td>21.000000</td>\n",
       "      <td>21.000000</td>\n",
       "      <td>21.000000</td>\n",
       "    </tr>\n",
       "    <tr>\n",
       "      <th>mean</th>\n",
       "      <td>-0.380952</td>\n",
       "      <td>0.012698</td>\n",
       "      <td>0.022381</td>\n",
       "      <td>0.142857</td>\n",
       "      <td>0.052381</td>\n",
       "    </tr>\n",
       "    <tr>\n",
       "      <th>std</th>\n",
       "      <td>9.113047</td>\n",
       "      <td>0.297168</td>\n",
       "      <td>0.788954</td>\n",
       "      <td>5.179630</td>\n",
       "      <td>0.833486</td>\n",
       "    </tr>\n",
       "    <tr>\n",
       "      <th>min</th>\n",
       "      <td>-16.000000</td>\n",
       "      <td>-0.670968</td>\n",
       "      <td>-1.690000</td>\n",
       "      <td>-12.000000</td>\n",
       "      <td>-1.570000</td>\n",
       "    </tr>\n",
       "    <tr>\n",
       "      <th>25%</th>\n",
       "      <td>-6.000000</td>\n",
       "      <td>-0.166667</td>\n",
       "      <td>-0.660000</td>\n",
       "      <td>-2.000000</td>\n",
       "      <td>-0.470000</td>\n",
       "    </tr>\n",
       "    <tr>\n",
       "      <th>50%</th>\n",
       "      <td>-2.000000</td>\n",
       "      <td>0.075269</td>\n",
       "      <td>-0.030000</td>\n",
       "      <td>0.000000</td>\n",
       "      <td>0.030000</td>\n",
       "    </tr>\n",
       "    <tr>\n",
       "      <th>75%</th>\n",
       "      <td>7.000000</td>\n",
       "      <td>0.203226</td>\n",
       "      <td>0.530000</td>\n",
       "      <td>4.000000</td>\n",
       "      <td>0.610000</td>\n",
       "    </tr>\n",
       "    <tr>\n",
       "      <th>max</th>\n",
       "      <td>17.000000</td>\n",
       "      <td>0.533333</td>\n",
       "      <td>1.730000</td>\n",
       "      <td>7.000000</td>\n",
       "      <td>1.970000</td>\n",
       "    </tr>\n",
       "  </tbody>\n",
       "</table>\n",
       "</div>"
      ],
      "text/plain": [
       "        position   win_rate  goal_rate  clean_sheet     chance\n",
       "count  21.000000  21.000000  21.000000    21.000000  21.000000\n",
       "mean   -0.380952   0.012698   0.022381     0.142857   0.052381\n",
       "std     9.113047   0.297168   0.788954     5.179630   0.833486\n",
       "min   -16.000000  -0.670968  -1.690000   -12.000000  -1.570000\n",
       "25%    -6.000000  -0.166667  -0.660000    -2.000000  -0.470000\n",
       "50%    -2.000000   0.075269  -0.030000     0.000000   0.030000\n",
       "75%     7.000000   0.203226   0.530000     4.000000   0.610000\n",
       "max    17.000000   0.533333   1.730000     7.000000   1.970000"
      ]
     },
     "execution_count": 45,
     "metadata": {},
     "output_type": "execute_result"
    }
   ],
   "source": [
    "# target_data['season'] = '201819'\n",
    "target_data.describe()"
   ]
  },
  {
   "cell_type": "code",
   "execution_count": 46,
   "metadata": {},
   "outputs": [],
   "source": [
    "result_rate = [[0]*3 for i in range(len(target_data))]"
   ]
  },
  {
   "cell_type": "code",
   "execution_count": 47,
   "metadata": {},
   "outputs": [],
   "source": [
    "def calculate(arr, i, result, weight):\n",
    "    if result == 'H':\n",
    "        arr[i][0] = arr[i][0] + 1 * weight\n",
    "    elif result == 'D':\n",
    "        arr[i][1] = arr[i][1] + 1 * weight\n",
    "    else:\n",
    "        arr[i][2] = arr[i][2] + 1 * weight\n",
    "    return arr"
   ]
  },
  {
   "cell_type": "code",
   "execution_count": 48,
   "metadata": {},
   "outputs": [
    {
     "name": "stdout",
     "output_type": "stream",
     "text": [
      "['A' 'H' 'D' 'H' 'H' 'H' 'H' 'A' 'H' 'H' 'H' 'A' 'H' 'H' 'H' 'A' 'H' 'A'\n",
      " 'H' 'D' 'H']\n",
      "A => Fulham vs Manchester City\n",
      "H => Brighton and Hove Albion vs Southampton\n",
      "D => Burnley vs Wolverhampton Wanderers\n",
      "H => Crystal Palace vs Huddersfield Town\n",
      "H => Leicester City vs AFC Bournemouth\n",
      "H => Manchester United vs Watford\n",
      "H => West Ham United vs Everton\n",
      "A => Cardiff City vs Chelsea\n",
      "H => Liverpool vs Tottenham Hotspur\n",
      "H => Arsenal vs Newcastle United\n",
      "H => Watford vs Fulham\n",
      "A => Wolverhampton Wanderers vs Manchester United\n",
      "H => Chelsea vs Brighton and Hove Albion\n",
      "H => Manchester City vs Cardiff City\n",
      "H => Tottenham Hotspur vs Crystal Palace\n",
      "A => Southampton vs Liverpool\n",
      "H => AFC Bournemouth vs Burnley\n",
      "A => Huddersfield Town vs Leicester City\n",
      "H => Newcastle United vs Crystal Palace\n",
      "D => Everton vs Arsenal\n",
      "H => Chelsea vs West Ham United\n"
     ]
    }
   ],
   "source": [
    "target_result = lr.predict(target_data)\n",
    "print(target_result)\n",
    "i = 0\n",
    "for result in target_result:\n",
    "    print(\"%s => %s\" % (result, target_name[i]))\n",
    "    calculate(result_rate, i, result, lr_accuracy)\n",
    "    i = i + 1"
   ]
  },
  {
   "cell_type": "code",
   "execution_count": 49,
   "metadata": {},
   "outputs": [
    {
     "name": "stdout",
     "output_type": "stream",
     "text": [
      "['A' 'D' 'A' 'H' 'D' 'H' 'D' 'A' 'H' 'H' 'H' 'D' 'H' 'H' 'H' 'A' 'H' 'A'\n",
      " 'D' 'A' 'H']\n",
      "A => Fulham vs Manchester City\n",
      "D => Brighton and Hove Albion vs Southampton\n",
      "A => Burnley vs Wolverhampton Wanderers\n",
      "H => Crystal Palace vs Huddersfield Town\n",
      "D => Leicester City vs AFC Bournemouth\n",
      "H => Manchester United vs Watford\n",
      "D => West Ham United vs Everton\n",
      "A => Cardiff City vs Chelsea\n",
      "H => Liverpool vs Tottenham Hotspur\n",
      "H => Arsenal vs Newcastle United\n",
      "H => Watford vs Fulham\n",
      "D => Wolverhampton Wanderers vs Manchester United\n",
      "H => Chelsea vs Brighton and Hove Albion\n",
      "H => Manchester City vs Cardiff City\n",
      "H => Tottenham Hotspur vs Crystal Palace\n",
      "A => Southampton vs Liverpool\n",
      "H => AFC Bournemouth vs Burnley\n",
      "A => Huddersfield Town vs Leicester City\n",
      "D => Newcastle United vs Crystal Palace\n",
      "A => Everton vs Arsenal\n",
      "H => Chelsea vs West Ham United\n"
     ]
    }
   ],
   "source": [
    "target_result = gnb.predict(target_data)\n",
    "print(target_result)\n",
    "i = 0\n",
    "for result in target_result:\n",
    "    print(\"%s => %s\" % (result, target_name[i]))\n",
    "    calculate(result_rate, i, result, gnb_accuracy)\n",
    "    i = i + 1"
   ]
  },
  {
   "cell_type": "code",
   "execution_count": 50,
   "metadata": {},
   "outputs": [
    {
     "name": "stdout",
     "output_type": "stream",
     "text": [
      "['A' 'H' 'D' 'H' 'H' 'H' 'H' 'H' 'D' 'H' 'H' 'A' 'H' 'D' 'D' 'A' 'H' 'D'\n",
      " 'H' 'D' 'D']\n",
      "A => Fulham vs Manchester City\n",
      "H => Brighton and Hove Albion vs Southampton\n",
      "D => Burnley vs Wolverhampton Wanderers\n",
      "H => Crystal Palace vs Huddersfield Town\n",
      "H => Leicester City vs AFC Bournemouth\n",
      "H => Manchester United vs Watford\n",
      "H => West Ham United vs Everton\n",
      "H => Cardiff City vs Chelsea\n",
      "D => Liverpool vs Tottenham Hotspur\n",
      "H => Arsenal vs Newcastle United\n",
      "H => Watford vs Fulham\n",
      "A => Wolverhampton Wanderers vs Manchester United\n",
      "H => Chelsea vs Brighton and Hove Albion\n",
      "D => Manchester City vs Cardiff City\n",
      "D => Tottenham Hotspur vs Crystal Palace\n",
      "A => Southampton vs Liverpool\n",
      "H => AFC Bournemouth vs Burnley\n",
      "D => Huddersfield Town vs Leicester City\n",
      "H => Newcastle United vs Crystal Palace\n",
      "D => Everton vs Arsenal\n",
      "D => Chelsea vs West Ham United\n"
     ]
    }
   ],
   "source": [
    "target_result = svc.predict(target_data)\n",
    "print(target_result)\n",
    "i = 0\n",
    "for result in target_result:\n",
    "    print(\"%s => %s\" % (result, target_name[i]))\n",
    "    calculate(result_rate, i, result, svc_accuracy)\n",
    "    i = i + 1"
   ]
  },
  {
   "cell_type": "code",
   "execution_count": 51,
   "metadata": {},
   "outputs": [
    {
     "name": "stdout",
     "output_type": "stream",
     "text": [
      "['A' 'H' 'A' 'H' 'H' 'H' 'H' 'A' 'D' 'H' 'H' 'A' 'H' 'H' 'H' 'A' 'H' 'A'\n",
      " 'H' 'A' 'D']\n",
      "A => Fulham vs Manchester City\n",
      "H => Brighton and Hove Albion vs Southampton\n",
      "A => Burnley vs Wolverhampton Wanderers\n",
      "H => Crystal Palace vs Huddersfield Town\n",
      "H => Leicester City vs AFC Bournemouth\n",
      "H => Manchester United vs Watford\n",
      "H => West Ham United vs Everton\n",
      "A => Cardiff City vs Chelsea\n",
      "D => Liverpool vs Tottenham Hotspur\n",
      "H => Arsenal vs Newcastle United\n",
      "H => Watford vs Fulham\n",
      "A => Wolverhampton Wanderers vs Manchester United\n",
      "H => Chelsea vs Brighton and Hove Albion\n",
      "H => Manchester City vs Cardiff City\n",
      "H => Tottenham Hotspur vs Crystal Palace\n",
      "A => Southampton vs Liverpool\n",
      "H => AFC Bournemouth vs Burnley\n",
      "A => Huddersfield Town vs Leicester City\n",
      "H => Newcastle United vs Crystal Palace\n",
      "A => Everton vs Arsenal\n",
      "D => Chelsea vs West Ham United\n"
     ]
    }
   ],
   "source": [
    "target_result = sgdc.predict(target_data)\n",
    "print(target_result)\n",
    "i = 0\n",
    "for result in target_result:\n",
    "    print(\"%s => %s\" % (result, target_name[i]))\n",
    "    calculate(result_rate, i, result, sgdc_accuracy)\n",
    "    i = i + 1"
   ]
  },
  {
   "cell_type": "code",
   "execution_count": 52,
   "metadata": {},
   "outputs": [
    {
     "name": "stdout",
     "output_type": "stream",
     "text": [
      "['A' 'H' 'D' 'H' 'H' 'H' 'H' 'A' 'H' 'H' 'H' 'A' 'H' 'H' 'H' 'A' 'H' 'A'\n",
      " 'H' 'D' 'H']\n",
      "A => Fulham vs Manchester City\n",
      "H => Brighton and Hove Albion vs Southampton\n",
      "D => Burnley vs Wolverhampton Wanderers\n",
      "H => Crystal Palace vs Huddersfield Town\n",
      "H => Leicester City vs AFC Bournemouth\n",
      "H => Manchester United vs Watford\n",
      "H => West Ham United vs Everton\n",
      "A => Cardiff City vs Chelsea\n",
      "H => Liverpool vs Tottenham Hotspur\n",
      "H => Arsenal vs Newcastle United\n",
      "H => Watford vs Fulham\n",
      "A => Wolverhampton Wanderers vs Manchester United\n",
      "H => Chelsea vs Brighton and Hove Albion\n",
      "H => Manchester City vs Cardiff City\n",
      "H => Tottenham Hotspur vs Crystal Palace\n",
      "A => Southampton vs Liverpool\n",
      "H => AFC Bournemouth vs Burnley\n",
      "A => Huddersfield Town vs Leicester City\n",
      "H => Newcastle United vs Crystal Palace\n",
      "D => Everton vs Arsenal\n",
      "H => Chelsea vs West Ham United\n"
     ]
    }
   ],
   "source": [
    "target_result = lsvc.predict(target_data)\n",
    "print(target_result)\n",
    "i = 0\n",
    "for result in target_result:\n",
    "    print(\"%s => %s\" % (result, target_name[i]))\n",
    "    calculate(result_rate, i, result, lsvc_accuracy)\n",
    "    i = i + 1"
   ]
  },
  {
   "cell_type": "code",
   "execution_count": 53,
   "metadata": {},
   "outputs": [
    {
     "name": "stdout",
     "output_type": "stream",
     "text": [
      "['A' 'H' 'D' 'H' 'A' 'A' 'H' 'D' 'D' 'D' 'H' 'A' 'H' 'D' 'D' 'A' 'H' 'D'\n",
      " 'H' 'A' 'D']\n",
      "A => Fulham vs Manchester City\n",
      "H => Brighton and Hove Albion vs Southampton\n",
      "D => Burnley vs Wolverhampton Wanderers\n",
      "H => Crystal Palace vs Huddersfield Town\n",
      "A => Leicester City vs AFC Bournemouth\n",
      "A => Manchester United vs Watford\n",
      "H => West Ham United vs Everton\n",
      "D => Cardiff City vs Chelsea\n",
      "D => Liverpool vs Tottenham Hotspur\n",
      "D => Arsenal vs Newcastle United\n",
      "H => Watford vs Fulham\n",
      "A => Wolverhampton Wanderers vs Manchester United\n",
      "H => Chelsea vs Brighton and Hove Albion\n",
      "D => Manchester City vs Cardiff City\n",
      "D => Tottenham Hotspur vs Crystal Palace\n",
      "A => Southampton vs Liverpool\n",
      "H => AFC Bournemouth vs Burnley\n",
      "D => Huddersfield Town vs Leicester City\n",
      "H => Newcastle United vs Crystal Palace\n",
      "A => Everton vs Arsenal\n",
      "D => Chelsea vs West Ham United\n"
     ]
    }
   ],
   "source": [
    "target_result = knc.predict(target_data)\n",
    "print(target_result)\n",
    "i = 0\n",
    "for result in target_result:\n",
    "    print(\"%s => %s\" % (result, target_name[i]))\n",
    "    calculate(result_rate, i, result, knc_accuracy)\n",
    "    i = i + 1"
   ]
  },
  {
   "cell_type": "code",
   "execution_count": 54,
   "metadata": {},
   "outputs": [
    {
     "name": "stdout",
     "output_type": "stream",
     "text": [
      "['A' 'H' 'D' 'H' 'H' 'D' 'D' 'D' 'H' 'H' 'H' 'A' 'H' 'D' 'H' 'A' 'H' 'A'\n",
      " 'H' 'A' 'D']\n",
      "A => Fulham vs Manchester City\n",
      "H => Brighton and Hove Albion vs Southampton\n",
      "D => Burnley vs Wolverhampton Wanderers\n",
      "H => Crystal Palace vs Huddersfield Town\n",
      "H => Leicester City vs AFC Bournemouth\n",
      "D => Manchester United vs Watford\n",
      "D => West Ham United vs Everton\n",
      "D => Cardiff City vs Chelsea\n",
      "H => Liverpool vs Tottenham Hotspur\n",
      "H => Arsenal vs Newcastle United\n",
      "H => Watford vs Fulham\n",
      "A => Wolverhampton Wanderers vs Manchester United\n",
      "H => Chelsea vs Brighton and Hove Albion\n",
      "D => Manchester City vs Cardiff City\n",
      "H => Tottenham Hotspur vs Crystal Palace\n",
      "A => Southampton vs Liverpool\n",
      "H => AFC Bournemouth vs Burnley\n",
      "A => Huddersfield Town vs Leicester City\n",
      "H => Newcastle United vs Crystal Palace\n",
      "A => Everton vs Arsenal\n",
      "D => Chelsea vs West Ham United\n"
     ]
    }
   ],
   "source": [
    "target_result = rf.predict(target_data)\n",
    "print(target_result)\n",
    "i = 0\n",
    "for result in target_result:\n",
    "    print(\"%s => %s\" % (result, target_name[i]))\n",
    "    calculate(result_rate, i, result, rf_accuracy)\n",
    "    i = i + 1"
   ]
  },
  {
   "cell_type": "code",
   "execution_count": 55,
   "metadata": {},
   "outputs": [
    {
     "name": "stdout",
     "output_type": "stream",
     "text": [
      "['A' 'D' 'D' 'H' 'H' 'H' 'D' 'H' 'A' 'H' 'H' 'H' 'H' 'H' 'H' 'A' 'D' 'D'\n",
      " 'H' 'A' 'H']\n",
      "A => Fulham vs Manchester City\n",
      "D => Brighton and Hove Albion vs Southampton\n",
      "D => Burnley vs Wolverhampton Wanderers\n",
      "H => Crystal Palace vs Huddersfield Town\n",
      "H => Leicester City vs AFC Bournemouth\n",
      "H => Manchester United vs Watford\n",
      "D => West Ham United vs Everton\n",
      "H => Cardiff City vs Chelsea\n",
      "A => Liverpool vs Tottenham Hotspur\n",
      "H => Arsenal vs Newcastle United\n",
      "H => Watford vs Fulham\n",
      "H => Wolverhampton Wanderers vs Manchester United\n",
      "H => Chelsea vs Brighton and Hove Albion\n",
      "H => Manchester City vs Cardiff City\n",
      "H => Tottenham Hotspur vs Crystal Palace\n",
      "A => Southampton vs Liverpool\n",
      "D => AFC Bournemouth vs Burnley\n",
      "D => Huddersfield Town vs Leicester City\n",
      "H => Newcastle United vs Crystal Palace\n",
      "A => Everton vs Arsenal\n",
      "H => Chelsea vs West Ham United\n"
     ]
    }
   ],
   "source": [
    "target_result = dtc.predict(target_data)\n",
    "print(target_result)\n",
    "i = 0\n",
    "for result in target_result:\n",
    "    print(\"%s => %s\" % (result, target_name[i]))\n",
    "    calculate(result_rate, i, result, dtc_accuracy)\n",
    "    i = i + 1"
   ]
  },
  {
   "cell_type": "code",
   "execution_count": 56,
   "metadata": {},
   "outputs": [
    {
     "name": "stdout",
     "output_type": "stream",
     "text": [
      "[0.00, 0.00, 4.37] => Fulham vs Manchester City\n",
      "[3.32, 1.05, 0.00] => Brighton and Hove Albion vs Southampton\n",
      "[0.00, 3.22, 1.15] => Burnley vs Wolverhampton Wanderers\n",
      "[4.37, 0.00, 0.00] => Crystal Palace vs Huddersfield Town\n",
      "[3.25, 0.58, 0.55] => Leicester City vs AFC Bournemouth\n",
      "[3.32, 0.50, 0.55] => Manchester United vs Watford\n",
      "[2.82, 1.56, 0.00] => West Ham United vs Everton\n",
      "[0.96, 1.05, 2.36] => Cardiff City vs Chelsea\n",
      "[2.30, 1.60, 0.47] => Liverpool vs Tottenham Hotspur\n",
      "[3.83, 0.55, 0.00] => Arsenal vs Newcastle United\n",
      "[4.37, 0.00, 0.00] => Watford vs Fulham\n",
      "[0.47, 0.58, 3.32] => Wolverhampton Wanderers vs Manchester United\n",
      "[4.37, 0.00, 0.00] => Chelsea vs Brighton and Hove Albion\n",
      "[2.84, 1.54, 0.00] => Manchester City vs Cardiff City\n",
      "[3.34, 1.03, 0.00] => Tottenham Hotspur vs Crystal Palace\n",
      "[0.00, 0.00, 4.37] => Southampton vs Liverpool\n",
      "[3.90, 0.47, 0.00] => AFC Bournemouth vs Burnley\n",
      "[0.00, 1.50, 2.87] => Huddersfield Town vs Leicester City\n",
      "[3.79, 0.58, 0.00] => Newcastle United vs Crystal Palace\n",
      "[0.00, 1.70, 2.67] => Everton vs Arsenal\n",
      "[2.27, 2.11, 0.00] => Chelsea vs West Ham United\n"
     ]
    }
   ],
   "source": [
    "i = 0\n",
    "for result in result_rate:\n",
    "    print(\"[%.2f, %.2f, %.2f] => %s\" % (result[0], result[1], result[2], target_name[i]))\n",
    "    i = i + 1"
   ]
  },
  {
   "cell_type": "code",
   "execution_count": null,
   "metadata": {},
   "outputs": [],
   "source": []
  },
  {
   "cell_type": "code",
   "execution_count": null,
   "metadata": {},
   "outputs": [],
   "source": []
  },
  {
   "cell_type": "code",
   "execution_count": null,
   "metadata": {},
   "outputs": [],
   "source": []
  }
 ],
 "metadata": {
  "kernelspec": {
   "display_name": "Python 3",
   "language": "python",
   "name": "python3"
  },
  "language_info": {
   "codemirror_mode": {
    "name": "ipython",
    "version": 3
   },
   "file_extension": ".py",
   "mimetype": "text/x-python",
   "name": "python",
   "nbconvert_exporter": "python",
   "pygments_lexer": "ipython3",
   "version": "3.6.7"
  }
 },
 "nbformat": 4,
 "nbformat_minor": 2
}
